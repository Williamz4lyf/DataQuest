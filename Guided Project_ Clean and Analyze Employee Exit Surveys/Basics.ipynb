{
 "cells": [
  {
   "cell_type": "markdown",
   "source": [
    "# Analysis of Employee Exit Surveys\n",
    "\n",
    "In this project, we'll be analyzing exit surveys from employees of the Department of Education, Training and Employment (DETE) and the Technical and Further Education (TAFE) institute in Queensland, Australia.\n",
    "\n",
    "Our analysis is to determine the following:\n",
    "* Are employees who only worked for the institutes for a short period of time resigning due to some kind of dissatisfaction? What about employees who have been there longer?\n",
    "* Are younger employees resigning due to some kind of dissatisfaction? What about older employees?\n",
    "\n",
    "We will combine the results of both surveys to answers these questions.\n",
    "\n",
    "Below is a preview of relevant columns from the dete_survey.csv:\n",
    "* ID: An id used to identify the participant of the survey\n",
    "* SeparationType: The reason why the person's employment ended\n",
    "* Cease Date: The year or month the person's employment ended\n",
    "* DETE Start Date: The year the person began employment with the DETE\n",
    "Below is a preview of relevant columns from the tafe_survey.csv:\n",
    "* Record ID: An id used to identify the participant of the survey\n",
    "* Reason for ceasing employment: The reason why the person's employment ended\n",
    "* LengthofServiceOverall. Overall Length of Service at Institute (in years): The length of the person's employment (in years)"
   ],
   "metadata": {
    "collapsed": false
   }
  },
  {
   "cell_type": "code",
   "execution_count": 184,
   "metadata": {
    "collapsed": true
   },
   "outputs": [],
   "source": [
    "import warnings\n",
    "warnings.simplefilter(action='ignore')\n",
    "import numpy as np\n",
    "import pandas as pd\n",
    "import matplotlib.pyplot as plt\n",
    "import seaborn as sns\n",
    "\n",
    "%matplotlib inline"
   ]
  },
  {
   "cell_type": "code",
   "execution_count": 137,
   "outputs": [
    {
     "name": "stdout",
     "output_type": "stream",
     "text": [
      "<class 'pandas.core.frame.DataFrame'>\n",
      "RangeIndex: 822 entries, 0 to 821\n",
      "Data columns (total 56 columns):\n",
      " #   Column                               Non-Null Count  Dtype \n",
      "---  ------                               --------------  ----- \n",
      " 0   ID                                   822 non-null    int64 \n",
      " 1   SeparationType                       822 non-null    object\n",
      " 2   Cease Date                           822 non-null    object\n",
      " 3   DETE Start Date                      822 non-null    object\n",
      " 4   Role Start Date                      822 non-null    object\n",
      " 5   Position                             817 non-null    object\n",
      " 6   Classification                       455 non-null    object\n",
      " 7   Region                               822 non-null    object\n",
      " 8   Business Unit                        126 non-null    object\n",
      " 9   Employment Status                    817 non-null    object\n",
      " 10  Career move to public sector         822 non-null    bool  \n",
      " 11  Career move to private sector        822 non-null    bool  \n",
      " 12  Interpersonal conflicts              822 non-null    bool  \n",
      " 13  Job dissatisfaction                  822 non-null    bool  \n",
      " 14  Dissatisfaction with the department  822 non-null    bool  \n",
      " 15  Physical work environment            822 non-null    bool  \n",
      " 16  Lack of recognition                  822 non-null    bool  \n",
      " 17  Lack of job security                 822 non-null    bool  \n",
      " 18  Work location                        822 non-null    bool  \n",
      " 19  Employment conditions                822 non-null    bool  \n",
      " 20  Maternity/family                     822 non-null    bool  \n",
      " 21  Relocation                           822 non-null    bool  \n",
      " 22  Study/Travel                         822 non-null    bool  \n",
      " 23  Ill Health                           822 non-null    bool  \n",
      " 24  Traumatic incident                   822 non-null    bool  \n",
      " 25  Work life balance                    822 non-null    bool  \n",
      " 26  Workload                             822 non-null    bool  \n",
      " 27  None of the above                    822 non-null    bool  \n",
      " 28  Professional Development             808 non-null    object\n",
      " 29  Opportunities for promotion          735 non-null    object\n",
      " 30  Staff morale                         816 non-null    object\n",
      " 31  Workplace issue                      788 non-null    object\n",
      " 32  Physical environment                 817 non-null    object\n",
      " 33  Worklife balance                     815 non-null    object\n",
      " 34  Stress and pressure support          810 non-null    object\n",
      " 35  Performance of supervisor            813 non-null    object\n",
      " 36  Peer support                         812 non-null    object\n",
      " 37  Initiative                           813 non-null    object\n",
      " 38  Skills                               811 non-null    object\n",
      " 39  Coach                                767 non-null    object\n",
      " 40  Career Aspirations                   746 non-null    object\n",
      " 41  Feedback                             792 non-null    object\n",
      " 42  Further PD                           768 non-null    object\n",
      " 43  Communication                        814 non-null    object\n",
      " 44  My say                               812 non-null    object\n",
      " 45  Information                          816 non-null    object\n",
      " 46  Kept informed                        813 non-null    object\n",
      " 47  Wellness programs                    766 non-null    object\n",
      " 48  Health & Safety                      793 non-null    object\n",
      " 49  Gender                               798 non-null    object\n",
      " 50  Age                                  811 non-null    object\n",
      " 51  Aboriginal                           16 non-null     object\n",
      " 52  Torres Strait                        3 non-null      object\n",
      " 53  South Sea                            7 non-null      object\n",
      " 54  Disability                           23 non-null     object\n",
      " 55  NESB                                 32 non-null     object\n",
      "dtypes: bool(18), int64(1), object(37)\n",
      "memory usage: 258.6+ KB\n",
      "None\n"
     ]
    },
    {
     "data": {
      "text/plain": "   ID                    SeparationType Cease Date DETE Start Date  \\\n0   1             Ill Health Retirement    08/2012            1984   \n1   2  Voluntary Early Retirement (VER)    08/2012      Not Stated   \n2   3  Voluntary Early Retirement (VER)    05/2012            2011   \n3   4         Resignation-Other reasons    05/2012            2005   \n4   5                    Age Retirement    05/2012            1970   \n\n  Role Start Date                                      Position  \\\n0            2004                                Public Servant   \n1      Not Stated                                Public Servant   \n2            2011                               Schools Officer   \n3            2006                                       Teacher   \n4            1989  Head of Curriculum/Head of Special Education   \n\n  Classification              Region                      Business Unit  \\\n0        A01-A04      Central Office  Corporate Strategy and Peformance   \n1        AO5-AO7      Central Office  Corporate Strategy and Peformance   \n2            NaN      Central Office               Education Queensland   \n3        Primary  Central Queensland                                NaN   \n4            NaN          South East                                NaN   \n\n     Employment Status  ...  Kept informed  Wellness programs  \\\n0  Permanent Full-time  ...              N                  N   \n1  Permanent Full-time  ...              N                  N   \n2  Permanent Full-time  ...              N                  N   \n3  Permanent Full-time  ...              A                  N   \n4  Permanent Full-time  ...              N                  A   \n\n   Health & Safety  Gender          Age  Aboriginal  Torres Strait  South Sea  \\\n0                N    Male        56-60         NaN            NaN        NaN   \n1                N    Male        56-60         NaN            NaN        NaN   \n2                N    Male  61 or older         NaN            NaN        NaN   \n3                A  Female        36-40         NaN            NaN        NaN   \n4                M  Female  61 or older         NaN            NaN        NaN   \n\n   Disability  NESB  \n0         NaN   Yes  \n1         NaN   NaN  \n2         NaN   NaN  \n3         NaN   NaN  \n4         NaN   NaN  \n\n[5 rows x 56 columns]",
      "text/html": "<div>\n<style scoped>\n    .dataframe tbody tr th:only-of-type {\n        vertical-align: middle;\n    }\n\n    .dataframe tbody tr th {\n        vertical-align: top;\n    }\n\n    .dataframe thead th {\n        text-align: right;\n    }\n</style>\n<table border=\"1\" class=\"dataframe\">\n  <thead>\n    <tr style=\"text-align: right;\">\n      <th></th>\n      <th>ID</th>\n      <th>SeparationType</th>\n      <th>Cease Date</th>\n      <th>DETE Start Date</th>\n      <th>Role Start Date</th>\n      <th>Position</th>\n      <th>Classification</th>\n      <th>Region</th>\n      <th>Business Unit</th>\n      <th>Employment Status</th>\n      <th>...</th>\n      <th>Kept informed</th>\n      <th>Wellness programs</th>\n      <th>Health &amp; Safety</th>\n      <th>Gender</th>\n      <th>Age</th>\n      <th>Aboriginal</th>\n      <th>Torres Strait</th>\n      <th>South Sea</th>\n      <th>Disability</th>\n      <th>NESB</th>\n    </tr>\n  </thead>\n  <tbody>\n    <tr>\n      <th>0</th>\n      <td>1</td>\n      <td>Ill Health Retirement</td>\n      <td>08/2012</td>\n      <td>1984</td>\n      <td>2004</td>\n      <td>Public Servant</td>\n      <td>A01-A04</td>\n      <td>Central Office</td>\n      <td>Corporate Strategy and Peformance</td>\n      <td>Permanent Full-time</td>\n      <td>...</td>\n      <td>N</td>\n      <td>N</td>\n      <td>N</td>\n      <td>Male</td>\n      <td>56-60</td>\n      <td>NaN</td>\n      <td>NaN</td>\n      <td>NaN</td>\n      <td>NaN</td>\n      <td>Yes</td>\n    </tr>\n    <tr>\n      <th>1</th>\n      <td>2</td>\n      <td>Voluntary Early Retirement (VER)</td>\n      <td>08/2012</td>\n      <td>Not Stated</td>\n      <td>Not Stated</td>\n      <td>Public Servant</td>\n      <td>AO5-AO7</td>\n      <td>Central Office</td>\n      <td>Corporate Strategy and Peformance</td>\n      <td>Permanent Full-time</td>\n      <td>...</td>\n      <td>N</td>\n      <td>N</td>\n      <td>N</td>\n      <td>Male</td>\n      <td>56-60</td>\n      <td>NaN</td>\n      <td>NaN</td>\n      <td>NaN</td>\n      <td>NaN</td>\n      <td>NaN</td>\n    </tr>\n    <tr>\n      <th>2</th>\n      <td>3</td>\n      <td>Voluntary Early Retirement (VER)</td>\n      <td>05/2012</td>\n      <td>2011</td>\n      <td>2011</td>\n      <td>Schools Officer</td>\n      <td>NaN</td>\n      <td>Central Office</td>\n      <td>Education Queensland</td>\n      <td>Permanent Full-time</td>\n      <td>...</td>\n      <td>N</td>\n      <td>N</td>\n      <td>N</td>\n      <td>Male</td>\n      <td>61 or older</td>\n      <td>NaN</td>\n      <td>NaN</td>\n      <td>NaN</td>\n      <td>NaN</td>\n      <td>NaN</td>\n    </tr>\n    <tr>\n      <th>3</th>\n      <td>4</td>\n      <td>Resignation-Other reasons</td>\n      <td>05/2012</td>\n      <td>2005</td>\n      <td>2006</td>\n      <td>Teacher</td>\n      <td>Primary</td>\n      <td>Central Queensland</td>\n      <td>NaN</td>\n      <td>Permanent Full-time</td>\n      <td>...</td>\n      <td>A</td>\n      <td>N</td>\n      <td>A</td>\n      <td>Female</td>\n      <td>36-40</td>\n      <td>NaN</td>\n      <td>NaN</td>\n      <td>NaN</td>\n      <td>NaN</td>\n      <td>NaN</td>\n    </tr>\n    <tr>\n      <th>4</th>\n      <td>5</td>\n      <td>Age Retirement</td>\n      <td>05/2012</td>\n      <td>1970</td>\n      <td>1989</td>\n      <td>Head of Curriculum/Head of Special Education</td>\n      <td>NaN</td>\n      <td>South East</td>\n      <td>NaN</td>\n      <td>Permanent Full-time</td>\n      <td>...</td>\n      <td>N</td>\n      <td>A</td>\n      <td>M</td>\n      <td>Female</td>\n      <td>61 or older</td>\n      <td>NaN</td>\n      <td>NaN</td>\n      <td>NaN</td>\n      <td>NaN</td>\n      <td>NaN</td>\n    </tr>\n  </tbody>\n</table>\n<p>5 rows × 56 columns</p>\n</div>"
     },
     "execution_count": 137,
     "metadata": {},
     "output_type": "execute_result"
    }
   ],
   "source": [
    "dete_survey = pd.read_csv('dete_survey.csv')\n",
    "print(dete_survey.info())\n",
    "dete_survey.head()"
   ],
   "metadata": {
    "collapsed": false
   }
  },
  {
   "cell_type": "code",
   "execution_count": 138,
   "outputs": [
    {
     "data": {
      "text/plain": "      Record ID                              Institute  \\\n0  6.341330e+17  Southern Queensland Institute of TAFE   \n1  6.341337e+17            Mount Isa Institute of TAFE   \n2  6.341388e+17            Mount Isa Institute of TAFE   \n3  6.341399e+17            Mount Isa Institute of TAFE   \n4  6.341466e+17  Southern Queensland Institute of TAFE   \n\n                   WorkArea  CESSATION YEAR Reason for ceasing employment  \\\n0  Non-Delivery (corporate)          2010.0              Contract Expired   \n1  Non-Delivery (corporate)          2010.0                    Retirement   \n2       Delivery (teaching)          2010.0                    Retirement   \n3  Non-Delivery (corporate)          2010.0                   Resignation   \n4       Delivery (teaching)          2010.0                   Resignation   \n\n  Contributing Factors. Career Move - Public Sector   \\\n0                                                NaN   \n1                                                  -   \n2                                                  -   \n3                                                  -   \n4                                                  -   \n\n  Contributing Factors. Career Move - Private Sector   \\\n0                                                NaN    \n1                                                  -    \n2                                                  -    \n3                                                  -    \n4                       Career Move - Private Sector    \n\n  Contributing Factors. Career Move - Self-employment  \\\n0                                                NaN    \n1                                                  -    \n2                                                  -    \n3                                                  -    \n4                                                  -    \n\n  Contributing Factors. Ill Health Contributing Factors. Maternity/Family  \\\n0                              NaN                                    NaN   \n1                                -                                      -   \n2                                -                                      -   \n3                                -                                      -   \n4                                -                                      -   \n\n   ...  \\\n0  ...   \n1  ...   \n2  ...   \n3  ...   \n4  ...   \n\n  Workplace. Topic:Does your workplace promote a work culture free from all forms of unlawful discrimination?  \\\n0                                                Yes                                                            \n1                                                Yes                                                            \n2                                                Yes                                                            \n3                                                Yes                                                            \n4                                                Yes                                                            \n\n  Workplace. Topic:Does your workplace promote and practice the principles of employment equity?  \\\n0                                                Yes                                               \n1                                                Yes                                               \n2                                                Yes                                               \n3                                                Yes                                               \n4                                                Yes                                               \n\n  Workplace. Topic:Does your workplace value the diversity of its employees?  \\\n0                                                Yes                           \n1                                                Yes                           \n2                                                Yes                           \n3                                                Yes                           \n4                                                Yes                           \n\n  Workplace. Topic:Would you recommend the Institute as an employer to others?  \\\n0                                                Yes                             \n1                                                Yes                             \n2                                                Yes                             \n3                                                Yes                             \n4                                                Yes                             \n\n  Gender. What is your Gender? CurrentAge. Current Age  \\\n0                       Female                  26  30   \n1                          NaN                     NaN   \n2                          NaN                     NaN   \n3                          NaN                     NaN   \n4                         Male                  41  45   \n\n  Employment Type. Employment Type Classification. Classification  \\\n0              Temporary Full-time            Administration (AO)   \n1                              NaN                            NaN   \n2                              NaN                            NaN   \n3                              NaN                            NaN   \n4              Permanent Full-time        Teacher (including LVT)   \n\n  LengthofServiceOverall. Overall Length of Service at Institute (in years)  \\\n0                                                1-2                          \n1                                                NaN                          \n2                                                NaN                          \n3                                                NaN                          \n4                                                3-4                          \n\n  LengthofServiceCurrent. Length of Service at current workplace (in years)  \n0                                                1-2                         \n1                                                NaN                         \n2                                                NaN                         \n3                                                NaN                         \n4                                                3-4                         \n\n[5 rows x 72 columns]",
      "text/html": "<div>\n<style scoped>\n    .dataframe tbody tr th:only-of-type {\n        vertical-align: middle;\n    }\n\n    .dataframe tbody tr th {\n        vertical-align: top;\n    }\n\n    .dataframe thead th {\n        text-align: right;\n    }\n</style>\n<table border=\"1\" class=\"dataframe\">\n  <thead>\n    <tr style=\"text-align: right;\">\n      <th></th>\n      <th>Record ID</th>\n      <th>Institute</th>\n      <th>WorkArea</th>\n      <th>CESSATION YEAR</th>\n      <th>Reason for ceasing employment</th>\n      <th>Contributing Factors. Career Move - Public Sector</th>\n      <th>Contributing Factors. Career Move - Private Sector</th>\n      <th>Contributing Factors. Career Move - Self-employment</th>\n      <th>Contributing Factors. Ill Health</th>\n      <th>Contributing Factors. Maternity/Family</th>\n      <th>...</th>\n      <th>Workplace. Topic:Does your workplace promote a work culture free from all forms of unlawful discrimination?</th>\n      <th>Workplace. Topic:Does your workplace promote and practice the principles of employment equity?</th>\n      <th>Workplace. Topic:Does your workplace value the diversity of its employees?</th>\n      <th>Workplace. Topic:Would you recommend the Institute as an employer to others?</th>\n      <th>Gender. What is your Gender?</th>\n      <th>CurrentAge. Current Age</th>\n      <th>Employment Type. Employment Type</th>\n      <th>Classification. Classification</th>\n      <th>LengthofServiceOverall. Overall Length of Service at Institute (in years)</th>\n      <th>LengthofServiceCurrent. Length of Service at current workplace (in years)</th>\n    </tr>\n  </thead>\n  <tbody>\n    <tr>\n      <th>0</th>\n      <td>6.341330e+17</td>\n      <td>Southern Queensland Institute of TAFE</td>\n      <td>Non-Delivery (corporate)</td>\n      <td>2010.0</td>\n      <td>Contract Expired</td>\n      <td>NaN</td>\n      <td>NaN</td>\n      <td>NaN</td>\n      <td>NaN</td>\n      <td>NaN</td>\n      <td>...</td>\n      <td>Yes</td>\n      <td>Yes</td>\n      <td>Yes</td>\n      <td>Yes</td>\n      <td>Female</td>\n      <td>26  30</td>\n      <td>Temporary Full-time</td>\n      <td>Administration (AO)</td>\n      <td>1-2</td>\n      <td>1-2</td>\n    </tr>\n    <tr>\n      <th>1</th>\n      <td>6.341337e+17</td>\n      <td>Mount Isa Institute of TAFE</td>\n      <td>Non-Delivery (corporate)</td>\n      <td>2010.0</td>\n      <td>Retirement</td>\n      <td>-</td>\n      <td>-</td>\n      <td>-</td>\n      <td>-</td>\n      <td>-</td>\n      <td>...</td>\n      <td>Yes</td>\n      <td>Yes</td>\n      <td>Yes</td>\n      <td>Yes</td>\n      <td>NaN</td>\n      <td>NaN</td>\n      <td>NaN</td>\n      <td>NaN</td>\n      <td>NaN</td>\n      <td>NaN</td>\n    </tr>\n    <tr>\n      <th>2</th>\n      <td>6.341388e+17</td>\n      <td>Mount Isa Institute of TAFE</td>\n      <td>Delivery (teaching)</td>\n      <td>2010.0</td>\n      <td>Retirement</td>\n      <td>-</td>\n      <td>-</td>\n      <td>-</td>\n      <td>-</td>\n      <td>-</td>\n      <td>...</td>\n      <td>Yes</td>\n      <td>Yes</td>\n      <td>Yes</td>\n      <td>Yes</td>\n      <td>NaN</td>\n      <td>NaN</td>\n      <td>NaN</td>\n      <td>NaN</td>\n      <td>NaN</td>\n      <td>NaN</td>\n    </tr>\n    <tr>\n      <th>3</th>\n      <td>6.341399e+17</td>\n      <td>Mount Isa Institute of TAFE</td>\n      <td>Non-Delivery (corporate)</td>\n      <td>2010.0</td>\n      <td>Resignation</td>\n      <td>-</td>\n      <td>-</td>\n      <td>-</td>\n      <td>-</td>\n      <td>-</td>\n      <td>...</td>\n      <td>Yes</td>\n      <td>Yes</td>\n      <td>Yes</td>\n      <td>Yes</td>\n      <td>NaN</td>\n      <td>NaN</td>\n      <td>NaN</td>\n      <td>NaN</td>\n      <td>NaN</td>\n      <td>NaN</td>\n    </tr>\n    <tr>\n      <th>4</th>\n      <td>6.341466e+17</td>\n      <td>Southern Queensland Institute of TAFE</td>\n      <td>Delivery (teaching)</td>\n      <td>2010.0</td>\n      <td>Resignation</td>\n      <td>-</td>\n      <td>Career Move - Private Sector</td>\n      <td>-</td>\n      <td>-</td>\n      <td>-</td>\n      <td>...</td>\n      <td>Yes</td>\n      <td>Yes</td>\n      <td>Yes</td>\n      <td>Yes</td>\n      <td>Male</td>\n      <td>41  45</td>\n      <td>Permanent Full-time</td>\n      <td>Teacher (including LVT)</td>\n      <td>3-4</td>\n      <td>3-4</td>\n    </tr>\n  </tbody>\n</table>\n<p>5 rows × 72 columns</p>\n</div>"
     },
     "execution_count": 138,
     "metadata": {},
     "output_type": "execute_result"
    }
   ],
   "source": [
    "tafe_survey = pd.read_csv('tafe_survey.csv')\n",
    "tafe_survey.head()"
   ],
   "metadata": {
    "collapsed": false
   }
  },
  {
   "cell_type": "code",
   "execution_count": 139,
   "outputs": [
    {
     "name": "stdout",
     "output_type": "stream",
     "text": [
      "<class 'pandas.core.frame.DataFrame'>\n",
      "RangeIndex: 702 entries, 0 to 701\n",
      "Data columns (total 72 columns):\n",
      " #   Column                                                                                                                                                         Non-Null Count  Dtype  \n",
      "---  ------                                                                                                                                                         --------------  -----  \n",
      " 0   Record ID                                                                                                                                                      702 non-null    float64\n",
      " 1   Institute                                                                                                                                                      702 non-null    object \n",
      " 2   WorkArea                                                                                                                                                       702 non-null    object \n",
      " 3   CESSATION YEAR                                                                                                                                                 695 non-null    float64\n",
      " 4   Reason for ceasing employment                                                                                                                                  701 non-null    object \n",
      " 5   Contributing Factors. Career Move - Public Sector                                                                                                              437 non-null    object \n",
      " 6   Contributing Factors. Career Move - Private Sector                                                                                                             437 non-null    object \n",
      " 7   Contributing Factors. Career Move - Self-employment                                                                                                            437 non-null    object \n",
      " 8   Contributing Factors. Ill Health                                                                                                                               437 non-null    object \n",
      " 9   Contributing Factors. Maternity/Family                                                                                                                         437 non-null    object \n",
      " 10  Contributing Factors. Dissatisfaction                                                                                                                          437 non-null    object \n",
      " 11  Contributing Factors. Job Dissatisfaction                                                                                                                      437 non-null    object \n",
      " 12  Contributing Factors. Interpersonal Conflict                                                                                                                   437 non-null    object \n",
      " 13  Contributing Factors. Study                                                                                                                                    437 non-null    object \n",
      " 14  Contributing Factors. Travel                                                                                                                                   437 non-null    object \n",
      " 15  Contributing Factors. Other                                                                                                                                    437 non-null    object \n",
      " 16  Contributing Factors. NONE                                                                                                                                     437 non-null    object \n",
      " 17  Main Factor. Which of these was the main factor for leaving?                                                                                                   113 non-null    object \n",
      " 18  InstituteViews. Topic:1. I feel the senior leadership had a clear vision and direction                                                                         608 non-null    object \n",
      " 19  InstituteViews. Topic:2. I was given access to skills training to help me do my job better                                                                     613 non-null    object \n",
      " 20  InstituteViews. Topic:3. I was given adequate opportunities for personal development                                                                           610 non-null    object \n",
      " 21  InstituteViews. Topic:4. I was given adequate opportunities for promotion within %Institute]Q25LBL%                                                            608 non-null    object \n",
      " 22  InstituteViews. Topic:5. I felt the salary for the job was right for the responsibilities I had                                                                615 non-null    object \n",
      " 23  InstituteViews. Topic:6. The organisation recognised when staff did good work                                                                                  607 non-null    object \n",
      " 24  InstituteViews. Topic:7. Management was generally supportive of me                                                                                             614 non-null    object \n",
      " 25  InstituteViews. Topic:8. Management was generally supportive of my team                                                                                        608 non-null    object \n",
      " 26  InstituteViews. Topic:9. I was kept informed of the changes in the organisation which would affect me                                                          610 non-null    object \n",
      " 27  InstituteViews. Topic:10. Staff morale was positive within the Institute                                                                                       602 non-null    object \n",
      " 28  InstituteViews. Topic:11. If I had a workplace issue it was dealt with quickly                                                                                 601 non-null    object \n",
      " 29  InstituteViews. Topic:12. If I had a workplace issue it was dealt with efficiently                                                                             597 non-null    object \n",
      " 30  InstituteViews. Topic:13. If I had a workplace issue it was dealt with discreetly                                                                              601 non-null    object \n",
      " 31  WorkUnitViews. Topic:14. I was satisfied with the quality of the management and supervision within my work unit                                                609 non-null    object \n",
      " 32  WorkUnitViews. Topic:15. I worked well with my colleagues                                                                                                      605 non-null    object \n",
      " 33  WorkUnitViews. Topic:16. My job was challenging and interesting                                                                                                607 non-null    object \n",
      " 34  WorkUnitViews. Topic:17. I was encouraged to use my initiative in the course of my work                                                                        610 non-null    object \n",
      " 35  WorkUnitViews. Topic:18. I had sufficient contact with other people in my job                                                                                  613 non-null    object \n",
      " 36  WorkUnitViews. Topic:19. I was given adequate support and co-operation by my peers to enable me to do my job                                                   609 non-null    object \n",
      " 37  WorkUnitViews. Topic:20. I was able to use the full range of my skills in my job                                                                               609 non-null    object \n",
      " 38  WorkUnitViews. Topic:21. I was able to use the full range of my abilities in my job. ; Category:Level of Agreement; Question:YOUR VIEWS ABOUT YOUR WORK UNIT]  608 non-null    object \n",
      " 39  WorkUnitViews. Topic:22. I was able to use the full range of my knowledge in my job                                                                            608 non-null    object \n",
      " 40  WorkUnitViews. Topic:23. My job provided sufficient variety                                                                                                    611 non-null    object \n",
      " 41  WorkUnitViews. Topic:24. I was able to cope with the level of stress and pressure in my job                                                                    610 non-null    object \n",
      " 42  WorkUnitViews. Topic:25. My job allowed me to balance the demands of work and family to my satisfaction                                                        611 non-null    object \n",
      " 43  WorkUnitViews. Topic:26. My supervisor gave me adequate personal recognition and feedback on my performance                                                    606 non-null    object \n",
      " 44  WorkUnitViews. Topic:27. My working environment was satisfactory e.g. sufficient space, good lighting, suitable seating and working area                       610 non-null    object \n",
      " 45  WorkUnitViews. Topic:28. I was given the opportunity to mentor and coach others in order for me to pass on my skills and knowledge prior to my cessation date  609 non-null    object \n",
      " 46  WorkUnitViews. Topic:29. There was adequate communication between staff in my unit                                                                             603 non-null    object \n",
      " 47  WorkUnitViews. Topic:30. Staff morale was positive within my work unit                                                                                         606 non-null    object \n",
      " 48  Induction. Did you undertake Workplace Induction?                                                                                                              619 non-null    object \n",
      " 49  InductionInfo. Topic:Did you undertake a Corporate Induction?                                                                                                  432 non-null    object \n",
      " 50  InductionInfo. Topic:Did you undertake a Institute Induction?                                                                                                  483 non-null    object \n",
      " 51  InductionInfo. Topic: Did you undertake Team Induction?                                                                                                        440 non-null    object \n",
      " 52  InductionInfo. Face to Face Topic:Did you undertake a Corporate Induction; Category:How it was conducted?                                                      555 non-null    object \n",
      " 53  InductionInfo. On-line Topic:Did you undertake a Corporate Induction; Category:How it was conducted?                                                           555 non-null    object \n",
      " 54  InductionInfo. Induction Manual Topic:Did you undertake a Corporate Induction?                                                                                 555 non-null    object \n",
      " 55  InductionInfo. Face to Face Topic:Did you undertake a Institute Induction?                                                                                     530 non-null    object \n",
      " 56  InductionInfo. On-line Topic:Did you undertake a Institute Induction?                                                                                          555 non-null    object \n",
      " 57  InductionInfo. Induction Manual Topic:Did you undertake a Institute Induction?                                                                                 553 non-null    object \n",
      " 58  InductionInfo. Face to Face Topic: Did you undertake Team Induction; Category?                                                                                 555 non-null    object \n",
      " 59  InductionInfo. On-line Topic: Did you undertake Team Induction?process you undertook and how it was conducted.]                                                555 non-null    object \n",
      " 60  InductionInfo. Induction Manual Topic: Did you undertake Team Induction?                                                                                       555 non-null    object \n",
      " 61  Workplace. Topic:Did you and your Manager develop a Performance and Professional Development Plan (PPDP)?                                                      608 non-null    object \n",
      " 62  Workplace. Topic:Does your workplace promote a work culture free from all forms of unlawful discrimination?                                                    594 non-null    object \n",
      " 63  Workplace. Topic:Does your workplace promote and practice the principles of employment equity?                                                                 587 non-null    object \n",
      " 64  Workplace. Topic:Does your workplace value the diversity of its employees?                                                                                     586 non-null    object \n",
      " 65  Workplace. Topic:Would you recommend the Institute as an employer to others?                                                                                   581 non-null    object \n",
      " 66  Gender. What is your Gender?                                                                                                                                   596 non-null    object \n",
      " 67  CurrentAge. Current Age                                                                                                                                        596 non-null    object \n",
      " 68  Employment Type. Employment Type                                                                                                                               596 non-null    object \n",
      " 69  Classification. Classification                                                                                                                                 596 non-null    object \n",
      " 70  LengthofServiceOverall. Overall Length of Service at Institute (in years)                                                                                      596 non-null    object \n",
      " 71  LengthofServiceCurrent. Length of Service at current workplace (in years)                                                                                      596 non-null    object \n",
      "dtypes: float64(2), object(70)\n",
      "memory usage: 395.0+ KB\n"
     ]
    }
   ],
   "source": [
    "tafe_survey.info()"
   ],
   "metadata": {
    "collapsed": false
   }
  },
  {
   "cell_type": "code",
   "execution_count": 140,
   "outputs": [
    {
     "data": {
      "text/plain": "ID                                       0\nSeparationType                           0\nCease Date                               0\nDETE Start Date                          0\nRole Start Date                          0\nPosition                                 5\nClassification                         367\nRegion                                   0\nBusiness Unit                          696\nEmployment Status                        5\nCareer move to public sector             0\nCareer move to private sector            0\nInterpersonal conflicts                  0\nJob dissatisfaction                      0\nDissatisfaction with the department      0\nPhysical work environment                0\nLack of recognition                      0\nLack of job security                     0\nWork location                            0\nEmployment conditions                    0\nMaternity/family                         0\nRelocation                               0\nStudy/Travel                             0\nIll Health                               0\nTraumatic incident                       0\nWork life balance                        0\nWorkload                                 0\nNone of the above                        0\nProfessional Development                14\nOpportunities for promotion             87\nStaff morale                             6\nWorkplace issue                         34\nPhysical environment                     5\nWorklife balance                         7\nStress and pressure support             12\nPerformance of supervisor                9\nPeer support                            10\nInitiative                               9\nSkills                                  11\nCoach                                   55\nCareer Aspirations                      76\nFeedback                                30\nFurther PD                              54\nCommunication                            8\nMy say                                  10\nInformation                              6\nKept informed                            9\nWellness programs                       56\nHealth & Safety                         29\nGender                                  24\nAge                                     11\nAboriginal                             806\nTorres Strait                          819\nSouth Sea                              815\nDisability                             799\nNESB                                   790\ndtype: int64"
     },
     "execution_count": 140,
     "metadata": {},
     "output_type": "execute_result"
    }
   ],
   "source": [
    "dete_survey.isnull().sum()"
   ],
   "metadata": {
    "collapsed": false
   }
  },
  {
   "cell_type": "code",
   "execution_count": 141,
   "outputs": [
    {
     "data": {
      "text/plain": "Record ID                                                                      0\nInstitute                                                                      0\nWorkArea                                                                       0\nCESSATION YEAR                                                                 7\nReason for ceasing employment                                                  1\n                                                                            ... \nCurrentAge. Current Age                                                      106\nEmployment Type. Employment Type                                             106\nClassification. Classification                                               106\nLengthofServiceOverall. Overall Length of Service at Institute (in years)    106\nLengthofServiceCurrent. Length of Service at current workplace (in years)    106\nLength: 72, dtype: int64"
     },
     "execution_count": 141,
     "metadata": {},
     "output_type": "execute_result"
    }
   ],
   "source": [
    "tafe_survey.isnull().sum()"
   ],
   "metadata": {
    "collapsed": false
   }
  },
  {
   "cell_type": "code",
   "execution_count": 142,
   "outputs": [],
   "source": [
    "# List of relevant columns\n",
    "dete_cols = ['ID', 'SeparationType', 'Cease Date', 'DETE Start Date']\n",
    "tafe_cols = ['Record ID', 'Reason for ceasing employment', 'LengthofServiceOverall. Overall Length of Service at Institute (in years)']"
   ],
   "metadata": {
    "collapsed": false
   }
  },
  {
   "cell_type": "code",
   "execution_count": 143,
   "outputs": [
    {
     "data": {
      "text/plain": "Age Retirement                          285\nResignation-Other reasons               150\nResignation-Other employer               91\nResignation-Move overseas/interstate     70\nVoluntary Early Retirement (VER)         67\nIll Health Retirement                    61\nOther                                    49\nContract Expired                         34\nTermination                              15\nName: SeparationType, dtype: int64"
     },
     "execution_count": 143,
     "metadata": {},
     "output_type": "execute_result"
    }
   ],
   "source": [
    "dete_survey[dete_cols[1]].value_counts()"
   ],
   "metadata": {
    "collapsed": false
   }
  },
  {
   "cell_type": "code",
   "execution_count": 144,
   "outputs": [
    {
     "data": {
      "text/plain": "2012          344\n2013          200\n01/2014        43\n12/2013        40\nNot Stated     34\n09/2013        34\n06/2013        27\n07/2013        22\n10/2013        20\n11/2013        16\n08/2013        12\n05/2013         7\n05/2012         6\n04/2014         2\n07/2014         2\n08/2012         2\n04/2013         2\n02/2014         2\n11/2012         1\n09/2010         1\n2010            1\n2014            1\n07/2012         1\n09/2014         1\n07/2006         1\nName: Cease Date, dtype: int64"
     },
     "execution_count": 144,
     "metadata": {},
     "output_type": "execute_result"
    }
   ],
   "source": [
    "dete_survey[dete_cols[2]].value_counts()"
   ],
   "metadata": {
    "collapsed": false
   }
  },
  {
   "cell_type": "code",
   "execution_count": 145,
   "outputs": [
    {
     "data": {
      "text/plain": "Not Stated    73\n2011          40\n2007          34\n2008          31\n2010          27\n2012          27\n2009          24\n2006          23\n1970          21\n2013          21\n1975          21\n2005          20\n1990          20\n1996          19\n1999          19\n2000          18\n1992          18\n2004          18\n1991          18\n1989          17\n1976          15\n2002          15\n1978          15\n2003          15\n1988          15\n1974          14\n1980          14\n1995          14\n1998          14\n1997          14\n1979          14\n1993          13\n1986          12\n1972          12\n1977          11\n1971          10\n2001          10\n1984          10\n1969          10\n1994          10\n1981           9\n1983           9\n1985           8\n1973           8\n1987           7\n1963           4\n1982           4\n1968           3\n1967           2\n1966           1\n1965           1\nName: DETE Start Date, dtype: int64"
     },
     "execution_count": 145,
     "metadata": {},
     "output_type": "execute_result"
    }
   ],
   "source": [
    "dete_survey[dete_cols[3]].value_counts()"
   ],
   "metadata": {
    "collapsed": false
   }
  },
  {
   "cell_type": "code",
   "execution_count": 146,
   "outputs": [
    {
     "data": {
      "text/plain": "Resignation                 340\nContract Expired            127\nRetrenchment/ Redundancy    104\nRetirement                   82\nTransfer                     25\nTermination                  23\nName: Reason for ceasing employment, dtype: int64"
     },
     "execution_count": 146,
     "metadata": {},
     "output_type": "execute_result"
    }
   ],
   "source": [
    "tafe_survey[tafe_cols[1]].value_counts()"
   ],
   "metadata": {
    "collapsed": false
   }
  },
  {
   "cell_type": "code",
   "execution_count": 147,
   "outputs": [
    {
     "data": {
      "text/plain": "Less than 1 year      147\n1-2                   102\n3-4                    96\n11-20                  89\nMore than 20 years     71\n5-6                    48\n7-10                   43\nName: LengthofServiceOverall. Overall Length of Service at Institute (in years), dtype: int64"
     },
     "execution_count": 147,
     "metadata": {},
     "output_type": "execute_result"
    }
   ],
   "source": [
    "tafe_survey[tafe_cols[2]].value_counts()"
   ],
   "metadata": {
    "collapsed": false
   }
  },
  {
   "cell_type": "markdown",
   "source": [
    "The DETE dataset contains 822 records and 56 fields. The datatypes are predominantly object and bool, although some columns are datetime or numeric. From the head of the dataset, there are instances of missing data. The TAFE dataset contains 702 records with 72 columns. The datatypes are either float or object. There are few potential bool columns that are registered as object datatype because the record is in a yes/no format.\n",
    "\n",
    "Both datasets have columns with null data. We've highlighted the relevant columns in lists in order to conduct analysis on unique values in the columns. In the DETE dataset, 'SeparationType' column has 9 unique values, 'Cease Date' has 25 unique values, and 'DETE Start Date' has 51 unique values. In the TAFE dataset, 'Reason for ceasing employment' has 6 unique values and 'LengthofServiceOverall' has 7 unique values."
   ],
   "metadata": {
    "collapsed": false
   }
  },
  {
   "cell_type": "markdown",
   "source": [
    "### Identify Missing Values and Drop Unnecessary Columns\n",
    "\n",
    "The DETE datasest contains 'Not Stated' values that indicate values are missing. These need to be represented as null values. We will also be dropping columns from both datasets that are not needed in our analysis."
   ],
   "metadata": {
    "collapsed": false
   }
  },
  {
   "cell_type": "code",
   "execution_count": 148,
   "outputs": [],
   "source": [
    "dete_survey_updated = pd.read_csv('dete_survey.csv', na_values='Not Stated')\n",
    "dete_survey_updated.drop(dete_survey_updated.columns[28:49], axis=1, inplace=True)\n",
    "\n",
    "tafe_survey_updated = tafe_survey.drop(tafe_survey.columns[17:66], axis=1)"
   ],
   "metadata": {
    "collapsed": false
   }
  },
  {
   "cell_type": "markdown",
   "source": [
    "### Clean Column Names\n",
    "There are a number of similar columns across both datasets. We will clean and rename the column names in the DETE dataset into snake case format. We will also convert similar columns in the TAFE dataset to their corresponding names in the DETE dataset."
   ],
   "metadata": {
    "collapsed": false
   }
  },
  {
   "cell_type": "code",
   "execution_count": 149,
   "outputs": [
    {
     "data": {
      "text/plain": "Index(['id', 'separationtype', 'cease_date', 'dete_start_date',\n       'role_start_date', 'position', 'classification', 'region',\n       'business_unit', 'employment_status', 'career_move_to_public_sector',\n       'career_move_to_private_sector', 'interpersonal_conflicts',\n       'job_dissatisfaction', 'dissatisfaction_with_the_department',\n       'physical_work_environment', 'lack_of_recognition',\n       'lack_of_job_security', 'work_location', 'employment_conditions',\n       'maternity/family', 'relocation', 'study/travel', 'ill_health',\n       'traumatic_incident', 'work_life_balance', 'workload',\n       'none_of_the_above', 'gender', 'age', 'aboriginal', 'torres_strait',\n       'south_sea', 'disability', 'nesb'],\n      dtype='object')"
     },
     "execution_count": 149,
     "metadata": {},
     "output_type": "execute_result"
    }
   ],
   "source": [
    "dete_survey_updated.columns = dete_survey_updated.columns.str.replace('\\s+', '_').str.strip().str.lower()\n",
    "dete_survey_updated.columns"
   ],
   "metadata": {
    "collapsed": false
   }
  },
  {
   "cell_type": "code",
   "execution_count": 150,
   "outputs": [],
   "source": [
    "new_cols = {'Record ID': 'id', 'CESSATION YEAR': 'cease_date',\n",
    "            'Reason for ceasing employment': 'separationtype',\n",
    "            'Gender. What is your Gender?': 'gender',\n",
    "            'CurrentAge. Current Age': 'age',\n",
    "            'Employment Type. Employment Type': 'employment_status', 'Classification. Classification': 'position',\n",
    "            'LengthofServiceOverall. Overall Length of Service at Institute (in years)': 'institute_service',\n",
    "            'LengthofServiceCurrent. Length of Service at current workplace (in years)': 'role_service'}"
   ],
   "metadata": {
    "collapsed": false
   }
  },
  {
   "cell_type": "code",
   "execution_count": 151,
   "outputs": [
    {
     "data": {
      "text/plain": "Index(['id', 'Institute', 'WorkArea', 'cease_date', 'separationtype',\n       'Contributing Factors. Career Move - Public Sector ',\n       'Contributing Factors. Career Move - Private Sector ',\n       'Contributing Factors. Career Move - Self-employment',\n       'Contributing Factors. Ill Health',\n       'Contributing Factors. Maternity/Family',\n       'Contributing Factors. Dissatisfaction',\n       'Contributing Factors. Job Dissatisfaction',\n       'Contributing Factors. Interpersonal Conflict',\n       'Contributing Factors. Study', 'Contributing Factors. Travel',\n       'Contributing Factors. Other', 'Contributing Factors. NONE', 'gender',\n       'age', 'employment_status', 'position', 'institute_service',\n       'role_service'],\n      dtype='object')"
     },
     "execution_count": 151,
     "metadata": {},
     "output_type": "execute_result"
    }
   ],
   "source": [
    "tafe_survey_updated.rename(columns=new_cols, inplace=True)\n",
    "# tafe_survey_updated = tafe_survey_updated.columns.str.replace('.','').str.replace('\\s+', '_')\n",
    "tafe_survey_updated.columns"
   ],
   "metadata": {
    "collapsed": false
   }
  },
  {
   "cell_type": "markdown",
   "source": [
    "### Filter the Data\n",
    "In this section, we will dropping columns we do not need. In dropping columns, we will be keeping the purpose of our analysis in mind.\n",
    "\n",
    "Purpose 1\n",
    "Are employees who have only worked for the institutes for a short period of time resigning due to some kind of dissatisfaction? What about employees who have been at the job longer?\n",
    "\n",
    "The separationtype column has a number of unique values but we will only be focusing on the value 'Resignation'. We will drop all other values from the dataset."
   ],
   "metadata": {
    "collapsed": false
   }
  },
  {
   "cell_type": "code",
   "execution_count": 152,
   "outputs": [
    {
     "data": {
      "text/plain": "Age Retirement                          285\nResignation-Other reasons               150\nResignation-Other employer               91\nResignation-Move overseas/interstate     70\nVoluntary Early Retirement (VER)         67\nIll Health Retirement                    61\nOther                                    49\nContract Expired                         34\nTermination                              15\nName: separationtype, dtype: int64"
     },
     "execution_count": 152,
     "metadata": {},
     "output_type": "execute_result"
    }
   ],
   "source": [
    "dete_survey_updated['separationtype'].value_counts()"
   ],
   "metadata": {
    "collapsed": false
   }
  },
  {
   "cell_type": "code",
   "execution_count": 153,
   "outputs": [
    {
     "data": {
      "text/plain": "Resignation                 340\nContract Expired            127\nRetrenchment/ Redundancy    104\nRetirement                   82\nTransfer                     25\nTermination                  23\nName: separationtype, dtype: int64"
     },
     "execution_count": 153,
     "metadata": {},
     "output_type": "execute_result"
    }
   ],
   "source": [
    "tafe_survey_updated['separationtype'].value_counts()"
   ],
   "metadata": {
    "collapsed": false
   }
  },
  {
   "cell_type": "code",
   "execution_count": 154,
   "outputs": [],
   "source": [
    "pattern = 'Resignation'\n",
    "dete_resignations = dete_survey_updated.loc[dete_survey_updated['separationtype'].str.contains(pattern, na=False)]\n",
    "tafe_resignations = tafe_survey_updated.loc[tafe_survey_updated['separationtype'].str.contains(pattern, na=False)]"
   ],
   "metadata": {
    "collapsed": false
   }
  },
  {
   "cell_type": "code",
   "execution_count": 155,
   "outputs": [
    {
     "data": {
      "text/plain": "Resignation-Other reasons               150\nResignation-Other employer               91\nResignation-Move overseas/interstate     70\nName: separationtype, dtype: int64"
     },
     "execution_count": 155,
     "metadata": {},
     "output_type": "execute_result"
    }
   ],
   "source": [
    "dete_resignations['separationtype'].value_counts()"
   ],
   "metadata": {
    "collapsed": false
   }
  },
  {
   "cell_type": "code",
   "execution_count": 156,
   "outputs": [
    {
     "data": {
      "text/plain": "Resignation    340\nName: separationtype, dtype: int64"
     },
     "execution_count": 156,
     "metadata": {},
     "output_type": "execute_result"
    }
   ],
   "source": [
    "tafe_resignations['separationtype'].value_counts()"
   ],
   "metadata": {
    "collapsed": false
   }
  },
  {
   "cell_type": "markdown",
   "source": [
    "### Verify the Data\n",
    "Before we start cleaning and manipulating the rest of our data, we'll verify that the data doesn't contain any major inconsistencies (to the best of our knowledge).\n",
    "\n",
    "First, we'll focus on the dete_start_date and cease_date columns. These columns reflect an employee's first and last year of employment. We will remove any illogical inconsistencies from these columns."
   ],
   "metadata": {
    "collapsed": false
   }
  },
  {
   "cell_type": "code",
   "execution_count": 157,
   "outputs": [
    {
     "data": {
      "text/plain": "2012       126\n2013        74\n01/2014     22\n12/2013     17\n06/2013     14\n09/2013     11\n07/2013      9\n11/2013      9\n10/2013      6\n08/2013      4\n05/2012      2\n05/2013      2\n07/2012      1\n2010         1\n09/2010      1\n07/2006      1\nName: cease_date, dtype: int64"
     },
     "execution_count": 157,
     "metadata": {},
     "output_type": "execute_result"
    }
   ],
   "source": [
    "dete_resignations['cease_date'].value_counts()"
   ],
   "metadata": {
    "collapsed": false
   }
  },
  {
   "cell_type": "code",
   "execution_count": 158,
   "outputs": [
    {
     "data": {
      "text/plain": "2013.0    146\n2012.0    129\n2014.0     22\n2010.0      2\n2006.0      1\nName: cease_date, dtype: int64"
     },
     "execution_count": 158,
     "metadata": {},
     "output_type": "execute_result"
    }
   ],
   "source": [
    "pattern = \"([2][0][0-9]{2})\"\n",
    "dete_resignations['cease_date'] = dete_resignations['cease_date'].str.extract(pattern).astype(float)\n",
    "dete_resignations['cease_date'].value_counts()"
   ],
   "metadata": {
    "collapsed": false
   }
  },
  {
   "cell_type": "code",
   "execution_count": 159,
   "outputs": [
    {
     "data": {
      "text/plain": "<AxesSubplot: >"
     },
     "execution_count": 159,
     "metadata": {},
     "output_type": "execute_result"
    },
    {
     "data": {
      "text/plain": "<Figure size 640x480 with 1 Axes>",
      "image/png": "[encoded data removed]"
     },
     "metadata": {},
     "output_type": "display_data"
    }
   ],
   "source": [
    "dete_resignations['cease_date'].plot.box()"
   ],
   "metadata": {
    "collapsed": false
   }
  },
  {
   "cell_type": "code",
   "execution_count": 160,
   "outputs": [
    {
     "data": {
      "text/plain": "1963.0     1\n1971.0     1\n1972.0     1\n1973.0     1\n1974.0     2\n1975.0     1\n1976.0     2\n1977.0     1\n1980.0     5\n1982.0     1\n1983.0     2\n1984.0     1\n1985.0     3\n1986.0     3\n1987.0     1\n1988.0     4\n1989.0     4\n1990.0     5\n1991.0     4\n1992.0     6\n1993.0     5\n1994.0     6\n1995.0     4\n1996.0     6\n1997.0     5\n1998.0     6\n1999.0     8\n2000.0     9\n2001.0     3\n2002.0     6\n2003.0     6\n2004.0    14\n2005.0    15\n2006.0    13\n2007.0    21\n2008.0    22\n2009.0    13\n2010.0    17\n2011.0    24\n2012.0    21\n2013.0    10\nName: dete_start_date, dtype: int64"
     },
     "execution_count": 160,
     "metadata": {},
     "output_type": "execute_result"
    }
   ],
   "source": [
    "dete_resignations['dete_start_date'].value_counts().sort_index()"
   ],
   "metadata": {
    "collapsed": false
   }
  },
  {
   "cell_type": "code",
   "execution_count": 161,
   "outputs": [
    {
     "data": {
      "text/plain": "<AxesSubplot: >"
     },
     "execution_count": 161,
     "metadata": {},
     "output_type": "execute_result"
    },
    {
     "data": {
      "text/plain": "<Figure size 640x480 with 1 Axes>",
      "image/png": "[encoded data removed]"
     },
     "metadata": {},
     "output_type": "display_data"
    }
   ],
   "source": [
    "dete_resignations['dete_start_date'].plot.box()"
   ],
   "metadata": {
    "collapsed": false
   }
  },
  {
   "cell_type": "code",
   "execution_count": 162,
   "outputs": [
    {
     "data": {
      "text/plain": "2011.0    116\n2012.0     94\n2010.0     68\n2013.0     55\n2009.0      2\nName: cease_date, dtype: int64"
     },
     "execution_count": 162,
     "metadata": {},
     "output_type": "execute_result"
    }
   ],
   "source": [
    "tafe_resignations['cease_date'].value_counts()"
   ],
   "metadata": {
    "collapsed": false
   }
  },
  {
   "cell_type": "code",
   "execution_count": 163,
   "outputs": [
    {
     "data": {
      "text/plain": "<AxesSubplot: >"
     },
     "execution_count": 163,
     "metadata": {},
     "output_type": "execute_result"
    },
    {
     "data": {
      "text/plain": "<Figure size 640x480 with 1 Axes>",
      "image/png": "[encoded data removed]"
     },
     "metadata": {},
     "output_type": "display_data"
    }
   ],
   "source": [
    "tafe_resignations['cease_date'].plot.box()"
   ],
   "metadata": {
    "collapsed": false
   }
  },
  {
   "cell_type": "markdown",
   "source": [
    "From the boxplots, there are no logical inconsistencies in the date column. Employee start dates range from the 1960s to the early 2010s. Employee end dates range from 2006 to 2014."
   ],
   "metadata": {
    "collapsed": false
   }
  },
  {
   "cell_type": "markdown",
   "source": [
    "### Create a New Column\n",
    "\n",
    "In line with the purpose of the project, we need to determine the length of time an employee spent in a workplace. This is usually referred to as their years of service. The TAFE dataframe contains an institute_service column which satisfies this.\n",
    "\n",
    "We will create a corresponding institute_service column in DETE dataframe, using the start and cease date columns."
   ],
   "metadata": {
    "collapsed": false
   }
  },
  {
   "cell_type": "code",
   "execution_count": 164,
   "outputs": [
    {
     "data": {
      "text/plain": "3     NaN\n4     3-4\n5    7-10\n6     3-4\n7     3-4\nName: institute_service, dtype: object"
     },
     "execution_count": 164,
     "metadata": {},
     "output_type": "execute_result"
    }
   ],
   "source": [
    "tafe_resignations['institute_service'].head()"
   ],
   "metadata": {
    "collapsed": false
   }
  },
  {
   "cell_type": "code",
   "execution_count": 165,
   "outputs": [
    {
     "data": {
      "text/plain": "3      7.0\n5     18.0\n8      3.0\n9     15.0\n11     3.0\nName: institute_service, dtype: float64"
     },
     "execution_count": 165,
     "metadata": {},
     "output_type": "execute_result"
    }
   ],
   "source": [
    "dete_resignations['institute_service'] = dete_resignations['cease_date'] - dete_resignations['dete_start_date']\n",
    "dete_resignations['institute_service'].head()"
   ],
   "metadata": {
    "collapsed": false
   }
  },
  {
   "cell_type": "markdown",
   "source": [
    "### Identify Dissatisfied Employees\n",
    "\n",
    "Next, we'll identify any employees who resigned because they were dissatisfied. The following columns reference dissatisfied employees:\n",
    "\n",
    "TAFE dataset\n",
    "* Contributing Factors. Dissatisfaction\n",
    "* Contributing Factors. Job Dissatisfaction\n",
    "\n",
    "DETE dataset\n",
    "* job_dissatisfaction\n",
    "* dissatisfaction_with_the_department\n",
    "* physical_work_environment\n",
    "* lack_of_recognition\n",
    "* lack_of_job_security\n",
    "* work_location\n",
    "* employment_conditions\n",
    "* work_life_balance\n",
    "* workload\n",
    "\n",
    "If an employee indicated any of the factors above caused them to resign, we'll mark them as dissatisfied in a new column."
   ],
   "metadata": {
    "collapsed": false
   }
  },
  {
   "cell_type": "code",
   "execution_count": 166,
   "outputs": [
    {
     "data": {
      "text/plain": "-                                         277\nContributing Factors. Dissatisfaction      55\nNaN                                         8\nName: Contributing Factors. Dissatisfaction, dtype: int64"
     },
     "execution_count": 166,
     "metadata": {},
     "output_type": "execute_result"
    }
   ],
   "source": [
    "tafe_resignations['Contributing Factors. Dissatisfaction'].value_counts(dropna=False)"
   ],
   "metadata": {
    "collapsed": false
   }
  },
  {
   "cell_type": "code",
   "execution_count": 167,
   "outputs": [
    {
     "data": {
      "text/plain": "-                      270\nJob Dissatisfaction     62\nNaN                      8\nName: Contributing Factors. Job Dissatisfaction, dtype: int64"
     },
     "execution_count": 167,
     "metadata": {},
     "output_type": "execute_result"
    }
   ],
   "source": [
    "tafe_resignations['Contributing Factors. Job Dissatisfaction'].value_counts(dropna=False)"
   ],
   "metadata": {
    "collapsed": false
   }
  },
  {
   "cell_type": "code",
   "execution_count": 168,
   "outputs": [],
   "source": [
    "# Function to update values to True and False\n",
    "def update_vals(value):\n",
    "    if pd.isnull(value):\n",
    "        return np.nan\n",
    "    elif value == '-':\n",
    "        return False\n",
    "    else:\n",
    "        return True"
   ],
   "metadata": {
    "collapsed": false
   }
  },
  {
   "cell_type": "code",
   "execution_count": 169,
   "outputs": [],
   "source": [
    "tafe_resignations[['Contributing Factors. Dissatisfaction', 'Contributing Factors. Job Dissatisfaction']] = tafe_resignations[['Contributing Factors. Dissatisfaction', 'Contributing Factors. Job Dissatisfaction']].applymap(update_vals)"
   ],
   "metadata": {
    "collapsed": false
   }
  },
  {
   "cell_type": "code",
   "execution_count": 170,
   "outputs": [
    {
     "data": {
      "text/plain": "             id                              Institute  \\\n3  6.341399e+17            Mount Isa Institute of TAFE   \n4  6.341466e+17  Southern Queensland Institute of TAFE   \n5  6.341475e+17  Southern Queensland Institute of TAFE   \n6  6.341520e+17         Barrier Reef Institute of TAFE   \n7  6.341537e+17  Southern Queensland Institute of TAFE   \n\n                   WorkArea  cease_date separationtype  \\\n3  Non-Delivery (corporate)      2010.0    Resignation   \n4       Delivery (teaching)      2010.0    Resignation   \n5       Delivery (teaching)      2010.0    Resignation   \n6  Non-Delivery (corporate)      2010.0    Resignation   \n7       Delivery (teaching)      2010.0    Resignation   \n\n  Contributing Factors. Career Move - Public Sector   \\\n3                                                  -   \n4                                                  -   \n5                                                  -   \n6                                                  -   \n7                                                  -   \n\n  Contributing Factors. Career Move - Private Sector   \\\n3                                                  -    \n4                       Career Move - Private Sector    \n5                                                  -    \n6                       Career Move - Private Sector    \n7                                                  -    \n\n  Contributing Factors. Career Move - Self-employment  \\\n3                                                  -    \n4                                                  -    \n5                                                  -    \n6                                                  -    \n7                                                  -    \n\n  Contributing Factors. Ill Health Contributing Factors. Maternity/Family  \\\n3                                -                                      -   \n4                                -                                      -   \n5                                -                                      -   \n6                                -                       Maternity/Family   \n7                                -                                      -   \n\n   ... Contributing Factors. Travel Contributing Factors. Other  \\\n3  ...                       Travel                           -   \n4  ...                            -                           -   \n5  ...                            -                       Other   \n6  ...                            -                       Other   \n7  ...                            -                       Other   \n\n  Contributing Factors. NONE  gender            age    employment_status  \\\n3                          -     NaN            NaN                  NaN   \n4                          -    Male         41  45  Permanent Full-time   \n5                          -  Female    56 or older      Contract/casual   \n6                          -    Male  20 or younger  Temporary Full-time   \n7                          -    Male         46  50  Permanent Full-time   \n\n                  position institute_service role_service dissatisfied  \n3                      NaN               NaN          NaN        False  \n4  Teacher (including LVT)               3-4          3-4        False  \n5  Teacher (including LVT)              7-10         7-10        False  \n6      Administration (AO)               3-4          3-4        False  \n7  Teacher (including LVT)               3-4          3-4        False  \n\n[5 rows x 24 columns]",
      "text/html": "<div>\n<style scoped>\n    .dataframe tbody tr th:only-of-type {\n        vertical-align: middle;\n    }\n\n    .dataframe tbody tr th {\n        vertical-align: top;\n    }\n\n    .dataframe thead th {\n        text-align: right;\n    }\n</style>\n<table border=\"1\" class=\"dataframe\">\n  <thead>\n    <tr style=\"text-align: right;\">\n      <th></th>\n      <th>id</th>\n      <th>Institute</th>\n      <th>WorkArea</th>\n      <th>cease_date</th>\n      <th>separationtype</th>\n      <th>Contributing Factors. Career Move - Public Sector</th>\n      <th>Contributing Factors. Career Move - Private Sector</th>\n      <th>Contributing Factors. Career Move - Self-employment</th>\n      <th>Contributing Factors. Ill Health</th>\n      <th>Contributing Factors. Maternity/Family</th>\n      <th>...</th>\n      <th>Contributing Factors. Travel</th>\n      <th>Contributing Factors. Other</th>\n      <th>Contributing Factors. NONE</th>\n      <th>gender</th>\n      <th>age</th>\n      <th>employment_status</th>\n      <th>position</th>\n      <th>institute_service</th>\n      <th>role_service</th>\n      <th>dissatisfied</th>\n    </tr>\n  </thead>\n  <tbody>\n    <tr>\n      <th>3</th>\n      <td>6.341399e+17</td>\n      <td>Mount Isa Institute of TAFE</td>\n      <td>Non-Delivery (corporate)</td>\n      <td>2010.0</td>\n      <td>Resignation</td>\n      <td>-</td>\n      <td>-</td>\n      <td>-</td>\n      <td>-</td>\n      <td>-</td>\n      <td>...</td>\n      <td>Travel</td>\n      <td>-</td>\n      <td>-</td>\n      <td>NaN</td>\n      <td>NaN</td>\n      <td>NaN</td>\n      <td>NaN</td>\n      <td>NaN</td>\n      <td>NaN</td>\n      <td>False</td>\n    </tr>\n    <tr>\n      <th>4</th>\n      <td>6.341466e+17</td>\n      <td>Southern Queensland Institute of TAFE</td>\n      <td>Delivery (teaching)</td>\n      <td>2010.0</td>\n      <td>Resignation</td>\n      <td>-</td>\n      <td>Career Move - Private Sector</td>\n      <td>-</td>\n      <td>-</td>\n      <td>-</td>\n      <td>...</td>\n      <td>-</td>\n      <td>-</td>\n      <td>-</td>\n      <td>Male</td>\n      <td>41  45</td>\n      <td>Permanent Full-time</td>\n      <td>Teacher (including LVT)</td>\n      <td>3-4</td>\n      <td>3-4</td>\n      <td>False</td>\n    </tr>\n    <tr>\n      <th>5</th>\n      <td>6.341475e+17</td>\n      <td>Southern Queensland Institute of TAFE</td>\n      <td>Delivery (teaching)</td>\n      <td>2010.0</td>\n      <td>Resignation</td>\n      <td>-</td>\n      <td>-</td>\n      <td>-</td>\n      <td>-</td>\n      <td>-</td>\n      <td>...</td>\n      <td>-</td>\n      <td>Other</td>\n      <td>-</td>\n      <td>Female</td>\n      <td>56 or older</td>\n      <td>Contract/casual</td>\n      <td>Teacher (including LVT)</td>\n      <td>7-10</td>\n      <td>7-10</td>\n      <td>False</td>\n    </tr>\n    <tr>\n      <th>6</th>\n      <td>6.341520e+17</td>\n      <td>Barrier Reef Institute of TAFE</td>\n      <td>Non-Delivery (corporate)</td>\n      <td>2010.0</td>\n      <td>Resignation</td>\n      <td>-</td>\n      <td>Career Move - Private Sector</td>\n      <td>-</td>\n      <td>-</td>\n      <td>Maternity/Family</td>\n      <td>...</td>\n      <td>-</td>\n      <td>Other</td>\n      <td>-</td>\n      <td>Male</td>\n      <td>20 or younger</td>\n      <td>Temporary Full-time</td>\n      <td>Administration (AO)</td>\n      <td>3-4</td>\n      <td>3-4</td>\n      <td>False</td>\n    </tr>\n    <tr>\n      <th>7</th>\n      <td>6.341537e+17</td>\n      <td>Southern Queensland Institute of TAFE</td>\n      <td>Delivery (teaching)</td>\n      <td>2010.0</td>\n      <td>Resignation</td>\n      <td>-</td>\n      <td>-</td>\n      <td>-</td>\n      <td>-</td>\n      <td>-</td>\n      <td>...</td>\n      <td>-</td>\n      <td>Other</td>\n      <td>-</td>\n      <td>Male</td>\n      <td>46  50</td>\n      <td>Permanent Full-time</td>\n      <td>Teacher (including LVT)</td>\n      <td>3-4</td>\n      <td>3-4</td>\n      <td>False</td>\n    </tr>\n  </tbody>\n</table>\n<p>5 rows × 24 columns</p>\n</div>"
     },
     "execution_count": 170,
     "metadata": {},
     "output_type": "execute_result"
    }
   ],
   "source": [
    "tafe_resignations['dissatisfied'] = tafe_resignations[['Contributing Factors. Dissatisfaction', 'Contributing Factors. Job Dissatisfaction']].any(axis=1, skipna=False)\n",
    "tafe_resignations_up = tafe_resignations.copy()\n",
    "\n",
    "tafe_resignations_up.head()"
   ],
   "metadata": {
    "collapsed": false
   }
  },
  {
   "cell_type": "code",
   "execution_count": 171,
   "outputs": [
    {
     "data": {
      "text/plain": "    id                        separationtype  cease_date  dete_start_date  \\\n3    4             Resignation-Other reasons      2012.0           2005.0   \n5    6             Resignation-Other reasons      2012.0           1994.0   \n8    9             Resignation-Other reasons      2012.0           2009.0   \n9   10            Resignation-Other employer      2012.0           1997.0   \n11  12  Resignation-Move overseas/interstate      2012.0           2009.0   \n\n    role_start_date          position classification                region  \\\n3            2006.0           Teacher        Primary    Central Queensland   \n5            1997.0  Guidance Officer            NaN        Central Office   \n8            2009.0           Teacher      Secondary      North Queensland   \n9            2008.0      Teacher Aide            NaN                   NaN   \n11           2009.0           Teacher      Secondary  Far North Queensland   \n\n           business_unit    employment_status  ...  none_of_the_above  gender  \\\n3                    NaN  Permanent Full-time  ...              False  Female   \n5   Education Queensland  Permanent Full-time  ...              False  Female   \n8                    NaN  Permanent Full-time  ...              False  Female   \n9                    NaN  Permanent Part-time  ...              False  Female   \n11                   NaN  Permanent Full-time  ...              False    Male   \n\n      age  aboriginal  torres_strait  south_sea  disability  nesb  \\\n3   36-40         NaN            NaN        NaN         NaN   NaN   \n5   41-45         NaN            NaN        NaN         NaN   NaN   \n8   31-35         NaN            NaN        NaN         NaN   NaN   \n9   46-50         NaN            NaN        NaN         NaN   NaN   \n11  31-35         NaN            NaN        NaN         NaN   NaN   \n\n    institute_service  dissatisfied  \n3                 7.0         False  \n5                18.0          True  \n8                 3.0         False  \n9                15.0          True  \n11                3.0         False  \n\n[5 rows x 37 columns]",
      "text/html": "<div>\n<style scoped>\n    .dataframe tbody tr th:only-of-type {\n        vertical-align: middle;\n    }\n\n    .dataframe tbody tr th {\n        vertical-align: top;\n    }\n\n    .dataframe thead th {\n        text-align: right;\n    }\n</style>\n<table border=\"1\" class=\"dataframe\">\n  <thead>\n    <tr style=\"text-align: right;\">\n      <th></th>\n      <th>id</th>\n      <th>separationtype</th>\n      <th>cease_date</th>\n      <th>dete_start_date</th>\n      <th>role_start_date</th>\n      <th>position</th>\n      <th>classification</th>\n      <th>region</th>\n      <th>business_unit</th>\n      <th>employment_status</th>\n      <th>...</th>\n      <th>none_of_the_above</th>\n      <th>gender</th>\n      <th>age</th>\n      <th>aboriginal</th>\n      <th>torres_strait</th>\n      <th>south_sea</th>\n      <th>disability</th>\n      <th>nesb</th>\n      <th>institute_service</th>\n      <th>dissatisfied</th>\n    </tr>\n  </thead>\n  <tbody>\n    <tr>\n      <th>3</th>\n      <td>4</td>\n      <td>Resignation-Other reasons</td>\n      <td>2012.0</td>\n      <td>2005.0</td>\n      <td>2006.0</td>\n      <td>Teacher</td>\n      <td>Primary</td>\n      <td>Central Queensland</td>\n      <td>NaN</td>\n      <td>Permanent Full-time</td>\n      <td>...</td>\n      <td>False</td>\n      <td>Female</td>\n      <td>36-40</td>\n      <td>NaN</td>\n      <td>NaN</td>\n      <td>NaN</td>\n      <td>NaN</td>\n      <td>NaN</td>\n      <td>7.0</td>\n      <td>False</td>\n    </tr>\n    <tr>\n      <th>5</th>\n      <td>6</td>\n      <td>Resignation-Other reasons</td>\n      <td>2012.0</td>\n      <td>1994.0</td>\n      <td>1997.0</td>\n      <td>Guidance Officer</td>\n      <td>NaN</td>\n      <td>Central Office</td>\n      <td>Education Queensland</td>\n      <td>Permanent Full-time</td>\n      <td>...</td>\n      <td>False</td>\n      <td>Female</td>\n      <td>41-45</td>\n      <td>NaN</td>\n      <td>NaN</td>\n      <td>NaN</td>\n      <td>NaN</td>\n      <td>NaN</td>\n      <td>18.0</td>\n      <td>True</td>\n    </tr>\n    <tr>\n      <th>8</th>\n      <td>9</td>\n      <td>Resignation-Other reasons</td>\n      <td>2012.0</td>\n      <td>2009.0</td>\n      <td>2009.0</td>\n      <td>Teacher</td>\n      <td>Secondary</td>\n      <td>North Queensland</td>\n      <td>NaN</td>\n      <td>Permanent Full-time</td>\n      <td>...</td>\n      <td>False</td>\n      <td>Female</td>\n      <td>31-35</td>\n      <td>NaN</td>\n      <td>NaN</td>\n      <td>NaN</td>\n      <td>NaN</td>\n      <td>NaN</td>\n      <td>3.0</td>\n      <td>False</td>\n    </tr>\n    <tr>\n      <th>9</th>\n      <td>10</td>\n      <td>Resignation-Other employer</td>\n      <td>2012.0</td>\n      <td>1997.0</td>\n      <td>2008.0</td>\n      <td>Teacher Aide</td>\n      <td>NaN</td>\n      <td>NaN</td>\n      <td>NaN</td>\n      <td>Permanent Part-time</td>\n      <td>...</td>\n      <td>False</td>\n      <td>Female</td>\n      <td>46-50</td>\n      <td>NaN</td>\n      <td>NaN</td>\n      <td>NaN</td>\n      <td>NaN</td>\n      <td>NaN</td>\n      <td>15.0</td>\n      <td>True</td>\n    </tr>\n    <tr>\n      <th>11</th>\n      <td>12</td>\n      <td>Resignation-Move overseas/interstate</td>\n      <td>2012.0</td>\n      <td>2009.0</td>\n      <td>2009.0</td>\n      <td>Teacher</td>\n      <td>Secondary</td>\n      <td>Far North Queensland</td>\n      <td>NaN</td>\n      <td>Permanent Full-time</td>\n      <td>...</td>\n      <td>False</td>\n      <td>Male</td>\n      <td>31-35</td>\n      <td>NaN</td>\n      <td>NaN</td>\n      <td>NaN</td>\n      <td>NaN</td>\n      <td>NaN</td>\n      <td>3.0</td>\n      <td>False</td>\n    </tr>\n  </tbody>\n</table>\n<p>5 rows × 37 columns</p>\n</div>"
     },
     "execution_count": 171,
     "metadata": {},
     "output_type": "execute_result"
    }
   ],
   "source": [
    "dete_resignations['dissatisfied'] = dete_resignations[['job_dissatisfaction',\n",
    "                   'dissatisfaction_with_the_department',\n",
    "                   'physical_work_environment', 'lack_of_recognition',\n",
    "                   'lack_of_job_security', 'work_location',\n",
    "                   'employment_conditions', 'work_life_balance',\n",
    "                   'workload']].any(axis=1, skipna=False)\n",
    "dete_resignations_up = dete_resignations.copy()\n",
    "dete_resignations_up.head()"
   ],
   "metadata": {
    "collapsed": false
   }
  },
  {
   "cell_type": "markdown",
   "source": [
    "In order to determine which employees were dissatisfied, we used the df.any() method on the relevant columns of each dataframe. Each column contains boolean values. With the df.any() method, any record with a False field, will return a False result. If all fields are True, the record with return a True result.\n",
    "\n",
    "We used the df.copy() method to create a copy of the results and avoid the SettingWithCopy Warning. We passed the copy to new variables."
   ],
   "metadata": {
    "collapsed": false
   }
  },
  {
   "cell_type": "markdown",
   "source": [
    "### Combine the Data\n",
    "\n",
    "In this section, we will aggregate the data according to the 'institute_service' column. Then we'll drop the columns with that contain less than 500 non-null values. The result is a dataframe that retains only the columns and records relevant to our analysis."
   ],
   "metadata": {
    "collapsed": false
   }
  },
  {
   "cell_type": "code",
   "execution_count": 172,
   "outputs": [
    {
     "name": "stdout",
     "output_type": "stream",
     "text": [
      "(311, 38)\n"
     ]
    },
    {
     "data": {
      "text/plain": "Index(['id', 'separationtype', 'cease_date', 'dete_start_date',\n       'role_start_date', 'position', 'classification', 'region',\n       'business_unit', 'employment_status', 'career_move_to_public_sector',\n       'career_move_to_private_sector', 'interpersonal_conflicts',\n       'job_dissatisfaction', 'dissatisfaction_with_the_department',\n       'physical_work_environment', 'lack_of_recognition',\n       'lack_of_job_security', 'work_location', 'employment_conditions',\n       'maternity/family', 'relocation', 'study/travel', 'ill_health',\n       'traumatic_incident', 'work_life_balance', 'workload',\n       'none_of_the_above', 'gender', 'age', 'aboriginal', 'torres_strait',\n       'south_sea', 'disability', 'nesb', 'institute_service', 'dissatisfied',\n       'institute'],\n      dtype='object')"
     },
     "execution_count": 172,
     "metadata": {},
     "output_type": "execute_result"
    }
   ],
   "source": [
    "dete_resignations['institute'] = 'DETE'\n",
    "print(dete_resignations.shape)\n",
    "dete_resignations.columns"
   ],
   "metadata": {
    "collapsed": false
   }
  },
  {
   "cell_type": "code",
   "execution_count": 173,
   "outputs": [
    {
     "name": "stdout",
     "output_type": "stream",
     "text": [
      "(340, 25)\n"
     ]
    },
    {
     "data": {
      "text/plain": "Index(['id', 'Institute', 'WorkArea', 'cease_date', 'separationtype',\n       'Contributing Factors. Career Move - Public Sector ',\n       'Contributing Factors. Career Move - Private Sector ',\n       'Contributing Factors. Career Move - Self-employment',\n       'Contributing Factors. Ill Health',\n       'Contributing Factors. Maternity/Family',\n       'Contributing Factors. Dissatisfaction',\n       'Contributing Factors. Job Dissatisfaction',\n       'Contributing Factors. Interpersonal Conflict',\n       'Contributing Factors. Study', 'Contributing Factors. Travel',\n       'Contributing Factors. Other', 'Contributing Factors. NONE', 'gender',\n       'age', 'employment_status', 'position', 'institute_service',\n       'role_service', 'dissatisfied', 'institute'],\n      dtype='object')"
     },
     "execution_count": 173,
     "metadata": {},
     "output_type": "execute_result"
    }
   ],
   "source": [
    "tafe_resignations['institute'] = 'TAFE'\n",
    "print(tafe_resignations.shape)\n",
    "tafe_resignations.columns"
   ],
   "metadata": {
    "collapsed": false
   }
  },
  {
   "cell_type": "code",
   "execution_count": 174,
   "outputs": [
    {
     "name": "stdout",
     "output_type": "stream",
     "text": [
      "(651, 10)\n"
     ]
    },
    {
     "data": {
      "text/plain": "     id                        separationtype  cease_date          position  \\\n0   4.0             Resignation-Other reasons      2012.0           Teacher   \n1   6.0             Resignation-Other reasons      2012.0  Guidance Officer   \n2   9.0             Resignation-Other reasons      2012.0           Teacher   \n3  10.0            Resignation-Other employer      2012.0      Teacher Aide   \n4  12.0  Resignation-Move overseas/interstate      2012.0           Teacher   \n\n     employment_status  gender    age institute_service  dissatisfied  \\\n0  Permanent Full-time  Female  36-40               7.0         False   \n1  Permanent Full-time  Female  41-45              18.0          True   \n2  Permanent Full-time  Female  31-35               3.0         False   \n3  Permanent Part-time  Female  46-50              15.0          True   \n4  Permanent Full-time    Male  31-35               3.0         False   \n\n  institute  \n0      DETE  \n1      DETE  \n2      DETE  \n3      DETE  \n4      DETE  ",
      "text/html": "<div>\n<style scoped>\n    .dataframe tbody tr th:only-of-type {\n        vertical-align: middle;\n    }\n\n    .dataframe tbody tr th {\n        vertical-align: top;\n    }\n\n    .dataframe thead th {\n        text-align: right;\n    }\n</style>\n<table border=\"1\" class=\"dataframe\">\n  <thead>\n    <tr style=\"text-align: right;\">\n      <th></th>\n      <th>id</th>\n      <th>separationtype</th>\n      <th>cease_date</th>\n      <th>position</th>\n      <th>employment_status</th>\n      <th>gender</th>\n      <th>age</th>\n      <th>institute_service</th>\n      <th>dissatisfied</th>\n      <th>institute</th>\n    </tr>\n  </thead>\n  <tbody>\n    <tr>\n      <th>0</th>\n      <td>4.0</td>\n      <td>Resignation-Other reasons</td>\n      <td>2012.0</td>\n      <td>Teacher</td>\n      <td>Permanent Full-time</td>\n      <td>Female</td>\n      <td>36-40</td>\n      <td>7.0</td>\n      <td>False</td>\n      <td>DETE</td>\n    </tr>\n    <tr>\n      <th>1</th>\n      <td>6.0</td>\n      <td>Resignation-Other reasons</td>\n      <td>2012.0</td>\n      <td>Guidance Officer</td>\n      <td>Permanent Full-time</td>\n      <td>Female</td>\n      <td>41-45</td>\n      <td>18.0</td>\n      <td>True</td>\n      <td>DETE</td>\n    </tr>\n    <tr>\n      <th>2</th>\n      <td>9.0</td>\n      <td>Resignation-Other reasons</td>\n      <td>2012.0</td>\n      <td>Teacher</td>\n      <td>Permanent Full-time</td>\n      <td>Female</td>\n      <td>31-35</td>\n      <td>3.0</td>\n      <td>False</td>\n      <td>DETE</td>\n    </tr>\n    <tr>\n      <th>3</th>\n      <td>10.0</td>\n      <td>Resignation-Other employer</td>\n      <td>2012.0</td>\n      <td>Teacher Aide</td>\n      <td>Permanent Part-time</td>\n      <td>Female</td>\n      <td>46-50</td>\n      <td>15.0</td>\n      <td>True</td>\n      <td>DETE</td>\n    </tr>\n    <tr>\n      <th>4</th>\n      <td>12.0</td>\n      <td>Resignation-Move overseas/interstate</td>\n      <td>2012.0</td>\n      <td>Teacher</td>\n      <td>Permanent Full-time</td>\n      <td>Male</td>\n      <td>31-35</td>\n      <td>3.0</td>\n      <td>False</td>\n      <td>DETE</td>\n    </tr>\n  </tbody>\n</table>\n</div>"
     },
     "execution_count": 174,
     "metadata": {},
     "output_type": "execute_result"
    }
   ],
   "source": [
    "combined = pd.concat([dete_resignations, tafe_resignations], ignore_index=True)\n",
    "combined_updated = combined.dropna(thresh=500, axis=1)\n",
    "print(combined_updated.shape)\n",
    "combined_updated.head()"
   ],
   "metadata": {
    "collapsed": false
   }
  },
  {
   "cell_type": "markdown",
   "source": [
    "### Clean the Service Column\n",
    "\n",
    "In this section, we will clean up the institute_service column. This column is tricky to clean because it currently contains values in a couple different forms:"
   ],
   "metadata": {
    "collapsed": false
   }
  },
  {
   "cell_type": "code",
   "execution_count": 175,
   "outputs": [
    {
     "data": {
      "text/plain": "NaN                   88\nLess than 1 year      73\n1-2                   64\n3-4                   63\n5-6                   33\n11-20                 26\n5.0                   23\n1.0                   22\n7-10                  21\n3.0                   20\n0.0                   20\n6.0                   17\n4.0                   16\n9.0                   14\n2.0                   14\n7.0                   13\nMore than 20 years    10\n13.0                   8\n8.0                    8\n15.0                   7\n20.0                   7\n10.0                   6\n14.0                   6\n12.0                   6\n17.0                   6\n22.0                   6\n18.0                   5\n16.0                   5\n11.0                   4\n23.0                   4\n24.0                   4\n32.0                   3\n39.0                   3\n19.0                   3\n21.0                   3\n36.0                   2\n25.0                   2\n30.0                   2\n26.0                   2\n28.0                   2\n49.0                   1\n41.0                   1\n27.0                   1\n42.0                   1\n29.0                   1\n34.0                   1\n31.0                   1\n33.0                   1\n35.0                   1\n38.0                   1\nName: institute_service, dtype: int64"
     },
     "execution_count": 175,
     "metadata": {},
     "output_type": "execute_result"
    }
   ],
   "source": [
    "combined_updated['institute_service'].value_counts(dropna=False)"
   ],
   "metadata": {
    "collapsed": false
   }
  },
  {
   "cell_type": "markdown",
   "source": [
    "To analyze the data, we'll convert these numbers into categories. This is based on the position that understanding career stage is a more effective indicator of employee engagement than age alone.\n",
    "\n",
    "We will use the following categories:\n",
    "* New: Less than 3 years at a company\n",
    "* Experienced: 3-6 years at a company\n",
    "* Established: 7-10 years at a company\n",
    "* Veteran: 11 or more years at a company\n",
    "\n",
    "We'll apply a function to the institute_service column that will categorize each period at the company into the appropriate category."
   ],
   "metadata": {
    "collapsed": false
   }
  },
  {
   "cell_type": "code",
   "execution_count": 176,
   "outputs": [],
   "source": [
    "combined_updated['institute_service'] = combined_updated['institute_service'].astype(str)"
   ],
   "metadata": {
    "collapsed": false
   }
  },
  {
   "cell_type": "code",
   "execution_count": 177,
   "outputs": [],
   "source": [
    "# function to categorize years at company into career stages\n",
    "def map_year(value):\n",
    "    if pd.isnull(value):\n",
    "        return np.nan\n",
    "    elif float(value) < 3:\n",
    "        return 'New'\n",
    "    elif 3 <= float(value) <= 6:\n",
    "        return 'Experienced'\n",
    "    elif 7 <= float(value) <= 10:\n",
    "        return 'Established'\n",
    "    else:\n",
    "        return 'Veteran'"
   ],
   "metadata": {
    "collapsed": false
   }
  },
  {
   "cell_type": "code",
   "execution_count": 178,
   "outputs": [
    {
     "data": {
      "text/plain": "nan                   88\nLess than 1 year      73\n1-2                   64\n3-4                   63\n5-6                   33\n11-20                 26\n5.0                   23\n1.0                   22\n7-10                  21\n3.0                   20\n0.0                   20\n6.0                   17\n4.0                   16\n9.0                   14\n2.0                   14\n7.0                   13\nMore than 20 years    10\n13.0                   8\n8.0                    8\n15.0                   7\n20.0                   7\n10.0                   6\n14.0                   6\n12.0                   6\n17.0                   6\n22.0                   6\n18.0                   5\n16.0                   5\n11.0                   4\n23.0                   4\n24.0                   4\n32.0                   3\n39.0                   3\n19.0                   3\n21.0                   3\n36.0                   2\n25.0                   2\n30.0                   2\n26.0                   2\n28.0                   2\n49.0                   1\n41.0                   1\n27.0                   1\n42.0                   1\n29.0                   1\n34.0                   1\n31.0                   1\n33.0                   1\n35.0                   1\n38.0                   1\nName: institute_service, dtype: int64"
     },
     "execution_count": 178,
     "metadata": {},
     "output_type": "execute_result"
    }
   ],
   "source": [
    "combined_updated['institute_service'].value_counts(dropna=False)"
   ],
   "metadata": {
    "collapsed": false
   }
  },
  {
   "cell_type": "code",
   "execution_count": 179,
   "outputs": [],
   "source": [
    "# Clean the institute_service column, extract years and apply function\n",
    "pattern = r'(\\d+)'\n",
    "combined_updated['service_cat'] = combined_updated['institute_service'].str.extract(pattern)[0].apply(map_year)"
   ],
   "metadata": {
    "collapsed": false
   }
  },
  {
   "cell_type": "markdown",
   "source": [
    "### Initial Analysis"
   ],
   "metadata": {
    "collapsed": false
   }
  },
  {
   "cell_type": "code",
   "execution_count": 180,
   "outputs": [
    {
     "data": {
      "text/plain": "False    403\nTrue     248\nName: dissatisfied, dtype: int64"
     },
     "execution_count": 180,
     "metadata": {},
     "output_type": "execute_result"
    }
   ],
   "source": [
    "combined_updated['dissatisfied'].value_counts(dropna=False)"
   ],
   "metadata": {
    "collapsed": false
   }
  },
  {
   "cell_type": "code",
   "execution_count": 183,
   "outputs": [
    {
     "data": {
      "text/plain": "             dissatisfied\nservice_cat              \nEstablished      0.516129\nExperienced      0.343023\nNew              0.295337\nVeteran          0.485294",
      "text/html": "<div>\n<style scoped>\n    .dataframe tbody tr th:only-of-type {\n        vertical-align: middle;\n    }\n\n    .dataframe tbody tr th {\n        vertical-align: top;\n    }\n\n    .dataframe thead th {\n        text-align: right;\n    }\n</style>\n<table border=\"1\" class=\"dataframe\">\n  <thead>\n    <tr style=\"text-align: right;\">\n      <th></th>\n      <th>dissatisfied</th>\n    </tr>\n    <tr>\n      <th>service_cat</th>\n      <th></th>\n    </tr>\n  </thead>\n  <tbody>\n    <tr>\n      <th>Established</th>\n      <td>0.516129</td>\n    </tr>\n    <tr>\n      <th>Experienced</th>\n      <td>0.343023</td>\n    </tr>\n    <tr>\n      <th>New</th>\n      <td>0.295337</td>\n    </tr>\n    <tr>\n      <th>Veteran</th>\n      <td>0.485294</td>\n    </tr>\n  </tbody>\n</table>\n</div>"
     },
     "execution_count": 183,
     "metadata": {},
     "output_type": "execute_result"
    }
   ],
   "source": [
    "service_category = combined_updated.pivot_table(index='service_cat', values='dissatisfied')\n",
    "service_category"
   ],
   "metadata": {
    "collapsed": false
   }
  },
  {
   "cell_type": "code",
   "execution_count": 189,
   "outputs": [
    {
     "data": {
      "text/plain": "<Figure size 640x480 with 1 Axes>",
      "image/png": "[encoded data removed]"
     },
     "metadata": {},
     "output_type": "display_data"
    }
   ],
   "source": [
    "service_category.plot(kind='bar', xlabel='Service Category',\n",
    "                      ylabel='% Dissatisfied', title='Percentage of Dissatisfied Employees by Service Category', rot=45)\n",
    "plt.legend().remove()\n",
    "plt.show()"
   ],
   "metadata": {
    "collapsed": false
   }
  },
  {
   "cell_type": "markdown",
   "source": [
    "From our initial observations, although 30% of new employees express dissatisfaction, dissatisfaction increases the longer an employee works at the institutes. About half of veteran and established employees cited dissatisfaction as reasons for leaving.\n",
    "\n",
    "This means that majority of new employees who are resigning as resigning for other reasons beyond dissatisfaction."
   ],
   "metadata": {
    "collapsed": false
   }
  },
  {
   "cell_type": "markdown",
   "source": [
    "### Further Analysis\n",
    "* Conduct analysis on each of the other separationtype values.\n",
    "* Decide how to handle the rest of the missing values. Then, aggregate the data according to the service_cat column again. How many people in each career stage resigned due to some kind of dissatisfaction?\n",
    "* Clean the age column. How many people in each age group resgined due to some kind of dissatisfaction?\n",
    "* Instead of analyzing the survey results together, analyze each survey separately. Did more employees in the DETE survey or TAFE survey end their employment because they were dissatisfied in some way?"
   ],
   "metadata": {
    "collapsed": false
   }
  },
  {
   "cell_type": "code",
   "execution_count": 180,
   "outputs": [],
   "source": [],
   "metadata": {
    "collapsed": false
   }
  }
 ],
 "metadata": {
  "kernelspec": {
   "display_name": "Python 3",
   "language": "python",
   "name": "python3"
  },
  "language_info": {
   "codemirror_mode": {
    "name": "ipython",
    "version": 3
   },
   "file_extension": ".py",
   "mimetype": "text/x-python",
   "name": "python",
   "nbconvert_exporter": "python",
   "pygments_lexer": "ipython3",
   "version": "3.4.4"
  }
 },
 "nbformat": 4,
 "nbformat_minor": 2
}

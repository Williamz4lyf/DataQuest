{
 "cells": [
  {
   "cell_type": "markdown",
   "source": [
    "# Answering Business Questions Using SQL"
   ],
   "metadata": {
    "collapsed": false
   }
  },
  {
   "cell_type": "code",
   "execution_count": 1,
   "metadata": {
    "collapsed": true
   },
   "outputs": [],
   "source": [
    "%%capture\n",
    "%load_ext sql\n",
    "%sql sqlite:///chinook.db"
   ]
  },
  {
   "cell_type": "markdown",
   "source": [
    "### Overview of the Data\n",
    "Let's query the database to get a list of all tables and views in our database. We will also query a few tables in the database."
   ],
   "metadata": {
    "collapsed": false
   }
  },
  {
   "cell_type": "code",
   "execution_count": 2,
   "outputs": [
    {
     "name": "stdout",
     "output_type": "stream",
     "text": [
      " * sqlite:///chinook.db\n",
      "Done.\n"
     ]
    },
    {
     "data": {
      "text/plain": "[('album', 'table'),\n ('artist', 'table'),\n ('customer', 'table'),\n ('employee', 'table'),\n ('genre', 'table'),\n ('invoice', 'table'),\n ('invoice_line', 'table'),\n ('media_type', 'table'),\n ('playlist', 'table'),\n ('playlist_track', 'table'),\n ('track', 'table')]",
      "text/html": "<table>\n    <tr>\n        <th>name</th>\n        <th>type</th>\n    </tr>\n    <tr>\n        <td>album</td>\n        <td>table</td>\n    </tr>\n    <tr>\n        <td>artist</td>\n        <td>table</td>\n    </tr>\n    <tr>\n        <td>customer</td>\n        <td>table</td>\n    </tr>\n    <tr>\n        <td>employee</td>\n        <td>table</td>\n    </tr>\n    <tr>\n        <td>genre</td>\n        <td>table</td>\n    </tr>\n    <tr>\n        <td>invoice</td>\n        <td>table</td>\n    </tr>\n    <tr>\n        <td>invoice_line</td>\n        <td>table</td>\n    </tr>\n    <tr>\n        <td>media_type</td>\n        <td>table</td>\n    </tr>\n    <tr>\n        <td>playlist</td>\n        <td>table</td>\n    </tr>\n    <tr>\n        <td>playlist_track</td>\n        <td>table</td>\n    </tr>\n    <tr>\n        <td>track</td>\n        <td>table</td>\n    </tr>\n</table>"
     },
     "execution_count": 2,
     "metadata": {},
     "output_type": "execute_result"
    }
   ],
   "source": [
    "%%sql\n",
    "SELECT name, type\n",
    "FROM sqlite_master\n",
    "WHERE type IN (\"table\",\"view\");"
   ],
   "metadata": {
    "collapsed": false
   }
  },
  {
   "cell_type": "code",
   "execution_count": 3,
   "outputs": [
    {
     "name": "stdout",
     "output_type": "stream",
     "text": [
      " * sqlite:///chinook.db\n",
      "Done.\n"
     ]
    },
    {
     "data": {
      "text/plain": "[(1, 'Luís', 'Gonçalves', 'Embraer - Empresa Brasileira de Aeronáutica S.A.', 'Av. Brigadeiro Faria Lima, 2170', 'São José dos Campos', 'SP', 'Brazil', '12227-000', '+55 (12) 3923-5555', '+55 (12) 3923-5566', 'luisg@embraer.com.br', 3),\n (2, 'Leonie', 'Köhler', None, 'Theodor-Heuss-Straße 34', 'Stuttgart', None, 'Germany', '70174', '+49 0711 2842222', None, 'leonekohler@surfeu.de', 5),\n (3, 'François', 'Tremblay', None, '1498 rue Bélanger', 'Montréal', 'QC', 'Canada', 'H2G 1A7', '+1 (514) 721-4711', None, 'ftremblay@gmail.com', 3),\n (4, 'Bjørn', 'Hansen', None, 'Ullevålsveien 14', 'Oslo', None, 'Norway', '0171', '+47 22 44 22 22', None, 'bjorn.hansen@yahoo.no', 4),\n (5, 'František', 'Wichterlová', 'JetBrains s.r.o.', 'Klanova 9/506', 'Prague', None, 'Czech Republic', '14700', '+420 2 4172 5555', '+420 2 4172 5555', 'frantisekw@jetbrains.com', 4)]",
      "text/html": "<table>\n    <tr>\n        <th>customer_id</th>\n        <th>first_name</th>\n        <th>last_name</th>\n        <th>company</th>\n        <th>address</th>\n        <th>city</th>\n        <th>state</th>\n        <th>country</th>\n        <th>postal_code</th>\n        <th>phone</th>\n        <th>fax</th>\n        <th>email</th>\n        <th>support_rep_id</th>\n    </tr>\n    <tr>\n        <td>1</td>\n        <td>Luís</td>\n        <td>Gonçalves</td>\n        <td>Embraer - Empresa Brasileira de Aeronáutica S.A.</td>\n        <td>Av. Brigadeiro Faria Lima, 2170</td>\n        <td>São José dos Campos</td>\n        <td>SP</td>\n        <td>Brazil</td>\n        <td>12227-000</td>\n        <td>+55 (12) 3923-5555</td>\n        <td>+55 (12) 3923-5566</td>\n        <td>luisg@embraer.com.br</td>\n        <td>3</td>\n    </tr>\n    <tr>\n        <td>2</td>\n        <td>Leonie</td>\n        <td>Köhler</td>\n        <td>None</td>\n        <td>Theodor-Heuss-Straße 34</td>\n        <td>Stuttgart</td>\n        <td>None</td>\n        <td>Germany</td>\n        <td>70174</td>\n        <td>+49 0711 2842222</td>\n        <td>None</td>\n        <td>leonekohler@surfeu.de</td>\n        <td>5</td>\n    </tr>\n    <tr>\n        <td>3</td>\n        <td>François</td>\n        <td>Tremblay</td>\n        <td>None</td>\n        <td>1498 rue Bélanger</td>\n        <td>Montréal</td>\n        <td>QC</td>\n        <td>Canada</td>\n        <td>H2G 1A7</td>\n        <td>+1 (514) 721-4711</td>\n        <td>None</td>\n        <td>ftremblay@gmail.com</td>\n        <td>3</td>\n    </tr>\n    <tr>\n        <td>4</td>\n        <td>Bjørn</td>\n        <td>Hansen</td>\n        <td>None</td>\n        <td>Ullevålsveien 14</td>\n        <td>Oslo</td>\n        <td>None</td>\n        <td>Norway</td>\n        <td>0171</td>\n        <td>+47 22 44 22 22</td>\n        <td>None</td>\n        <td>bjorn.hansen@yahoo.no</td>\n        <td>4</td>\n    </tr>\n    <tr>\n        <td>5</td>\n        <td>František</td>\n        <td>Wichterlová</td>\n        <td>JetBrains s.r.o.</td>\n        <td>Klanova 9/506</td>\n        <td>Prague</td>\n        <td>None</td>\n        <td>Czech Republic</td>\n        <td>14700</td>\n        <td>+420 2 4172 5555</td>\n        <td>+420 2 4172 5555</td>\n        <td>frantisekw@jetbrains.com</td>\n        <td>4</td>\n    </tr>\n</table>"
     },
     "execution_count": 3,
     "metadata": {},
     "output_type": "execute_result"
    }
   ],
   "source": [
    "%%sql\n",
    "select *\n",
    "from customer\n",
    "limit 5;"
   ],
   "metadata": {
    "collapsed": false
   }
  },
  {
   "cell_type": "code",
   "execution_count": 5,
   "outputs": [
    {
     "name": "stdout",
     "output_type": "stream",
     "text": [
      " * sqlite:///chinook.db\n",
      "Done.\n"
     ]
    },
    {
     "data": {
      "text/plain": "[(1, 18, '2017-01-03 00:00:00', '627 Broadway', 'New York', 'NY', 'USA', '10012-2612', 15.84),\n (2, 30, '2017-01-03 00:00:00', '230 Elgin Street', 'Ottawa', 'ON', 'Canada', 'K2P 1L7', 9.9),\n (3, 40, '2017-01-05 00:00:00', '8, Rue Hanovre', 'Paris', 'None', 'France', '75002', 1.98),\n (4, 18, '2017-01-06 00:00:00', '627 Broadway', 'New York', 'NY', 'USA', '10012-2612', 7.92),\n (5, 27, '2017-01-07 00:00:00', '1033 N Park Ave', 'Tucson', 'AZ', 'USA', '85719', 16.83)]",
      "text/html": "<table>\n    <tr>\n        <th>invoice_id</th>\n        <th>customer_id</th>\n        <th>invoice_date</th>\n        <th>billing_address</th>\n        <th>billing_city</th>\n        <th>billing_state</th>\n        <th>billing_country</th>\n        <th>billing_postal_code</th>\n        <th>total</th>\n    </tr>\n    <tr>\n        <td>1</td>\n        <td>18</td>\n        <td>2017-01-03 00:00:00</td>\n        <td>627 Broadway</td>\n        <td>New York</td>\n        <td>NY</td>\n        <td>USA</td>\n        <td>10012-2612</td>\n        <td>15.84</td>\n    </tr>\n    <tr>\n        <td>2</td>\n        <td>30</td>\n        <td>2017-01-03 00:00:00</td>\n        <td>230 Elgin Street</td>\n        <td>Ottawa</td>\n        <td>ON</td>\n        <td>Canada</td>\n        <td>K2P 1L7</td>\n        <td>9.9</td>\n    </tr>\n    <tr>\n        <td>3</td>\n        <td>40</td>\n        <td>2017-01-05 00:00:00</td>\n        <td>8, Rue Hanovre</td>\n        <td>Paris</td>\n        <td>None</td>\n        <td>France</td>\n        <td>75002</td>\n        <td>1.98</td>\n    </tr>\n    <tr>\n        <td>4</td>\n        <td>18</td>\n        <td>2017-01-06 00:00:00</td>\n        <td>627 Broadway</td>\n        <td>New York</td>\n        <td>NY</td>\n        <td>USA</td>\n        <td>10012-2612</td>\n        <td>7.92</td>\n    </tr>\n    <tr>\n        <td>5</td>\n        <td>27</td>\n        <td>2017-01-07 00:00:00</td>\n        <td>1033 N Park Ave</td>\n        <td>Tucson</td>\n        <td>AZ</td>\n        <td>USA</td>\n        <td>85719</td>\n        <td>16.83</td>\n    </tr>\n</table>"
     },
     "execution_count": 5,
     "metadata": {},
     "output_type": "execute_result"
    }
   ],
   "source": [
    "%%sql\n",
    "select *\n",
    "from invoice\n",
    "limit 5;"
   ],
   "metadata": {
    "collapsed": false
   }
  },
  {
   "cell_type": "markdown",
   "source": [
    "### Selecting Albums to Purchase\n",
    "\n",
    "The Chinook record store has just signed a deal with a new record label, and we need to select the first three albums that will be added to the store, from a list of four.\n",
    "\n",
    "All four albums are by artists that don't have any tracks in the store right now - we have the artist names, and the genre of music they produce:\n",
    "\n",
    "|----------------------|---------|\n",
    "| Artist Name          | Genre   |\n",
    "|----------------------|---------|\n",
    "| Regal\t               | Hip-Hop |\n",
    "| Red Tone             | Punk    |\n",
    "| Meteor and the Girls | Pop     |\n",
    "| Slim Jim Bites       | Blues   |\n",
    "\n",
    "The record label specializes in artists from the USA, and they have given Chinook some money to advertise the new albums in the USA, so we're interested in finding out which genres sell the best in the USA.\n",
    "\n",
    "We'll write a query to find out which genres sell the most tracks in the USA."
   ],
   "metadata": {
    "collapsed": false
   }
  },
  {
   "cell_type": "code",
   "execution_count": 10,
   "outputs": [
    {
     "name": "stdout",
     "output_type": "stream",
     "text": [
      " * sqlite:///chinook.db\n",
      "Done.\n"
     ]
    },
    {
     "data": {
      "text/plain": "[('Rock', 561, 16.01),\n ('Alternative & Punk', 130, 3.71),\n ('Metal', 124, 3.54),\n ('R&B/Soul', 53, 1.51),\n ('Blues', 36, 1.03),\n ('Alternative', 35, 1.0),\n ('Pop', 22, 0.63),\n ('Latin', 22, 0.63),\n ('Hip Hop/Rap', 20, 0.57),\n ('Jazz', 14, 0.4),\n ('Easy Listening', 13, 0.37),\n ('Reggae', 6, 0.17),\n ('Electronica/Dance', 5, 0.14),\n ('Classical', 4, 0.11),\n ('Heavy Metal', 3, 0.09),\n ('Soundtrack', 2, 0.06),\n ('TV Shows', 1, 0.03)]",
      "text/html": "<table>\n    <tr>\n        <th>genre</th>\n        <th>num_tracks</th>\n        <th>percentage_total</th>\n    </tr>\n    <tr>\n        <td>Rock</td>\n        <td>561</td>\n        <td>16.01</td>\n    </tr>\n    <tr>\n        <td>Alternative &amp; Punk</td>\n        <td>130</td>\n        <td>3.71</td>\n    </tr>\n    <tr>\n        <td>Metal</td>\n        <td>124</td>\n        <td>3.54</td>\n    </tr>\n    <tr>\n        <td>R&amp;B/Soul</td>\n        <td>53</td>\n        <td>1.51</td>\n    </tr>\n    <tr>\n        <td>Blues</td>\n        <td>36</td>\n        <td>1.03</td>\n    </tr>\n    <tr>\n        <td>Alternative</td>\n        <td>35</td>\n        <td>1.0</td>\n    </tr>\n    <tr>\n        <td>Pop</td>\n        <td>22</td>\n        <td>0.63</td>\n    </tr>\n    <tr>\n        <td>Latin</td>\n        <td>22</td>\n        <td>0.63</td>\n    </tr>\n    <tr>\n        <td>Hip Hop/Rap</td>\n        <td>20</td>\n        <td>0.57</td>\n    </tr>\n    <tr>\n        <td>Jazz</td>\n        <td>14</td>\n        <td>0.4</td>\n    </tr>\n    <tr>\n        <td>Easy Listening</td>\n        <td>13</td>\n        <td>0.37</td>\n    </tr>\n    <tr>\n        <td>Reggae</td>\n        <td>6</td>\n        <td>0.17</td>\n    </tr>\n    <tr>\n        <td>Electronica/Dance</td>\n        <td>5</td>\n        <td>0.14</td>\n    </tr>\n    <tr>\n        <td>Classical</td>\n        <td>4</td>\n        <td>0.11</td>\n    </tr>\n    <tr>\n        <td>Heavy Metal</td>\n        <td>3</td>\n        <td>0.09</td>\n    </tr>\n    <tr>\n        <td>Soundtrack</td>\n        <td>2</td>\n        <td>0.06</td>\n    </tr>\n    <tr>\n        <td>TV Shows</td>\n        <td>1</td>\n        <td>0.03</td>\n    </tr>\n</table>"
     },
     "execution_count": 10,
     "metadata": {},
     "output_type": "execute_result"
    }
   ],
   "source": [
    "%%sql\n",
    "select g.name as genre,\n",
    "       count(t.track_id) as num_tracks,\n",
    "       round(count(t.track_id) * 100.0/(select count(*)\n",
    "                          from track), 2) as percentage_total\n",
    "from genre g\n",
    "join track t\n",
    "on g.genre_id = t.genre_id\n",
    "join invoice_line il\n",
    "on t.track_id = il.track_id\n",
    "join invoice i\n",
    "on i.invoice_id = il.invoice_id\n",
    "where i.billing_country = 'USA'\n",
    "group by genre\n",
    "order by percentage_total desc;"
   ],
   "metadata": {
    "collapsed": false
   }
  },
  {
   "cell_type": "markdown",
   "source": [
    "From our query, the top 5 genres in the US are Rock, Alternative & Punk, Metal, R&B/Soul and Blues. The Artist Red Tone (genre - Punk) should definitely be a priority purchase for the store.\n",
    "\n",
    "Based on ranking, Chinook store should also purchase Slim Jim Bites (genre - Blues) and Meteor and the Girls (genre - Pop) for the store as the genres from the list where they received more sales activity."
   ],
   "metadata": {
    "collapsed": false
   }
  },
  {
   "cell_type": "markdown",
   "source": [
    "### Analyzing Employee Sales Performance\n",
    "Each customer for the Chinook store gets assigned to a sales support agent within the company when they first make a purchase. We will analyze the purchases of customers belonging to each employee to see if any sales support agent is performing either better or worse than the others.\n",
    "\n",
    "We'll write a query that finds the total dollar amount of sales assigned to each sales support agent within the company, as well as any extra attributes for that employee that are relevant to the analysis."
   ],
   "metadata": {
    "collapsed": false
   }
  },
  {
   "cell_type": "code",
   "execution_count": 16,
   "outputs": [
    {
     "name": "stdout",
     "output_type": "stream",
     "text": [
      " * sqlite:///chinook.db\n",
      "Done.\n"
     ]
    },
    {
     "data": {
      "text/plain": "[('Jane Peacock', 'Sales Support Agent', 1731.51, 8.17, 21, 212, 'Nancy Edwards', 'Sales Manager'),\n ('Margaret Park', 'Sales Support Agent', 1584.0, 7.4, 20, 214, 'Nancy Edwards', 'Sales Manager'),\n ('Steve Johnson', 'Sales Support Agent', 1393.92, 7.41, 18, 188, 'Nancy Edwards', 'Sales Manager')]",
      "text/html": "<table>\n    <tr>\n        <th>employee_name</th>\n        <th>employee_title</th>\n        <th>total_sales</th>\n        <th>avg_sales</th>\n        <th>total_customers</th>\n        <th>total_invoices</th>\n        <th>manager_name</th>\n        <th>supervisor_title</th>\n    </tr>\n    <tr>\n        <td>Jane Peacock</td>\n        <td>Sales Support Agent</td>\n        <td>1731.51</td>\n        <td>8.17</td>\n        <td>21</td>\n        <td>212</td>\n        <td>Nancy Edwards</td>\n        <td>Sales Manager</td>\n    </tr>\n    <tr>\n        <td>Margaret Park</td>\n        <td>Sales Support Agent</td>\n        <td>1584.0</td>\n        <td>7.4</td>\n        <td>20</td>\n        <td>214</td>\n        <td>Nancy Edwards</td>\n        <td>Sales Manager</td>\n    </tr>\n    <tr>\n        <td>Steve Johnson</td>\n        <td>Sales Support Agent</td>\n        <td>1393.92</td>\n        <td>7.41</td>\n        <td>18</td>\n        <td>188</td>\n        <td>Nancy Edwards</td>\n        <td>Sales Manager</td>\n    </tr>\n</table>"
     },
     "execution_count": 16,
     "metadata": {},
     "output_type": "execute_result"
    }
   ],
   "source": [
    "%%sql\n",
    "select e.first_name || ' ' || e.last_name as employee_name,\n",
    "       e.title as employee_title,\n",
    "       round(sum(i.total), 2) as total_sales,\n",
    "       round(avg(i.total), 2) as avg_sales,\n",
    "       count(distinct i.customer_id) as total_customers,\n",
    "       count(i.invoice_id) as total_invoices,\n",
    "       e2.first_name || ' ' || e2.last_name as manager_name,\n",
    "       e2.title as supervisor_title\n",
    "from invoice i\n",
    "join customer c\n",
    "on c.customer_id = i.customer_id\n",
    "join employee e\n",
    "on e.employee_id = c.support_rep_id\n",
    "left join employee e2\n",
    "on e.reports_to = e2.employee_id\n",
    "group by c.support_rep_id, employee_name\n",
    "order by total_sales desc;"
   ],
   "metadata": {
    "collapsed": false
   }
  },
  {
   "cell_type": "markdown",
   "source": [
    "\n",
    "There are 3 sales support agents in our employee roster. All of them report to Sales Manager, Nancy Edwards. Jane Peacock is the employee who has made the most sales (1731.51USD from 21 customers), although Margaret Park has slightly more invoices than her (1584USD from 20 customers).\n",
    "\n",
    "While having nearly the same amount of customers, Margaret Park's total sales are $148 less than Jane Peacock's. This means that Ms. Park's customer make smaller total purchases than Ms. Peacock's. This is confirmed by the average sales.\n",
    "\n",
    "Steve Johnson makes significantly less in total_sales from a significantly fewer number of total invoices than the rest, though with only slightly fewer customers."
   ],
   "metadata": {
    "collapsed": false
   }
  },
  {
   "cell_type": "code",
   "execution_count": 17,
   "outputs": [
    {
     "name": "stdout",
     "output_type": "stream",
     "text": [
      " * sqlite:///chinook.db\n",
      "Done.\n"
     ]
    },
    {
     "data": {
      "text/plain": "[('Denmark', 196.02, 38, 5.16),\n ('Argentina', 396.0, 40, 9.9),\n ('Italy', 468.27, 51, 9.18),\n ('Belgium', 567.27, 61, 9.3),\n ('Netherlands', 544.5, 66, 8.25),\n ('Austria', 649.44, 70, 9.28),\n ('Norway', 664.29, 73, 9.1),\n ('Sweden', 754.38, 76, 9.93),\n ('Poland', 690.03, 77, 8.96),\n ('Hungary', 830.61, 79, 10.51),\n ('Finland', 685.08, 80, 8.56),\n ('Australia', 940.5, 82, 11.47),\n ('Chile', 912.78, 98, 9.31),\n ('Spain', 1076.13, 99, 10.87),\n ('Ireland', 1433.52, 116, 12.36),\n ('India', 1887.93, 185, 10.21),\n ('Portugal', 1755.27, 187, 9.39),\n ('United Kingdom', 2498.76, 248, 10.08),\n ('Czech Republic', 3183.84, 276, 11.54),\n ('Germany', 3441.24, 338, 10.18),\n ('France', 3972.87, 393, 10.11),\n ('Brazil', 4059.0, 432, 9.4),\n ('Canada', 5489.55, 541, 10.15),\n ('USA', 10405.89, 1051, 9.9)]",
      "text/html": "<table>\n    <tr>\n        <th>country</th>\n        <th>total_sales</th>\n        <th>num_customers</th>\n        <th>avg_sales</th>\n    </tr>\n    <tr>\n        <td>Denmark</td>\n        <td>196.02</td>\n        <td>38</td>\n        <td>5.16</td>\n    </tr>\n    <tr>\n        <td>Argentina</td>\n        <td>396.0</td>\n        <td>40</td>\n        <td>9.9</td>\n    </tr>\n    <tr>\n        <td>Italy</td>\n        <td>468.27</td>\n        <td>51</td>\n        <td>9.18</td>\n    </tr>\n    <tr>\n        <td>Belgium</td>\n        <td>567.27</td>\n        <td>61</td>\n        <td>9.3</td>\n    </tr>\n    <tr>\n        <td>Netherlands</td>\n        <td>544.5</td>\n        <td>66</td>\n        <td>8.25</td>\n    </tr>\n    <tr>\n        <td>Austria</td>\n        <td>649.44</td>\n        <td>70</td>\n        <td>9.28</td>\n    </tr>\n    <tr>\n        <td>Norway</td>\n        <td>664.29</td>\n        <td>73</td>\n        <td>9.1</td>\n    </tr>\n    <tr>\n        <td>Sweden</td>\n        <td>754.38</td>\n        <td>76</td>\n        <td>9.93</td>\n    </tr>\n    <tr>\n        <td>Poland</td>\n        <td>690.03</td>\n        <td>77</td>\n        <td>8.96</td>\n    </tr>\n    <tr>\n        <td>Hungary</td>\n        <td>830.61</td>\n        <td>79</td>\n        <td>10.51</td>\n    </tr>\n    <tr>\n        <td>Finland</td>\n        <td>685.08</td>\n        <td>80</td>\n        <td>8.56</td>\n    </tr>\n    <tr>\n        <td>Australia</td>\n        <td>940.5</td>\n        <td>82</td>\n        <td>11.47</td>\n    </tr>\n    <tr>\n        <td>Chile</td>\n        <td>912.78</td>\n        <td>98</td>\n        <td>9.31</td>\n    </tr>\n    <tr>\n        <td>Spain</td>\n        <td>1076.13</td>\n        <td>99</td>\n        <td>10.87</td>\n    </tr>\n    <tr>\n        <td>Ireland</td>\n        <td>1433.52</td>\n        <td>116</td>\n        <td>12.36</td>\n    </tr>\n    <tr>\n        <td>India</td>\n        <td>1887.93</td>\n        <td>185</td>\n        <td>10.21</td>\n    </tr>\n    <tr>\n        <td>Portugal</td>\n        <td>1755.27</td>\n        <td>187</td>\n        <td>9.39</td>\n    </tr>\n    <tr>\n        <td>United Kingdom</td>\n        <td>2498.76</td>\n        <td>248</td>\n        <td>10.08</td>\n    </tr>\n    <tr>\n        <td>Czech Republic</td>\n        <td>3183.84</td>\n        <td>276</td>\n        <td>11.54</td>\n    </tr>\n    <tr>\n        <td>Germany</td>\n        <td>3441.24</td>\n        <td>338</td>\n        <td>10.18</td>\n    </tr>\n    <tr>\n        <td>France</td>\n        <td>3972.87</td>\n        <td>393</td>\n        <td>10.11</td>\n    </tr>\n    <tr>\n        <td>Brazil</td>\n        <td>4059.0</td>\n        <td>432</td>\n        <td>9.4</td>\n    </tr>\n    <tr>\n        <td>Canada</td>\n        <td>5489.55</td>\n        <td>541</td>\n        <td>10.15</td>\n    </tr>\n    <tr>\n        <td>USA</td>\n        <td>10405.89</td>\n        <td>1051</td>\n        <td>9.9</td>\n    </tr>\n</table>"
     },
     "execution_count": 17,
     "metadata": {},
     "output_type": "execute_result"
    }
   ],
   "source": [
    "%%sql\n",
    "select i.billing_country as country,\n",
    "       round(sum(i.total), 2) as total_sales,\n",
    "       count(i.customer_id) as num_customers,\n",
    "       round(avg(i.total), 2) as avg_sales\n",
    "       -- round(avg(il.quantity * il.unit_price), 2) as avg_order_value\n",
    "from invoice i\n",
    "join invoice_line il\n",
    "on i.invoice_id = il.invoice_id\n",
    "group by country\n",
    "order by num_customers;"
   ],
   "metadata": {
    "collapsed": false
   }
  },
  {
   "cell_type": "markdown",
   "source": [
    "### Analyzing Sales by Country\n",
    "The next task is to analyze the sales data for customers from each different country. We will be using the country value from the customers table, and ignore the country from the billing address in the invoice table.\n",
    "\n",
    "We'll write a query that collates data on purchases from different countries. Where a country has only one customer, collect them into an \"Other\" group.\n",
    "\n",
    "The results should be sorted by the total sales from highest to lowest, with the \"Other\" group at the very bottom.\n",
    "For each country, we'll include:\n",
    "* total number of customers\n",
    "* total value of sales\n",
    "* average value of sales per customer\n",
    "* average order value"
   ],
   "metadata": {
    "collapsed": false
   }
  },
  {
   "cell_type": "code",
   "execution_count": 18,
   "outputs": [
    {
     "name": "stdout",
     "output_type": "stream",
     "text": [
      " * sqlite:///chinook.db\n",
      "Done.\n",
      "Done.\n",
      "Done.\n"
     ]
    },
    {
     "data": {
      "text/plain": "[('Other', 10808.82, 1094.94, 15, 9.476, 7.444, 73.0),\n ('USA', 10405.89, 1040.49, 13, 9.9, 7.94, 80.04),\n ('Canada', 5489.55, 535.59, 8, 10.15, 7.05, 66.95),\n ('Brazil', 4059.0, 427.68, 5, 9.4, 7.01, 85.54),\n ('France', 3972.87, 389.07, 5, 10.11, 7.78, 77.81),\n ('Germany', 3441.24, 334.62, 4, 10.18, 8.16, 83.66),\n ('Czech Republic', 3183.84, 273.24, 2, 11.54, 9.11, 136.62),\n ('United Kingdom', 2498.76, 245.52, 3, 10.08, 8.77, 81.84),\n ('India', 1887.93, 183.15, 2, 10.21, 8.72, 91.58),\n ('Portugal', 1755.27, 185.13, 2, 9.39, 6.38, 92.57)]",
      "text/html": "<table>\n    <tr>\n        <th>country_group</th>\n        <th>total_sales</th>\n        <th>total_value_sales</th>\n        <th>num_customers</th>\n        <th>avg_sales</th>\n        <th>avg_order</th>\n        <th>customer_lifetime_value</th>\n    </tr>\n    <tr>\n        <td>Other</td>\n        <td>10808.82</td>\n        <td>1094.94</td>\n        <td>15</td>\n        <td>9.476</td>\n        <td>7.444</td>\n        <td>73.0</td>\n    </tr>\n    <tr>\n        <td>USA</td>\n        <td>10405.89</td>\n        <td>1040.49</td>\n        <td>13</td>\n        <td>9.9</td>\n        <td>7.94</td>\n        <td>80.04</td>\n    </tr>\n    <tr>\n        <td>Canada</td>\n        <td>5489.55</td>\n        <td>535.59</td>\n        <td>8</td>\n        <td>10.15</td>\n        <td>7.05</td>\n        <td>66.95</td>\n    </tr>\n    <tr>\n        <td>Brazil</td>\n        <td>4059.0</td>\n        <td>427.68</td>\n        <td>5</td>\n        <td>9.4</td>\n        <td>7.01</td>\n        <td>85.54</td>\n    </tr>\n    <tr>\n        <td>France</td>\n        <td>3972.87</td>\n        <td>389.07</td>\n        <td>5</td>\n        <td>10.11</td>\n        <td>7.78</td>\n        <td>77.81</td>\n    </tr>\n    <tr>\n        <td>Germany</td>\n        <td>3441.24</td>\n        <td>334.62</td>\n        <td>4</td>\n        <td>10.18</td>\n        <td>8.16</td>\n        <td>83.66</td>\n    </tr>\n    <tr>\n        <td>Czech Republic</td>\n        <td>3183.84</td>\n        <td>273.24</td>\n        <td>2</td>\n        <td>11.54</td>\n        <td>9.11</td>\n        <td>136.62</td>\n    </tr>\n    <tr>\n        <td>United Kingdom</td>\n        <td>2498.76</td>\n        <td>245.52</td>\n        <td>3</td>\n        <td>10.08</td>\n        <td>8.77</td>\n        <td>81.84</td>\n    </tr>\n    <tr>\n        <td>India</td>\n        <td>1887.93</td>\n        <td>183.15</td>\n        <td>2</td>\n        <td>10.21</td>\n        <td>8.72</td>\n        <td>91.58</td>\n    </tr>\n    <tr>\n        <td>Portugal</td>\n        <td>1755.27</td>\n        <td>185.13</td>\n        <td>2</td>\n        <td>9.39</td>\n        <td>6.38</td>\n        <td>92.57</td>\n    </tr>\n</table>"
     },
     "execution_count": 18,
     "metadata": {},
     "output_type": "execute_result"
    }
   ],
   "source": [
    "%%sql\n",
    "drop view if exists  country_customer_table;\n",
    "\n",
    "create view country_customer_table as\n",
    "    select c.country as country,\n",
    "           round(sum(i.total), 2) as total_sales,\n",
    "           sum(il.unit_price) as total_value_sales,\n",
    "           count(distinct c.customer_id) as num_customers,\n",
    "           count(i.customer_id) as num_invoices,\n",
    "           round(avg(i.total), 2) as avg_sales,\n",
    "           round(sum(il.unit_price) / count(distinct i.invoice_id), 2) as average_order,\n",
    "           round(sum(il.unit_price) / count(distinct i.customer_id), 2) as customer_lifetime_value\n",
    "    from invoice i\n",
    "    join invoice_line il\n",
    "    on i.invoice_id = il.invoice_id\n",
    "    join customer c\n",
    "    on c.customer_id = i.customer_id\n",
    "    group by country\n",
    "    order by num_customers;\n",
    "\n",
    "select\n",
    "    case\n",
    "        when cct.num_customers = 1 then 'Other'\n",
    "        else cct.country\n",
    "        end as country_group,\n",
    "    round(sum(cct.total_sales), 2) as total_sales,\n",
    "    round(sum(cct.total_value_sales), 2) as total_value_sales,\n",
    "    sum(cct.num_customers) as num_customers,\n",
    "    avg(cct.avg_sales) as  avg_sales,\n",
    "    avg(cct.average_order) as avg_order,\n",
    "    round(avg(cct.customer_lifetime_value), 2) as customer_lifetime_value\n",
    "from country_customer_table cct\n",
    "group by country_group\n",
    "order by total_sales desc;"
   ],
   "metadata": {
    "collapsed": false
   }
  },
  {
   "cell_type": "markdown",
   "source": [
    "From the total_sales column, we see that USA, Canada and Brazil are the top 3 countries with the highest sales. In fact, the country_group of 'Other' which contains countries with only 1 customer, has as much sales as USA alone, and only a slightly higher number of customers.\n",
    "\n",
    "USA sales and customers are nearly double the size of the second highest country, Canada. This means that USA is a significant single market."
   ],
   "metadata": {
    "collapsed": false
   }
  },
  {
   "cell_type": "markdown",
   "source": [
    "### Album vs Individual Tracks\n",
    "We will find out what percentage of purchases are individual tracks vs whole albums.\n",
    "\n",
    "We will ignore the following cases:\n",
    "* Albums that have only one or two tracks which are likely to be purchased by customers as part of a collection of individual tracks.\n",
    "* Customers deciding to manually select every track from an album, and then add a few individual tracks from other albums to their purchase.\n",
    "\n",
    "In order to answer the question,we will identify whether each invoice has all the tracks from an album. We do this by getting the list of tracks from an invoice and comparing it to the list of tracks from an album.\n",
    "\n",
    "We'll use EXCEPT to compare table values. We can check whether the exception of two sub queries IS NULL. Once we've made the comparison, we can wrap it in a CASE statement to add a column that tells us if that invoice was an album purchase or not."
   ],
   "metadata": {
    "collapsed": false
   }
  },
  {
   "cell_type": "markdown",
   "source": [
    "We'll write a query that categorizes each invoice as either an album purchase or not, and calculates the following summary statistics:\n",
    "* Number of invoices\n",
    "* Percentage of invoices"
   ],
   "metadata": {
    "collapsed": false
   }
  },
  {
   "cell_type": "code",
   "execution_count": null,
   "outputs": [],
   "source": [],
   "metadata": {
    "collapsed": false
   }
  },
  {
   "cell_type": "markdown",
   "source": [
    "### Next Steps\n",
    "* Which artist is used in the most playlists?\n",
    "* How many tracks have been purchased vs not purchased?\n",
    "* Is the range of tracks in the store reflective of their sales popularity?\n",
    "* Do protected vs non-protected media types have an effect on popularity?"
   ],
   "metadata": {
    "collapsed": false
   }
  },
  {
   "cell_type": "code",
   "execution_count": null,
   "outputs": [],
   "source": [],
   "metadata": {
    "collapsed": false
   }
  }
 ],
 "metadata": {
  "kernelspec": {
   "display_name": "Python 3",
   "language": "python",
   "name": "python3"
  },
  "language_info": {
   "codemirror_mode": {
    "name": "ipython",
    "version": 3
   },
   "file_extension": ".py",
   "mimetype": "text/x-python",
   "name": "python",
   "nbconvert_exporter": "python",
   "pygments_lexer": "ipython3",
   "version": "3.4.4"
  }
 },
 "nbformat": 4,
 "nbformat_minor": 2
}

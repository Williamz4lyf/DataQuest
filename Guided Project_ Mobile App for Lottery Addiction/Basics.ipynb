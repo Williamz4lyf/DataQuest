{
 "cells": [
  {
   "cell_type": "markdown",
   "source": [
    "# Development of a Mobile App for Lottery Addiction\n",
    "Many people start playing the lottery for fun, but for some this activity turns into a habit which eventually escalates into addiction. Like other compulsive gamblers, lottery addicts soon begin spending from their savings and loans, they start to accumulate debts, and eventually engage in desperate behaviors like theft.\n",
    "\n",
    "A medical institute that aims to prevent and treat gambling addictions wants to build a dedicated mobile app to help lottery addicts better estimate their chances of winning. The institute has a team of engineers that will build the app, but they need us to create the logical core of the app and calculate probabilities.\n",
    "\n",
    "For the first version of the app, they want us to focus on the 6/49 lottery and build functions that enable users to answer questions like:\n",
    "* What is the probability of winning the big prize with a single ticket?\n",
    "* What is the probability of winning the big prize if we play 40 different tickets (or any other number)?\n",
    "* What is the probability of having at least five (or four, or three, or two) winning numbers on a single ticket?\n",
    "\n",
    "We'll be using historical data coming from the national 6/49 lottery game in Canada. The dataset has data for 3,665 drawings, dating from 1982 to 2018 (we'll come back to this)."
   ],
   "metadata": {
    "collapsed": false
   }
  },
  {
   "cell_type": "markdown",
   "source": [
    "### Core Functions\n",
    "Our goal is to write code that can enable users to answer probability questions about playing the lottery.\n",
    "\n",
    "The app will repeatedly calculate probabilities and combinations. We'll start by writing 2 (two) functions that:\n",
    "a. calculates factorials; and\n",
    "b. calculates combinations."
   ],
   "metadata": {
    "collapsed": false
   }
  },
  {
   "cell_type": "code",
   "execution_count": 2,
   "metadata": {},
   "outputs": [],
   "source": [
    "def factorial(n):\n",
    "    final_product = 1\n",
    "    for i in range(n, 0, -1):\n",
    "        final_product *= i\n",
    "    return final_product\n",
    "\n",
    "def combinations(n, k):\n",
    "    numerator = factorial(n)\n",
    "    denominator = factorial(k) * factorial(n-k)\n",
    "    combinations = numerator / denominator\n",
    "    return combinations"
   ]
  },
  {
   "cell_type": "markdown",
   "source": [
    "### One-ticket Probability\n",
    "In the 6/49 lottery, six numbers are drawn from a set of 49 numbers that range from 1 to 49. A player wins the big prize if the six numbers on their tickets match all the six numbers drawn.\n",
    "\n",
    "If a player has a ticket with the numbers {13, 22, 24, 27, 42, 44}, he only wins the big prize if the numbers drawn are {13, 22, 24, 27, 42, 44}. If only one number differs, he doesn't win.\n",
    "\n",
    "We'll start by building a function that calculates the probability of winning the big prize for any given ticket.\n",
    "\n",
    "The function will follow the details below:\n",
    "* Inside the app, the user inputs six different numbers from 1 to 49.\n",
    "* Under the hood, the six numbers will come as a Python list, which will serve as the single input to our function.\n",
    "* The engineering team wants the function to print the probability value in a friendly way — in a way that people without any probability training are able to understand."
   ],
   "metadata": {
    "collapsed": false
   }
  },
  {
   "cell_type": "code",
   "execution_count": 3,
   "outputs": [],
   "source": [
    "def one_ticket_probability(six_num_list):\n",
    "    for i in six_num_list:\n",
    "        if len(six_num_list) != 6:\n",
    "            return 'Error! Please provide only 6 numbers. Try Again!'\n",
    "        elif 1 > i or i > 49:\n",
    "            return 'Error! A number is either less than 1 or greater than 49. Try Again!'\n",
    "        elif not isinstance(i, int):\n",
    "            return 'Error! Only integers allowed. Try Again!'\n",
    "    total_combinations = combinations(49, 6)\n",
    "    successful_outcomes = 1\n",
    "    p_success = (successful_outcomes / total_combinations) * 100\n",
    "    return f'The probability of success is {p_success: .7f}%'"
   ],
   "metadata": {
    "collapsed": false
   }
  },
  {
   "cell_type": "markdown",
   "source": [
    "Let's test the function."
   ],
   "metadata": {
    "collapsed": false
   }
  },
  {
   "cell_type": "code",
   "execution_count": 4,
   "outputs": [],
   "source": [
    "list_1 = [1, 45, 8, 12, 39, 26]\n",
    "list_2 = [6, 43, 27, 38, 15, 4]"
   ],
   "metadata": {
    "collapsed": false
   }
  },
  {
   "cell_type": "code",
   "execution_count": 5,
   "outputs": [
    {
     "name": "stdout",
     "output_type": "stream",
     "text": [
      "The probability of success is  0.0000072%\n",
      "The probability of success is  0.0000072%\n"
     ]
    }
   ],
   "source": [
    "print(one_ticket_probability(list_1))\n",
    "print(one_ticket_probability(list_2))"
   ],
   "metadata": {
    "collapsed": false
   }
  },
  {
   "cell_type": "markdown",
   "source": [
    "The probability of success for one set of 6 numbers is 0.0000072%.\n",
    "Let's test for error checking."
   ],
   "metadata": {
    "collapsed": false
   }
  },
  {
   "cell_type": "code",
   "execution_count": 6,
   "outputs": [],
   "source": [
    "list_3 = [13, 0, 25, 5, 36, 47]\n",
    "list_4 = [8, 3.4, 9, 45, 33, 7]\n",
    "list_5 = [6, 67, 34, 43, 22, 5]\n",
    "list_6 = [6, 67, 34, 43, 22, 5, 9]\n",
    "list_7 = [6, 67, 34, 43, 22]"
   ],
   "metadata": {
    "collapsed": false
   }
  },
  {
   "cell_type": "code",
   "execution_count": 7,
   "outputs": [
    {
     "name": "stdout",
     "output_type": "stream",
     "text": [
      "Error! A number is either less than 1 or greater than 49. Try Again!\n",
      "Error! Only integers allowed. Try Again!\n",
      "Error! A number is either less than 1 or greater than 49. Try Again!\n",
      "Error! Please provide only 6 numbers. Try Again!\n",
      "Error! Please provide only 6 numbers. Try Again!\n"
     ]
    }
   ],
   "source": [
    "print(one_ticket_probability(list_3))\n",
    "print(one_ticket_probability(list_4))\n",
    "print(one_ticket_probability(list_5))\n",
    "print(one_ticket_probability(list_6))\n",
    "print(one_ticket_probability(list_7))"
   ],
   "metadata": {
    "collapsed": false
   }
  },
  {
   "cell_type": "markdown",
   "source": [
    "Error checking is accurate."
   ],
   "metadata": {
    "collapsed": false
   }
  },
  {
   "cell_type": "markdown",
   "source": [
    "### Historical Data Check for Canada Lottery\n",
    "We'd also like the app to allow users to compare their ticket against the historical lottery data in Canada and determine whether they would have ever won by now.\n",
    "\n",
    "We'll begin by loading the dataset of historical data into a pandas dataframe and review it."
   ],
   "metadata": {
    "collapsed": false
   }
  },
  {
   "cell_type": "code",
   "execution_count": 8,
   "outputs": [],
   "source": [
    "import warnings\n",
    "\n",
    "warnings.simplefilter(action='ignore')\n",
    "import numpy as np\n",
    "import pandas as pd\n",
    "import matplotlib.pyplot as plt\n",
    "import seaborn as sns"
   ],
   "metadata": {
    "collapsed": false
   }
  },
  {
   "cell_type": "code",
   "execution_count": 9,
   "outputs": [
    {
     "data": {
      "text/plain": "(3665, 11)"
     },
     "execution_count": 9,
     "metadata": {},
     "output_type": "execute_result"
    }
   ],
   "source": [
    "df = pd.read_csv('649.csv')\n",
    "df.shape"
   ],
   "metadata": {
    "collapsed": false
   }
  },
  {
   "cell_type": "code",
   "execution_count": 10,
   "outputs": [
    {
     "data": {
      "text/plain": "   PRODUCT  DRAW NUMBER  SEQUENCE NUMBER  DRAW DATE  NUMBER DRAWN 1  \\\n0      649            1                0  6/12/1982               3   \n1      649            2                0  6/19/1982               8   \n2      649            3                0  6/26/1982               1   \n\n   NUMBER DRAWN 2  NUMBER DRAWN 3  NUMBER DRAWN 4  NUMBER DRAWN 5  \\\n0              11              12              14              41   \n1              33              36              37              39   \n2               6              23              24              27   \n\n   NUMBER DRAWN 6  BONUS NUMBER  \n0              43            13  \n1              41             9  \n2              39            34  ",
      "text/html": "<div>\n<style scoped>\n    .dataframe tbody tr th:only-of-type {\n        vertical-align: middle;\n    }\n\n    .dataframe tbody tr th {\n        vertical-align: top;\n    }\n\n    .dataframe thead th {\n        text-align: right;\n    }\n</style>\n<table border=\"1\" class=\"dataframe\">\n  <thead>\n    <tr style=\"text-align: right;\">\n      <th></th>\n      <th>PRODUCT</th>\n      <th>DRAW NUMBER</th>\n      <th>SEQUENCE NUMBER</th>\n      <th>DRAW DATE</th>\n      <th>NUMBER DRAWN 1</th>\n      <th>NUMBER DRAWN 2</th>\n      <th>NUMBER DRAWN 3</th>\n      <th>NUMBER DRAWN 4</th>\n      <th>NUMBER DRAWN 5</th>\n      <th>NUMBER DRAWN 6</th>\n      <th>BONUS NUMBER</th>\n    </tr>\n  </thead>\n  <tbody>\n    <tr>\n      <th>0</th>\n      <td>649</td>\n      <td>1</td>\n      <td>0</td>\n      <td>6/12/1982</td>\n      <td>3</td>\n      <td>11</td>\n      <td>12</td>\n      <td>14</td>\n      <td>41</td>\n      <td>43</td>\n      <td>13</td>\n    </tr>\n    <tr>\n      <th>1</th>\n      <td>649</td>\n      <td>2</td>\n      <td>0</td>\n      <td>6/19/1982</td>\n      <td>8</td>\n      <td>33</td>\n      <td>36</td>\n      <td>37</td>\n      <td>39</td>\n      <td>41</td>\n      <td>9</td>\n    </tr>\n    <tr>\n      <th>2</th>\n      <td>649</td>\n      <td>3</td>\n      <td>0</td>\n      <td>6/26/1982</td>\n      <td>1</td>\n      <td>6</td>\n      <td>23</td>\n      <td>24</td>\n      <td>27</td>\n      <td>39</td>\n      <td>34</td>\n    </tr>\n  </tbody>\n</table>\n</div>"
     },
     "execution_count": 10,
     "metadata": {},
     "output_type": "execute_result"
    }
   ],
   "source": [
    "df.head(3)"
   ],
   "metadata": {
    "collapsed": false
   }
  },
  {
   "cell_type": "code",
   "execution_count": 11,
   "outputs": [
    {
     "data": {
      "text/plain": "      PRODUCT  DRAW NUMBER  SEQUENCE NUMBER  DRAW DATE  NUMBER DRAWN 1  \\\n3662      649         3589                0  6/13/2018               6   \n3663      649         3590                0  6/16/2018               2   \n3664      649         3591                0  6/20/2018              14   \n\n      NUMBER DRAWN 2  NUMBER DRAWN 3  NUMBER DRAWN 4  NUMBER DRAWN 5  \\\n3662              22              24              31              32   \n3663              15              21              31              38   \n3664              24              31              35              37   \n\n      NUMBER DRAWN 6  BONUS NUMBER  \n3662              34            16  \n3663              49             8  \n3664              48            17  ",
      "text/html": "<div>\n<style scoped>\n    .dataframe tbody tr th:only-of-type {\n        vertical-align: middle;\n    }\n\n    .dataframe tbody tr th {\n        vertical-align: top;\n    }\n\n    .dataframe thead th {\n        text-align: right;\n    }\n</style>\n<table border=\"1\" class=\"dataframe\">\n  <thead>\n    <tr style=\"text-align: right;\">\n      <th></th>\n      <th>PRODUCT</th>\n      <th>DRAW NUMBER</th>\n      <th>SEQUENCE NUMBER</th>\n      <th>DRAW DATE</th>\n      <th>NUMBER DRAWN 1</th>\n      <th>NUMBER DRAWN 2</th>\n      <th>NUMBER DRAWN 3</th>\n      <th>NUMBER DRAWN 4</th>\n      <th>NUMBER DRAWN 5</th>\n      <th>NUMBER DRAWN 6</th>\n      <th>BONUS NUMBER</th>\n    </tr>\n  </thead>\n  <tbody>\n    <tr>\n      <th>3662</th>\n      <td>649</td>\n      <td>3589</td>\n      <td>0</td>\n      <td>6/13/2018</td>\n      <td>6</td>\n      <td>22</td>\n      <td>24</td>\n      <td>31</td>\n      <td>32</td>\n      <td>34</td>\n      <td>16</td>\n    </tr>\n    <tr>\n      <th>3663</th>\n      <td>649</td>\n      <td>3590</td>\n      <td>0</td>\n      <td>6/16/2018</td>\n      <td>2</td>\n      <td>15</td>\n      <td>21</td>\n      <td>31</td>\n      <td>38</td>\n      <td>49</td>\n      <td>8</td>\n    </tr>\n    <tr>\n      <th>3664</th>\n      <td>649</td>\n      <td>3591</td>\n      <td>0</td>\n      <td>6/20/2018</td>\n      <td>14</td>\n      <td>24</td>\n      <td>31</td>\n      <td>35</td>\n      <td>37</td>\n      <td>48</td>\n      <td>17</td>\n    </tr>\n  </tbody>\n</table>\n</div>"
     },
     "execution_count": 11,
     "metadata": {},
     "output_type": "execute_result"
    }
   ],
   "source": [
    "df.tail(3)"
   ],
   "metadata": {
    "collapsed": false
   }
  },
  {
   "cell_type": "markdown",
   "source": [
    "### Function for Historical Data Check\n",
    "In developing the app, we need to be aware of the following details:\n",
    "* Inside the app, the user inputs six different numbers from 1 to 49.\n",
    "* Under the hood, the six numbers will come as a Python list and serve as an input to our function.\n",
    "* We will write a function that prints:\n",
    "    - the number of times the combination selected occurred in the Canada data set; and\n",
    "    - the probability of winning the big prize in the next drawing with that combination.\n",
    "\n",
    "We'll write this function below."
   ],
   "metadata": {
    "collapsed": false
   }
  },
  {
   "cell_type": "markdown",
   "source": [
    "We'll begin by writing a function that takes as input a row of the lottery dataframe and returns a set containing all the six winning numbers. For the first row, for instance, the function should return the set {3, 41, 11, 12, 43, 14}.\n",
    "\n",
    "We'll apply this function to the dataframe to create a series of a set of winning numbers. We'll use this series of sets to determine if a list of numbers have featured as winning numbers in the past."
   ],
   "metadata": {
    "collapsed": false
   }
  },
  {
   "cell_type": "code",
   "execution_count": 12,
   "outputs": [
    {
     "data": {
      "text/plain": "0    {3, 41, 11, 12, 43, 14}\n1    {33, 36, 37, 39, 8, 41}\n2     {1, 6, 39, 23, 24, 27}\n3     {3, 9, 10, 43, 13, 20}\n4    {34, 5, 14, 47, 21, 31}\ndtype: object"
     },
     "execution_count": 12,
     "metadata": {},
     "output_type": "execute_result"
    }
   ],
   "source": [
    "def extract_numbers(row):\n",
    "    row = row[4:10]\n",
    "    row = set(row.values)\n",
    "    return row\n",
    "\n",
    "winning_numbers = df.apply(extract_numbers, axis=1)\n",
    "winning_numbers.head()"
   ],
   "metadata": {
    "collapsed": false
   }
  },
  {
   "cell_type": "markdown",
   "source": [
    "We'll now write a function to compare a given list of numbers to the series created above to determine if there are any matches (and the number of matches) of the list in the series. In the function, we'll also inform the user what their chances are of winning the lottery using their list of numbers."
   ],
   "metadata": {
    "collapsed": false
   }
  },
  {
   "cell_type": "markdown",
   "source": [],
   "metadata": {
    "collapsed": false
   }
  },
  {
   "cell_type": "code",
   "execution_count": 13,
   "outputs": [],
   "source": [
    "def check_historical_occurence(number_list, set_series):\n",
    "    set_list = set(number_list)\n",
    "    value_count_occur = (winning_numbers == set_list).sum()\n",
    "\n",
    "    total_combinations = combinations(49, 6)\n",
    "    successful_outcomes = 1\n",
    "\n",
    "    print(f'Your number list {number_list} has occurred as a winning set {value_count_occur} times in the past. {one_ticket_probability(number_list)} which means you have a {successful_outcomes} in {total_combinations:,.0f} chance of winning the lottery with this number list.')"
   ],
   "metadata": {
    "collapsed": false
   }
  },
  {
   "cell_type": "markdown",
   "source": [
    "Let's test the function with 2 number lists"
   ],
   "metadata": {
    "collapsed": false
   }
  },
  {
   "cell_type": "code",
   "execution_count": 14,
   "outputs": [
    {
     "name": "stdout",
     "output_type": "stream",
     "text": [
      "Your number list [6, 43, 27, 38, 15, 4] has occurred as a winning set 0 times in the past. The probability of success is  0.0000072% which means you have a 1 in 13,983,816 chance of winning the lottery with this number list.\n"
     ]
    }
   ],
   "source": [
    "check_historical_occurence(list_2, winning_numbers)"
   ],
   "metadata": {
    "collapsed": false
   }
  },
  {
   "cell_type": "code",
   "execution_count": 15,
   "outputs": [
    {
     "name": "stdout",
     "output_type": "stream",
     "text": [
      "Your number list [3, 41, 11, 12, 43, 14] has occurred as a winning set 1 times in the past. The probability of success is  0.0000072% which means you have a 1 in 13,983,816 chance of winning the lottery with this number list.\n"
     ]
    }
   ],
   "source": [
    "list_8 = [3, 41, 11, 12, 43, 14]\n",
    "check_historical_occurence(list_8, winning_numbers)"
   ],
   "metadata": {
    "collapsed": false
   }
  },
  {
   "cell_type": "markdown",
   "source": [
    "### Multi-ticket Probability\n",
    "Lottery addicts usually play more than one ticket on a single drawing, thinking that this might increase their chances of winning significantly. The purpose of this app is to help them better estimate their chances of winning.\n",
    "\n",
    "We'll write a function that will allow the users to calculate the chances of winning for any number of different tickets, based on the following criteria:\n",
    "- The user will input the number of different tickets they want to play (without inputting the specific combinations they intend to play).\n",
    "- The function will see an integer between 1 and 13,983,816 (the maximum number of different tickets).\n",
    "- The function should print information about the probability of winning the big prize depending on the number of different tickets played."
   ],
   "metadata": {
    "collapsed": false
   }
  },
  {
   "cell_type": "code",
   "execution_count": 22,
   "outputs": [],
   "source": [
    "def multi_ticket_probability(tix):\n",
    "   total_outcomes = combinations(49, 6)\n",
    "   successful_outcomes = tix\n",
    "   p_success = (successful_outcomes / total_outcomes) * 100\n",
    "   print(f'You have a {p_success:.5f}% probability of winning the lottery with {tix} tickets.')"
   ],
   "metadata": {
    "collapsed": false
   }
  },
  {
   "cell_type": "markdown",
   "source": [
    "Let's test our function."
   ],
   "metadata": {
    "collapsed": false
   }
  },
  {
   "cell_type": "code",
   "execution_count": 23,
   "outputs": [
    {
     "name": "stdout",
     "output_type": "stream",
     "text": [
      "You have a 0.00001% probability of winning the lottery with 1 tickets.\n",
      "You have a 0.00007% probability of winning the lottery with 10 tickets.\n",
      "You have a 0.00072% probability of winning the lottery with 100 tickets.\n",
      "You have a 0.07151% probability of winning the lottery with 10000 tickets.\n",
      "You have a 7.15112% probability of winning the lottery with 1000000 tickets.\n",
      "You have a 50.00000% probability of winning the lottery with 6991908 tickets.\n",
      "You have a 100.00000% probability of winning the lottery with 13983816 tickets.\n"
     ]
    }
   ],
   "source": [
    "list_9 = [1, 10, 100, 10000, 1000000, 6991908, 13983816]\n",
    "for ticket in list_9:\n",
    "    multi_ticket_probability(ticket)"
   ],
   "metadata": {
    "collapsed": false
   }
  },
  {
   "cell_type": "markdown",
   "source": [
    "### Less Winning Numbers — Function\n",
    "We'll write a final function to allow users calculate probabilities for two, three, four or five winning numbers. This is because in 6/49 lotteries, there are smaller prizes for players whose tickets match two, three, four or five of the six numbers drawn.\n",
    "\n",
    "The function will accept an integer between 2 and 5, that represents the number of winning numbers expected. The function will then print out information about the probability of having the inputted number of winning numbers."
   ],
   "metadata": {
    "collapsed": false
   }
  },
  {
   "cell_type": "code",
   "execution_count": 27,
   "outputs": [],
   "source": [
    "def probability_less_6(int_2_5):\n",
    "    n_combinations_ticket = combinations(6, int_2_5)\n",
    "    n_combinations_remaining = combinations(43, 6 - int_2_5)\n",
    "    successful_outcomes = n_combinations_ticket * n_combinations_remaining\n",
    "\n",
    "    total_outcomes = combinations(49, 6)\n",
    "    p_success = (successful_outcomes / total_outcomes) * 100\n",
    "\n",
    "    print(f'Your chances of having {int_2_5} winning numbers with this ticket are {p_success:.6f}%, i.e. a 1 in {round(total_outcomes / successful_outcomes):,} chance.')\n"
   ],
   "metadata": {
    "collapsed": false
   }
  },
  {
   "cell_type": "markdown",
   "source": [
    "Let's test the function."
   ],
   "metadata": {
    "collapsed": false
   }
  },
  {
   "cell_type": "code",
   "execution_count": 28,
   "outputs": [
    {
     "name": "stdout",
     "output_type": "stream",
     "text": [
      "Your chances of having 2 winning numbers with this ticket are 13.237803%, i.e. a 1 in 8 chance.\n",
      "Your chances of having 3 winning numbers with this ticket are 1.765040%, i.e. a 1 in 57 chance.\n",
      "Your chances of having 4 winning numbers with this ticket are 0.096862%, i.e. a 1 in 1,032 chance.\n",
      "Your chances of having 5 winning numbers with this ticket are 0.001845%, i.e. a 1 in 54,201 chance.\n"
     ]
    }
   ],
   "source": [
    "list_10 = [2, 3, 4, 5]\n",
    "for ticket in list_10:\n",
    "    probability_less_6(ticket)"
   ],
   "metadata": {
    "collapsed": false
   }
  },
  {
   "cell_type": "markdown",
   "source": [
    "### Next Steps\n",
    "Next steps include:\n",
    "- Making the outputs even easier to understand by adding fun analogies (for example, we can find probabilities for strange events and compare with the chances of winning in lottery; for instance, we can output something along the lines \"You are 100 times more likely to be the victim of a shark attack than winning the lottery\").\n",
    "- Combining the one_ticket_probability() and check_historical_occurrence() to output information on probability and historical occurrence at the same time.\n",
    "- Creating a function similar to probability_less_6() which calculates the probability of having at least two, three, four or five winning numbers. Hint: the number of successful outcomes for having at least four winning numbers is the sum of these three numbers:\n",
    "    - The number of successful outcomes for having four winning numbers exactly\n",
    "    - The number of successful outcomes for having five winning numbers exactly\n",
    "    - The number of successful outcomes for having six winning numbers exactly"
   ],
   "metadata": {
    "collapsed": false
   }
  },
  {
   "cell_type": "code",
   "execution_count": null,
   "outputs": [],
   "source": [],
   "metadata": {
    "collapsed": false
   }
  }
 ],
 "metadata": {
  "kernelspec": {
   "display_name": "Python 3",
   "language": "python",
   "name": "python3"
  },
  "language_info": {
   "codemirror_mode": {
    "name": "ipython",
    "version": 3
   },
   "file_extension": ".py",
   "mimetype": "text/x-python",
   "name": "python",
   "nbconvert_exporter": "python",
   "pygments_lexer": "ipython3",
   "version": "3.6.8"
  }
 },
 "nbformat": 4,
 "nbformat_minor": 2
}

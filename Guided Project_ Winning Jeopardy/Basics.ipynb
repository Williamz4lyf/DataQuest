{
 "cells": [
  {
   "cell_type": "markdown",
   "source": [
    "# Winning Jeopardy\n",
    "Jeopardy is a popular TV show in the US where participants answer questions to win money. It's been running for many years, and is a major force in US popular culture.\n",
    "\n",
    "In this project, we'll work with a dataset of Jeopardy questions to figure out some patterns in the questions that could help a prospective candidate win.\n",
    "\n",
    "The dataset has the following columns:\n",
    "1. Show Number - the Jeopardy episode number\n",
    "2. Air Date - the date the episode aired\n",
    "3. Round - the round of Jeopardy\n",
    "4. Category - the category of the question\n",
    "5. Value - the number of dollars the correct answer is worth\n",
    "6. Question - the text of the question\n",
    "7. Answer - the text of the answer\n",
    "\n",
    "Let's read and review the dataset."
   ],
   "metadata": {
    "collapsed": false
   }
  },
  {
   "cell_type": "code",
   "execution_count": 1,
   "metadata": {
    "collapsed": true
   },
   "outputs": [],
   "source": [
    "import warnings\n",
    "warnings.simplefilter(action='ignore')\n",
    "import numpy as np\n",
    "import pandas as pd\n",
    "import re\n",
    "import random\n",
    "from scipy.stats import chisquare\n",
    "from scipy.stats import chi2_contingency\n",
    "import matplotlib.pyplot as plt"
   ]
  },
  {
   "cell_type": "code",
   "execution_count": 2,
   "outputs": [
    {
     "data": {
      "text/plain": "   Show Number    Air Date      Round                         Category  Value  \\\n0         4680  2004-12-31  Jeopardy!                          HISTORY   $200   \n1         4680  2004-12-31  Jeopardy!  ESPN's TOP 10 ALL-TIME ATHLETES   $200   \n2         4680  2004-12-31  Jeopardy!      EVERYBODY TALKS ABOUT IT...   $200   \n3         4680  2004-12-31  Jeopardy!                 THE COMPANY LINE   $200   \n4         4680  2004-12-31  Jeopardy!              EPITAPHS & TRIBUTES   $200   \n\n                                            Question      Answer  \n0  For the last 8 years of his life, Galileo was ...  Copernicus  \n1  No. 2: 1912 Olympian; football star at Carlisl...  Jim Thorpe  \n2  The city of Yuma in this state has a record av...     Arizona  \n3  In 1963, live on \"The Art Linkletter Show\", th...  McDonald's  \n4  Signer of the Dec. of Indep., framer of the Co...  John Adams  ",
      "text/html": "<div>\n<style scoped>\n    .dataframe tbody tr th:only-of-type {\n        vertical-align: middle;\n    }\n\n    .dataframe tbody tr th {\n        vertical-align: top;\n    }\n\n    .dataframe thead th {\n        text-align: right;\n    }\n</style>\n<table border=\"1\" class=\"dataframe\">\n  <thead>\n    <tr style=\"text-align: right;\">\n      <th></th>\n      <th>Show Number</th>\n      <th>Air Date</th>\n      <th>Round</th>\n      <th>Category</th>\n      <th>Value</th>\n      <th>Question</th>\n      <th>Answer</th>\n    </tr>\n  </thead>\n  <tbody>\n    <tr>\n      <th>0</th>\n      <td>4680</td>\n      <td>2004-12-31</td>\n      <td>Jeopardy!</td>\n      <td>HISTORY</td>\n      <td>$200</td>\n      <td>For the last 8 years of his life, Galileo was ...</td>\n      <td>Copernicus</td>\n    </tr>\n    <tr>\n      <th>1</th>\n      <td>4680</td>\n      <td>2004-12-31</td>\n      <td>Jeopardy!</td>\n      <td>ESPN's TOP 10 ALL-TIME ATHLETES</td>\n      <td>$200</td>\n      <td>No. 2: 1912 Olympian; football star at Carlisl...</td>\n      <td>Jim Thorpe</td>\n    </tr>\n    <tr>\n      <th>2</th>\n      <td>4680</td>\n      <td>2004-12-31</td>\n      <td>Jeopardy!</td>\n      <td>EVERYBODY TALKS ABOUT IT...</td>\n      <td>$200</td>\n      <td>The city of Yuma in this state has a record av...</td>\n      <td>Arizona</td>\n    </tr>\n    <tr>\n      <th>3</th>\n      <td>4680</td>\n      <td>2004-12-31</td>\n      <td>Jeopardy!</td>\n      <td>THE COMPANY LINE</td>\n      <td>$200</td>\n      <td>In 1963, live on \"The Art Linkletter Show\", th...</td>\n      <td>McDonald's</td>\n    </tr>\n    <tr>\n      <th>4</th>\n      <td>4680</td>\n      <td>2004-12-31</td>\n      <td>Jeopardy!</td>\n      <td>EPITAPHS &amp; TRIBUTES</td>\n      <td>$200</td>\n      <td>Signer of the Dec. of Indep., framer of the Co...</td>\n      <td>John Adams</td>\n    </tr>\n  </tbody>\n</table>\n</div>"
     },
     "execution_count": 2,
     "metadata": {},
     "output_type": "execute_result"
    }
   ],
   "source": [
    "jeopardy = pd.read_csv('jeopardy.csv')\n",
    "jeopardy.head()"
   ],
   "metadata": {
    "collapsed": false
   }
  },
  {
   "cell_type": "markdown",
   "source": [
    "Let's clean the column names in the jeopardy dataset."
   ],
   "metadata": {
    "collapsed": false
   }
  },
  {
   "cell_type": "code",
   "execution_count": 3,
   "outputs": [
    {
     "data": {
      "text/plain": "['Show Number',\n ' Air Date',\n ' Round',\n ' Category',\n ' Value',\n ' Question',\n ' Answer']"
     },
     "execution_count": 3,
     "metadata": {},
     "output_type": "execute_result"
    }
   ],
   "source": [
    "old_cols = [i for i in jeopardy.columns]\n",
    "old_cols"
   ],
   "metadata": {
    "collapsed": false
   }
  },
  {
   "cell_type": "code",
   "execution_count": 4,
   "outputs": [
    {
     "data": {
      "text/plain": "['Show Number', 'Air Date', 'Round', 'Category', 'Value', 'Question', 'Answer']"
     },
     "execution_count": 4,
     "metadata": {},
     "output_type": "execute_result"
    }
   ],
   "source": [
    "new_cols = [i.strip() for i in old_cols]\n",
    "new_cols"
   ],
   "metadata": {
    "collapsed": false
   }
  },
  {
   "cell_type": "code",
   "execution_count": 5,
   "outputs": [
    {
     "data": {
      "text/plain": "{'Show Number': 'Show Number',\n ' Air Date': 'Air Date',\n ' Round': 'Round',\n ' Category': 'Category',\n ' Value': 'Value',\n ' Question': 'Question',\n ' Answer': 'Answer'}"
     },
     "execution_count": 5,
     "metadata": {},
     "output_type": "execute_result"
    }
   ],
   "source": [
    "col_names = dict()\n",
    "for i, j in zip(old_cols, new_cols):\n",
    "    col_names[i] = j\n",
    "\n",
    "col_names"
   ],
   "metadata": {
    "collapsed": false
   }
  },
  {
   "cell_type": "code",
   "execution_count": 6,
   "outputs": [
    {
     "data": {
      "text/plain": "   Show Number    Air Date      Round                         Category Value  \\\n0         4680  2004-12-31  Jeopardy!                          HISTORY  $200   \n1         4680  2004-12-31  Jeopardy!  ESPN's TOP 10 ALL-TIME ATHLETES  $200   \n2         4680  2004-12-31  Jeopardy!      EVERYBODY TALKS ABOUT IT...  $200   \n3         4680  2004-12-31  Jeopardy!                 THE COMPANY LINE  $200   \n4         4680  2004-12-31  Jeopardy!              EPITAPHS & TRIBUTES  $200   \n\n                                            Question      Answer  \n0  For the last 8 years of his life, Galileo was ...  Copernicus  \n1  No. 2: 1912 Olympian; football star at Carlisl...  Jim Thorpe  \n2  The city of Yuma in this state has a record av...     Arizona  \n3  In 1963, live on \"The Art Linkletter Show\", th...  McDonald's  \n4  Signer of the Dec. of Indep., framer of the Co...  John Adams  ",
      "text/html": "<div>\n<style scoped>\n    .dataframe tbody tr th:only-of-type {\n        vertical-align: middle;\n    }\n\n    .dataframe tbody tr th {\n        vertical-align: top;\n    }\n\n    .dataframe thead th {\n        text-align: right;\n    }\n</style>\n<table border=\"1\" class=\"dataframe\">\n  <thead>\n    <tr style=\"text-align: right;\">\n      <th></th>\n      <th>Show Number</th>\n      <th>Air Date</th>\n      <th>Round</th>\n      <th>Category</th>\n      <th>Value</th>\n      <th>Question</th>\n      <th>Answer</th>\n    </tr>\n  </thead>\n  <tbody>\n    <tr>\n      <th>0</th>\n      <td>4680</td>\n      <td>2004-12-31</td>\n      <td>Jeopardy!</td>\n      <td>HISTORY</td>\n      <td>$200</td>\n      <td>For the last 8 years of his life, Galileo was ...</td>\n      <td>Copernicus</td>\n    </tr>\n    <tr>\n      <th>1</th>\n      <td>4680</td>\n      <td>2004-12-31</td>\n      <td>Jeopardy!</td>\n      <td>ESPN's TOP 10 ALL-TIME ATHLETES</td>\n      <td>$200</td>\n      <td>No. 2: 1912 Olympian; football star at Carlisl...</td>\n      <td>Jim Thorpe</td>\n    </tr>\n    <tr>\n      <th>2</th>\n      <td>4680</td>\n      <td>2004-12-31</td>\n      <td>Jeopardy!</td>\n      <td>EVERYBODY TALKS ABOUT IT...</td>\n      <td>$200</td>\n      <td>The city of Yuma in this state has a record av...</td>\n      <td>Arizona</td>\n    </tr>\n    <tr>\n      <th>3</th>\n      <td>4680</td>\n      <td>2004-12-31</td>\n      <td>Jeopardy!</td>\n      <td>THE COMPANY LINE</td>\n      <td>$200</td>\n      <td>In 1963, live on \"The Art Linkletter Show\", th...</td>\n      <td>McDonald's</td>\n    </tr>\n    <tr>\n      <th>4</th>\n      <td>4680</td>\n      <td>2004-12-31</td>\n      <td>Jeopardy!</td>\n      <td>EPITAPHS &amp; TRIBUTES</td>\n      <td>$200</td>\n      <td>Signer of the Dec. of Indep., framer of the Co...</td>\n      <td>John Adams</td>\n    </tr>\n  </tbody>\n</table>\n</div>"
     },
     "execution_count": 6,
     "metadata": {},
     "output_type": "execute_result"
    }
   ],
   "source": [
    "jeopardy.rename(columns=col_names, inplace=True)\n",
    "jeopardy.head()"
   ],
   "metadata": {
    "collapsed": false
   }
  },
  {
   "cell_type": "markdown",
   "source": [
    "We'll need to clean the dataset further to reflect appropriate datatypes."
   ],
   "metadata": {
    "collapsed": false
   }
  },
  {
   "cell_type": "code",
   "execution_count": 7,
   "outputs": [
    {
     "name": "stdout",
     "output_type": "stream",
     "text": [
      "<class 'pandas.core.frame.DataFrame'>\n",
      "RangeIndex: 19999 entries, 0 to 19998\n",
      "Data columns (total 7 columns):\n",
      " #   Column       Non-Null Count  Dtype \n",
      "---  ------       --------------  ----- \n",
      " 0   Show Number  19999 non-null  int64 \n",
      " 1   Air Date     19999 non-null  object\n",
      " 2   Round        19999 non-null  object\n",
      " 3   Category     19999 non-null  object\n",
      " 4   Value        19999 non-null  object\n",
      " 5   Question     19999 non-null  object\n",
      " 6   Answer       19999 non-null  object\n",
      "dtypes: int64(1), object(6)\n",
      "memory usage: 1.1+ MB\n"
     ]
    }
   ],
   "source": [
    "jeopardy.info()"
   ],
   "metadata": {
    "collapsed": false
   }
  },
  {
   "cell_type": "markdown",
   "source": [
    "### Normalizing Text\n",
    "Before we can start doing analysis on the Jeopardy questions, you need to normalize all the text columns (i.e., the Question and Answer columns). We'll write a function that normalizes these columns by converting the words in those columns into lowercase and removing any punctuation, so similarly spelled words are considered the same not separate.\n",
    "\n",
    "The function will be output into new columns using the apply() method."
   ],
   "metadata": {
    "collapsed": false
   }
  },
  {
   "cell_type": "code",
   "execution_count": 8,
   "outputs": [],
   "source": [
    "def normalize_text(row_string):\n",
    "    row_string = re.sub('\\W', ' ', row_string)\n",
    "    row_string = row_string.lower()\n",
    "    return row_string"
   ],
   "metadata": {
    "collapsed": false
   }
  },
  {
   "cell_type": "code",
   "execution_count": 9,
   "outputs": [
    {
     "data": {
      "text/plain": "   Show Number    Air Date      Round                         Category Value  \\\n0         4680  2004-12-31  Jeopardy!                          HISTORY  $200   \n1         4680  2004-12-31  Jeopardy!  ESPN's TOP 10 ALL-TIME ATHLETES  $200   \n2         4680  2004-12-31  Jeopardy!      EVERYBODY TALKS ABOUT IT...  $200   \n3         4680  2004-12-31  Jeopardy!                 THE COMPANY LINE  $200   \n4         4680  2004-12-31  Jeopardy!              EPITAPHS & TRIBUTES  $200   \n\n                                            Question      Answer  \\\n0  For the last 8 years of his life, Galileo was ...  Copernicus   \n1  No. 2: 1912 Olympian; football star at Carlisl...  Jim Thorpe   \n2  The city of Yuma in this state has a record av...     Arizona   \n3  In 1963, live on \"The Art Linkletter Show\", th...  McDonald's   \n4  Signer of the Dec. of Indep., framer of the Co...  John Adams   \n\n                                      clean_question clean_answer  \n0  for the last 8 years of his life  galileo was ...   copernicus  \n1  no  2  1912 olympian  football star at carlisl...   jim thorpe  \n2  the city of yuma in this state has a record av...      arizona  \n3  in 1963  live on  the art linkletter show   th...   mcdonald s  \n4  signer of the dec  of indep   framer of the co...   john adams  ",
      "text/html": "<div>\n<style scoped>\n    .dataframe tbody tr th:only-of-type {\n        vertical-align: middle;\n    }\n\n    .dataframe tbody tr th {\n        vertical-align: top;\n    }\n\n    .dataframe thead th {\n        text-align: right;\n    }\n</style>\n<table border=\"1\" class=\"dataframe\">\n  <thead>\n    <tr style=\"text-align: right;\">\n      <th></th>\n      <th>Show Number</th>\n      <th>Air Date</th>\n      <th>Round</th>\n      <th>Category</th>\n      <th>Value</th>\n      <th>Question</th>\n      <th>Answer</th>\n      <th>clean_question</th>\n      <th>clean_answer</th>\n    </tr>\n  </thead>\n  <tbody>\n    <tr>\n      <th>0</th>\n      <td>4680</td>\n      <td>2004-12-31</td>\n      <td>Jeopardy!</td>\n      <td>HISTORY</td>\n      <td>$200</td>\n      <td>For the last 8 years of his life, Galileo was ...</td>\n      <td>Copernicus</td>\n      <td>for the last 8 years of his life  galileo was ...</td>\n      <td>copernicus</td>\n    </tr>\n    <tr>\n      <th>1</th>\n      <td>4680</td>\n      <td>2004-12-31</td>\n      <td>Jeopardy!</td>\n      <td>ESPN's TOP 10 ALL-TIME ATHLETES</td>\n      <td>$200</td>\n      <td>No. 2: 1912 Olympian; football star at Carlisl...</td>\n      <td>Jim Thorpe</td>\n      <td>no  2  1912 olympian  football star at carlisl...</td>\n      <td>jim thorpe</td>\n    </tr>\n    <tr>\n      <th>2</th>\n      <td>4680</td>\n      <td>2004-12-31</td>\n      <td>Jeopardy!</td>\n      <td>EVERYBODY TALKS ABOUT IT...</td>\n      <td>$200</td>\n      <td>The city of Yuma in this state has a record av...</td>\n      <td>Arizona</td>\n      <td>the city of yuma in this state has a record av...</td>\n      <td>arizona</td>\n    </tr>\n    <tr>\n      <th>3</th>\n      <td>4680</td>\n      <td>2004-12-31</td>\n      <td>Jeopardy!</td>\n      <td>THE COMPANY LINE</td>\n      <td>$200</td>\n      <td>In 1963, live on \"The Art Linkletter Show\", th...</td>\n      <td>McDonald's</td>\n      <td>in 1963  live on  the art linkletter show   th...</td>\n      <td>mcdonald s</td>\n    </tr>\n    <tr>\n      <th>4</th>\n      <td>4680</td>\n      <td>2004-12-31</td>\n      <td>Jeopardy!</td>\n      <td>EPITAPHS &amp; TRIBUTES</td>\n      <td>$200</td>\n      <td>Signer of the Dec. of Indep., framer of the Co...</td>\n      <td>John Adams</td>\n      <td>signer of the dec  of indep   framer of the co...</td>\n      <td>john adams</td>\n    </tr>\n  </tbody>\n</table>\n</div>"
     },
     "execution_count": 9,
     "metadata": {},
     "output_type": "execute_result"
    }
   ],
   "source": [
    "jeopardy['clean_question'] = jeopardy['Question'].apply(normalize_text)\n",
    "jeopardy['clean_answer'] = jeopardy['Answer'].apply(normalize_text)\n",
    "\n",
    "jeopardy.head()"
   ],
   "metadata": {
    "collapsed": false
   }
  },
  {
   "cell_type": "markdown",
   "source": [
    "### Normalizing Columns\n",
    "We'll also use a function to normalize the Value column and convert the Air Date column into datetime type."
   ],
   "metadata": {
    "collapsed": false
   }
  },
  {
   "cell_type": "code",
   "execution_count": 10,
   "outputs": [
    {
     "data": {
      "text/plain": "   Show Number   Air Date      Round                         Category Value  \\\n0         4680 2004-12-31  Jeopardy!                          HISTORY  $200   \n1         4680 2004-12-31  Jeopardy!  ESPN's TOP 10 ALL-TIME ATHLETES  $200   \n2         4680 2004-12-31  Jeopardy!      EVERYBODY TALKS ABOUT IT...  $200   \n3         4680 2004-12-31  Jeopardy!                 THE COMPANY LINE  $200   \n4         4680 2004-12-31  Jeopardy!              EPITAPHS & TRIBUTES  $200   \n\n                                            Question      Answer  \\\n0  For the last 8 years of his life, Galileo was ...  Copernicus   \n1  No. 2: 1912 Olympian; football star at Carlisl...  Jim Thorpe   \n2  The city of Yuma in this state has a record av...     Arizona   \n3  In 1963, live on \"The Art Linkletter Show\", th...  McDonald's   \n4  Signer of the Dec. of Indep., framer of the Co...  John Adams   \n\n                                      clean_question clean_answer  clean_value  \n0  for the last 8 years of his life  galileo was ...   copernicus          200  \n1  no  2  1912 olympian  football star at carlisl...   jim thorpe          200  \n2  the city of yuma in this state has a record av...      arizona          200  \n3  in 1963  live on  the art linkletter show   th...   mcdonald s          200  \n4  signer of the dec  of indep   framer of the co...   john adams          200  ",
      "text/html": "<div>\n<style scoped>\n    .dataframe tbody tr th:only-of-type {\n        vertical-align: middle;\n    }\n\n    .dataframe tbody tr th {\n        vertical-align: top;\n    }\n\n    .dataframe thead th {\n        text-align: right;\n    }\n</style>\n<table border=\"1\" class=\"dataframe\">\n  <thead>\n    <tr style=\"text-align: right;\">\n      <th></th>\n      <th>Show Number</th>\n      <th>Air Date</th>\n      <th>Round</th>\n      <th>Category</th>\n      <th>Value</th>\n      <th>Question</th>\n      <th>Answer</th>\n      <th>clean_question</th>\n      <th>clean_answer</th>\n      <th>clean_value</th>\n    </tr>\n  </thead>\n  <tbody>\n    <tr>\n      <th>0</th>\n      <td>4680</td>\n      <td>2004-12-31</td>\n      <td>Jeopardy!</td>\n      <td>HISTORY</td>\n      <td>$200</td>\n      <td>For the last 8 years of his life, Galileo was ...</td>\n      <td>Copernicus</td>\n      <td>for the last 8 years of his life  galileo was ...</td>\n      <td>copernicus</td>\n      <td>200</td>\n    </tr>\n    <tr>\n      <th>1</th>\n      <td>4680</td>\n      <td>2004-12-31</td>\n      <td>Jeopardy!</td>\n      <td>ESPN's TOP 10 ALL-TIME ATHLETES</td>\n      <td>$200</td>\n      <td>No. 2: 1912 Olympian; football star at Carlisl...</td>\n      <td>Jim Thorpe</td>\n      <td>no  2  1912 olympian  football star at carlisl...</td>\n      <td>jim thorpe</td>\n      <td>200</td>\n    </tr>\n    <tr>\n      <th>2</th>\n      <td>4680</td>\n      <td>2004-12-31</td>\n      <td>Jeopardy!</td>\n      <td>EVERYBODY TALKS ABOUT IT...</td>\n      <td>$200</td>\n      <td>The city of Yuma in this state has a record av...</td>\n      <td>Arizona</td>\n      <td>the city of yuma in this state has a record av...</td>\n      <td>arizona</td>\n      <td>200</td>\n    </tr>\n    <tr>\n      <th>3</th>\n      <td>4680</td>\n      <td>2004-12-31</td>\n      <td>Jeopardy!</td>\n      <td>THE COMPANY LINE</td>\n      <td>$200</td>\n      <td>In 1963, live on \"The Art Linkletter Show\", th...</td>\n      <td>McDonald's</td>\n      <td>in 1963  live on  the art linkletter show   th...</td>\n      <td>mcdonald s</td>\n      <td>200</td>\n    </tr>\n    <tr>\n      <th>4</th>\n      <td>4680</td>\n      <td>2004-12-31</td>\n      <td>Jeopardy!</td>\n      <td>EPITAPHS &amp; TRIBUTES</td>\n      <td>$200</td>\n      <td>Signer of the Dec. of Indep., framer of the Co...</td>\n      <td>John Adams</td>\n      <td>signer of the dec  of indep   framer of the co...</td>\n      <td>john adams</td>\n      <td>200</td>\n    </tr>\n  </tbody>\n</table>\n</div>"
     },
     "execution_count": 10,
     "metadata": {},
     "output_type": "execute_result"
    }
   ],
   "source": [
    "def normalize_values(row_string):\n",
    "    try:\n",
    "        row_int = int(re.sub('\\W', ' ', row_string))\n",
    "        return row_int\n",
    "    except:\n",
    "        return 0\n",
    "\n",
    "jeopardy['clean_value'] = jeopardy['Value'].apply(normalize_values)\n",
    "jeopardy['Air Date'] = pd.to_datetime(jeopardy['Air Date'])\n",
    "jeopardy.head()"
   ],
   "metadata": {
    "collapsed": false
   }
  },
  {
   "cell_type": "code",
   "execution_count": 11,
   "outputs": [
    {
     "name": "stdout",
     "output_type": "stream",
     "text": [
      "<class 'pandas.core.frame.DataFrame'>\n",
      "RangeIndex: 19999 entries, 0 to 19998\n",
      "Data columns (total 10 columns):\n",
      " #   Column          Non-Null Count  Dtype         \n",
      "---  ------          --------------  -----         \n",
      " 0   Show Number     19999 non-null  int64         \n",
      " 1   Air Date        19999 non-null  datetime64[ns]\n",
      " 2   Round           19999 non-null  object        \n",
      " 3   Category        19999 non-null  object        \n",
      " 4   Value           19999 non-null  object        \n",
      " 5   Question        19999 non-null  object        \n",
      " 6   Answer          19999 non-null  object        \n",
      " 7   clean_question  19999 non-null  object        \n",
      " 8   clean_answer    19999 non-null  object        \n",
      " 9   clean_value     19999 non-null  int64         \n",
      "dtypes: datetime64[ns](1), int64(2), object(7)\n",
      "memory usage: 1.5+ MB\n"
     ]
    }
   ],
   "source": [
    "jeopardy.info()"
   ],
   "metadata": {
    "collapsed": false
   }
  },
  {
   "cell_type": "markdown",
   "source": [
    "### Answers in Questions\n",
    "We'll start considering study strategies when studying for jeopardy in order to determine how best to utilize our time efficiently. In order to figure out whether to study past questions, study general knowledge, or not study it all, it would be helpful to figure out two things:\n",
    "- How often the answer can be used for a question.\n",
    "- How often questions are repeated.\n",
    "\n",
    "We can answer the second question by finding out how often complex words (i.e. > 6 characters) reoccur. We can answer the first question by seeing how many times words in the answer also occur in the question. We'll work on the first question and come back to the second."
   ],
   "metadata": {
    "collapsed": false
   }
  },
  {
   "cell_type": "code",
   "execution_count": 12,
   "outputs": [],
   "source": [
    "def answer_in_question(row):\n",
    "    split_answer = row['clean_answer'].split()\n",
    "    split_question = row['clean_question'].split()\n",
    "\n",
    "    match_count = 0\n",
    "    try:\n",
    "        split_answer.remove('the')\n",
    "    except ValueError:\n",
    "        pass\n",
    "\n",
    "    if len(split_answer) == 0:\n",
    "        return 0\n",
    "    else:\n",
    "        for item in split_answer:\n",
    "            if item in split_question:\n",
    "                match_count += 1\n",
    "\n",
    "    result = match_count / len(split_answer)\n",
    "    return result"
   ],
   "metadata": {
    "collapsed": false
   }
  },
  {
   "cell_type": "code",
   "execution_count": 13,
   "outputs": [
    {
     "data": {
      "text/plain": "   Show Number   Air Date      Round                         Category Value  \\\n0         4680 2004-12-31  Jeopardy!                          HISTORY  $200   \n1         4680 2004-12-31  Jeopardy!  ESPN's TOP 10 ALL-TIME ATHLETES  $200   \n2         4680 2004-12-31  Jeopardy!      EVERYBODY TALKS ABOUT IT...  $200   \n3         4680 2004-12-31  Jeopardy!                 THE COMPANY LINE  $200   \n4         4680 2004-12-31  Jeopardy!              EPITAPHS & TRIBUTES  $200   \n\n                                            Question      Answer  \\\n0  For the last 8 years of his life, Galileo was ...  Copernicus   \n1  No. 2: 1912 Olympian; football star at Carlisl...  Jim Thorpe   \n2  The city of Yuma in this state has a record av...     Arizona   \n3  In 1963, live on \"The Art Linkletter Show\", th...  McDonald's   \n4  Signer of the Dec. of Indep., framer of the Co...  John Adams   \n\n                                      clean_question clean_answer  \\\n0  for the last 8 years of his life  galileo was ...   copernicus   \n1  no  2  1912 olympian  football star at carlisl...   jim thorpe   \n2  the city of yuma in this state has a record av...      arizona   \n3  in 1963  live on  the art linkletter show   th...   mcdonald s   \n4  signer of the dec  of indep   framer of the co...   john adams   \n\n   clean_value  answer_in_question  \n0          200                 0.0  \n1          200                 0.0  \n2          200                 0.0  \n3          200                 0.0  \n4          200                 0.0  ",
      "text/html": "<div>\n<style scoped>\n    .dataframe tbody tr th:only-of-type {\n        vertical-align: middle;\n    }\n\n    .dataframe tbody tr th {\n        vertical-align: top;\n    }\n\n    .dataframe thead th {\n        text-align: right;\n    }\n</style>\n<table border=\"1\" class=\"dataframe\">\n  <thead>\n    <tr style=\"text-align: right;\">\n      <th></th>\n      <th>Show Number</th>\n      <th>Air Date</th>\n      <th>Round</th>\n      <th>Category</th>\n      <th>Value</th>\n      <th>Question</th>\n      <th>Answer</th>\n      <th>clean_question</th>\n      <th>clean_answer</th>\n      <th>clean_value</th>\n      <th>answer_in_question</th>\n    </tr>\n  </thead>\n  <tbody>\n    <tr>\n      <th>0</th>\n      <td>4680</td>\n      <td>2004-12-31</td>\n      <td>Jeopardy!</td>\n      <td>HISTORY</td>\n      <td>$200</td>\n      <td>For the last 8 years of his life, Galileo was ...</td>\n      <td>Copernicus</td>\n      <td>for the last 8 years of his life  galileo was ...</td>\n      <td>copernicus</td>\n      <td>200</td>\n      <td>0.0</td>\n    </tr>\n    <tr>\n      <th>1</th>\n      <td>4680</td>\n      <td>2004-12-31</td>\n      <td>Jeopardy!</td>\n      <td>ESPN's TOP 10 ALL-TIME ATHLETES</td>\n      <td>$200</td>\n      <td>No. 2: 1912 Olympian; football star at Carlisl...</td>\n      <td>Jim Thorpe</td>\n      <td>no  2  1912 olympian  football star at carlisl...</td>\n      <td>jim thorpe</td>\n      <td>200</td>\n      <td>0.0</td>\n    </tr>\n    <tr>\n      <th>2</th>\n      <td>4680</td>\n      <td>2004-12-31</td>\n      <td>Jeopardy!</td>\n      <td>EVERYBODY TALKS ABOUT IT...</td>\n      <td>$200</td>\n      <td>The city of Yuma in this state has a record av...</td>\n      <td>Arizona</td>\n      <td>the city of yuma in this state has a record av...</td>\n      <td>arizona</td>\n      <td>200</td>\n      <td>0.0</td>\n    </tr>\n    <tr>\n      <th>3</th>\n      <td>4680</td>\n      <td>2004-12-31</td>\n      <td>Jeopardy!</td>\n      <td>THE COMPANY LINE</td>\n      <td>$200</td>\n      <td>In 1963, live on \"The Art Linkletter Show\", th...</td>\n      <td>McDonald's</td>\n      <td>in 1963  live on  the art linkletter show   th...</td>\n      <td>mcdonald s</td>\n      <td>200</td>\n      <td>0.0</td>\n    </tr>\n    <tr>\n      <th>4</th>\n      <td>4680</td>\n      <td>2004-12-31</td>\n      <td>Jeopardy!</td>\n      <td>EPITAPHS &amp; TRIBUTES</td>\n      <td>$200</td>\n      <td>Signer of the Dec. of Indep., framer of the Co...</td>\n      <td>John Adams</td>\n      <td>signer of the dec  of indep   framer of the co...</td>\n      <td>john adams</td>\n      <td>200</td>\n      <td>0.0</td>\n    </tr>\n  </tbody>\n</table>\n</div>"
     },
     "execution_count": 13,
     "metadata": {},
     "output_type": "execute_result"
    }
   ],
   "source": [
    "jeopardy['answer_in_question'] = jeopardy.apply(answer_in_question, axis=1)\n",
    "\n",
    "jeopardy.head()"
   ],
   "metadata": {
    "collapsed": false
   }
  },
  {
   "cell_type": "markdown",
   "source": [
    "Let's find the mean of the answer_in_question column"
   ],
   "metadata": {
    "collapsed": false
   }
  },
  {
   "cell_type": "code",
   "execution_count": 14,
   "outputs": [
    {
     "data": {
      "text/plain": "0.06294645581984949"
     },
     "execution_count": 14,
     "metadata": {},
     "output_type": "execute_result"
    }
   ],
   "source": [
    "jeopardy['answer_in_question'].mean()"
   ],
   "metadata": {
    "collapsed": false
   }
  },
  {
   "cell_type": "markdown",
   "source": [
    "On average, the answer will feature in the question only 6% of the time. Using this as a study strategy may not be tactically helpful."
   ],
   "metadata": {
    "collapsed": false
   }
  },
  {
   "cell_type": "markdown",
   "source": [
    "### Recycled Questions\n",
    "Another study strategy is to investigate how often new questions are repeats of older ones. While we can't completely answer this, because you only have about 10% of the full Jeopardy question dataset, but we can investigate it using our existing sample.\n",
    "\n",
    "In order to do this, we'll:\n",
    "- Sort jeopardy air_date column in ascending order.\n",
    "- Maintain a set called terms_used that will be empty initially.\n",
    "- Iterate through each row of jeopardy.\n",
    "- Split clean_question into words, remove any word shorter than 6 characters, and check if each word occurs in terms_used. If it does, increment a counter.\n",
    "- Add each word to terms_used.\n",
    "\n",
    "This will allow us check if the terms in questions have been used previously or not. Only looking at words with six or more characters enables us to filter out words like 'the' and 'than', which are commonly used, but don't tell us a lot about the question."
   ],
   "metadata": {
    "collapsed": false
   }
  },
  {
   "cell_type": "markdown",
   "source": [
    "We'll begin by creating an empty list and an empty set."
   ],
   "metadata": {
    "collapsed": false
   }
  },
  {
   "cell_type": "code",
   "execution_count": 15,
   "outputs": [],
   "source": [
    "question_overlap = list()\n",
    "terms_used = set()"
   ],
   "metadata": {
    "collapsed": false
   }
  },
  {
   "cell_type": "markdown",
   "source": [
    "Now, we'll sort jeopardy by air date in ascending order."
   ],
   "metadata": {
    "collapsed": false
   }
  },
  {
   "cell_type": "code",
   "execution_count": 16,
   "outputs": [
    {
     "data": {
      "text/plain": "       Show Number   Air Date             Round         Category Value  \\\n19325           10 1984-09-21   Final Jeopardy!  U.S. PRESIDENTS  None   \n19301           10 1984-09-21  Double Jeopardy!     LABOR UNIONS  $200   \n19302           10 1984-09-21  Double Jeopardy!             1789  $200   \n19303           10 1984-09-21  Double Jeopardy!    TOURIST TRAPS  $200   \n19304           10 1984-09-21  Double Jeopardy!       LITERATURE  $200   \n\n                                                Question              Answer  \\\n19325  Adventurous 26th president, he was 1st to ride...  Theodore Roosevelt   \n19301           Notorious labor leader missing since '75         Jimmy Hoffa   \n19302  Washington proclaimed Nov. 26, 1789 this first...        Thanksgiving   \n19303  Both Ferde Grofe' & the Colorado River dug thi...    the Grand Canyon   \n19304  Depending on the book, he could be a \"Jones\", ...                 Tom   \n\n                                          clean_question        clean_answer  \\\n19325  adventurous 26th president  he was 1st to ride...  theodore roosevelt   \n19301           notorious labor leader missing since  75         jimmy hoffa   \n19302  washington proclaimed nov  26  1789 this first...        thanksgiving   \n19303  both ferde grofe    the colorado river dug thi...    the grand canyon   \n19304  depending on the book  he could be a  jones   ...                 tom   \n\n       clean_value  answer_in_question  \n19325            0                 0.0  \n19301          200                 0.0  \n19302          200                 0.0  \n19303          200                 0.0  \n19304          200                 0.0  ",
      "text/html": "<div>\n<style scoped>\n    .dataframe tbody tr th:only-of-type {\n        vertical-align: middle;\n    }\n\n    .dataframe tbody tr th {\n        vertical-align: top;\n    }\n\n    .dataframe thead th {\n        text-align: right;\n    }\n</style>\n<table border=\"1\" class=\"dataframe\">\n  <thead>\n    <tr style=\"text-align: right;\">\n      <th></th>\n      <th>Show Number</th>\n      <th>Air Date</th>\n      <th>Round</th>\n      <th>Category</th>\n      <th>Value</th>\n      <th>Question</th>\n      <th>Answer</th>\n      <th>clean_question</th>\n      <th>clean_answer</th>\n      <th>clean_value</th>\n      <th>answer_in_question</th>\n    </tr>\n  </thead>\n  <tbody>\n    <tr>\n      <th>19325</th>\n      <td>10</td>\n      <td>1984-09-21</td>\n      <td>Final Jeopardy!</td>\n      <td>U.S. PRESIDENTS</td>\n      <td>None</td>\n      <td>Adventurous 26th president, he was 1st to ride...</td>\n      <td>Theodore Roosevelt</td>\n      <td>adventurous 26th president  he was 1st to ride...</td>\n      <td>theodore roosevelt</td>\n      <td>0</td>\n      <td>0.0</td>\n    </tr>\n    <tr>\n      <th>19301</th>\n      <td>10</td>\n      <td>1984-09-21</td>\n      <td>Double Jeopardy!</td>\n      <td>LABOR UNIONS</td>\n      <td>$200</td>\n      <td>Notorious labor leader missing since '75</td>\n      <td>Jimmy Hoffa</td>\n      <td>notorious labor leader missing since  75</td>\n      <td>jimmy hoffa</td>\n      <td>200</td>\n      <td>0.0</td>\n    </tr>\n    <tr>\n      <th>19302</th>\n      <td>10</td>\n      <td>1984-09-21</td>\n      <td>Double Jeopardy!</td>\n      <td>1789</td>\n      <td>$200</td>\n      <td>Washington proclaimed Nov. 26, 1789 this first...</td>\n      <td>Thanksgiving</td>\n      <td>washington proclaimed nov  26  1789 this first...</td>\n      <td>thanksgiving</td>\n      <td>200</td>\n      <td>0.0</td>\n    </tr>\n    <tr>\n      <th>19303</th>\n      <td>10</td>\n      <td>1984-09-21</td>\n      <td>Double Jeopardy!</td>\n      <td>TOURIST TRAPS</td>\n      <td>$200</td>\n      <td>Both Ferde Grofe' &amp; the Colorado River dug thi...</td>\n      <td>the Grand Canyon</td>\n      <td>both ferde grofe    the colorado river dug thi...</td>\n      <td>the grand canyon</td>\n      <td>200</td>\n      <td>0.0</td>\n    </tr>\n    <tr>\n      <th>19304</th>\n      <td>10</td>\n      <td>1984-09-21</td>\n      <td>Double Jeopardy!</td>\n      <td>LITERATURE</td>\n      <td>$200</td>\n      <td>Depending on the book, he could be a \"Jones\", ...</td>\n      <td>Tom</td>\n      <td>depending on the book  he could be a  jones   ...</td>\n      <td>tom</td>\n      <td>200</td>\n      <td>0.0</td>\n    </tr>\n  </tbody>\n</table>\n</div>"
     },
     "execution_count": 16,
     "metadata": {},
     "output_type": "execute_result"
    }
   ],
   "source": [
    "jeopardy.sort_values(by='Air Date', ascending=True, inplace=True)\n",
    "jeopardy.head()"
   ],
   "metadata": {
    "collapsed": false
   }
  },
  {
   "cell_type": "markdown",
   "source": [
    "We'll loop through each row in the dataset to determine whether any questions were recycled."
   ],
   "metadata": {
    "collapsed": false
   }
  },
  {
   "cell_type": "code",
   "execution_count": 17,
   "outputs": [
    {
     "data": {
      "text/plain": "0.7197989717809739"
     },
     "execution_count": 17,
     "metadata": {},
     "output_type": "execute_result"
    }
   ],
   "source": [
    "for index, row in jeopardy.iterrows():\n",
    "    split_question = row['clean_question'].split()\n",
    "    split_question = [i for i in split_question if len(i) >= 6]\n",
    "\n",
    "    match_count = 0\n",
    "    for item in split_question:\n",
    "        if item in terms_used:\n",
    "            match_count += 1\n",
    "\n",
    "    for item in split_question:\n",
    "        terms_used.add(item)\n",
    "\n",
    "    if len(split_question) > 0:\n",
    "        match_count /= len(split_question)\n",
    "\n",
    "    question_overlap.append(match_count)\n",
    "\n",
    "jeopardy[\"question_overlap\"] = question_overlap\n",
    "jeopardy[\"question_overlap\"].mean()"
   ],
   "metadata": {
    "collapsed": false
   }
  },
  {
   "cell_type": "markdown",
   "source": [
    "On the average, questions are repeated on jeopardy 71% of the time. It is a useful strategy to revise past jeopardy questions before competing."
   ],
   "metadata": {
    "collapsed": false
   }
  },
  {
   "cell_type": "markdown",
   "source": [
    "### Low Value vs High Value Questions\n",
    "We may want to consider a strategy that involves only studying questions that are higher value. This strategy ensures we earn more money on the game.\n",
    "\n",
    "We can identify which terms correspond to high-value questions using a chi-squared test. We'll first need to narrow down the questions into two categories:\n",
    "- Low value -- Any row where Value is less than 800.\n",
    "- High value -- Any row where Value is greater than 800.\n",
    "\n",
    "Then we'll loop through each of the terms from the terms_used set, and:\n",
    "- Find the number of low value questions the word occurs in.\n",
    "- Find the number of high value questions the word occurs in.\n",
    "- Find the percentage of questions the word occurs in.\n",
    "\n",
    "Based on the percentage of questions the word occurs in, we'll find expected counts and compute the chi-squared value based on the expected counts and the observed counts for high and low value questions.\n",
    "\n",
    "We'll then find the words with the biggest differences in usage between high and low value questions, by selecting the words with the highest associated chi-squared values."
   ],
   "metadata": {
    "collapsed": false
   }
  },
  {
   "cell_type": "code",
   "execution_count": 18,
   "outputs": [
    {
     "data": {
      "text/plain": "19325      0\n19301    200\n19302    200\n19303    200\n19304    200\nName: clean_value, dtype: int64"
     },
     "execution_count": 18,
     "metadata": {},
     "output_type": "execute_result"
    }
   ],
   "source": [
    "jeopardy['clean_value'].head()"
   ],
   "metadata": {
    "collapsed": false
   }
  },
  {
   "cell_type": "code",
   "execution_count": 19,
   "outputs": [],
   "source": [
    "def high_value(row):\n",
    "    value = 0\n",
    "    if row['clean_value'] > 800:\n",
    "        value = 1\n",
    "    return value\n",
    "\n",
    "jeopardy['high_value'] = jeopardy.apply(high_value, axis=1)"
   ],
   "metadata": {
    "collapsed": false
   }
  },
  {
   "cell_type": "code",
   "execution_count": 20,
   "outputs": [],
   "source": [
    "def value_count(word):\n",
    "    low_count = 0\n",
    "    high_count = 0\n",
    "    for index, row in jeopardy.iterrows():\n",
    "        if word in row['clean_question'].split():\n",
    "            if row['high_value'] == 1:\n",
    "                high_count += 1\n",
    "            elif row['high_value'] == 0:\n",
    "                low_count += 1\n",
    "\n",
    "    return high_count, low_count\n"
   ],
   "metadata": {
    "collapsed": false
   }
  },
  {
   "cell_type": "markdown",
   "source": [
    "We'll randomly pick 10 elements from the terms_used set and append them to a list called comparison_terms. Then we'll create an empty list called observed_expected. We'll loop through each term in comparison_terms, and:\n",
    "- Run the function on the term to get the high value and low value counts.\n",
    "- Append the result of running the function (which will be a list) to observed_expected."
   ],
   "metadata": {
    "collapsed": false
   }
  },
  {
   "cell_type": "code",
   "execution_count": 21,
   "outputs": [
    {
     "data": {
      "text/plain": "['attempted',\n 'drinker',\n 'sublicius',\n 'archibald',\n 'zigzag',\n 'neuchatel',\n 'floors',\n 'carton',\n 'hassock',\n 'scotty']"
     },
     "execution_count": 21,
     "metadata": {},
     "output_type": "execute_result"
    }
   ],
   "source": [
    "comparison_terms = random.choices(list(terms_used), k=10)\n",
    "comparison_terms"
   ],
   "metadata": {
    "collapsed": false
   }
  },
  {
   "cell_type": "code",
   "execution_count": 23,
   "outputs": [
    {
     "data": {
      "text/plain": "[(2, 2),\n (0, 3),\n (0, 1),\n (0, 3),\n (0, 1),\n (0, 1),\n (2, 1),\n (0, 1),\n (0, 1),\n (1, 1)]"
     },
     "execution_count": 23,
     "metadata": {},
     "output_type": "execute_result"
    }
   ],
   "source": [
    "observed_expected = list()\n",
    "for item in comparison_terms:\n",
    "    observed_expected.append(value_count(item))\n",
    "\n",
    "observed_expected"
   ],
   "metadata": {
    "collapsed": false
   }
  },
  {
   "cell_type": "markdown",
   "source": [
    "### Applying the Chi-squared Test\n",
    "Now that we've found the observed counts for a few terms, we can compute the expected counts and the chi-squared value."
   ],
   "metadata": {
    "collapsed": false
   }
  },
  {
   "cell_type": "code",
   "execution_count": 24,
   "outputs": [
    {
     "name": "stdout",
     "output_type": "stream",
     "text": [
      "4972 15027\n"
     ]
    }
   ],
   "source": [
    "high_value_count = len(jeopardy.loc[jeopardy['high_value'] == 1])\n",
    "low_value_count = len(jeopardy.loc[jeopardy['high_value'] == 0])\n",
    "\n",
    "print(high_value_count, low_value_count)"
   ],
   "metadata": {
    "collapsed": false
   }
  },
  {
   "cell_type": "code",
   "execution_count": 25,
   "outputs": [
    {
     "data": {
      "text/plain": "[Power_divergenceResult(statistic=1.353196118801657, pvalue=0.2447201432712674),\n Power_divergenceResult(statistic=0.9926132960670793, pvalue=0.31910449982424866),\n Power_divergenceResult(statistic=0.3308710986890265, pvalue=0.565146603267378),\n Power_divergenceResult(statistic=0.9926132960670793, pvalue=0.31910449982424866),\n Power_divergenceResult(statistic=0.3308710986890265, pvalue=0.565146603267378),\n Power_divergenceResult(statistic=0.3308710986890265, pvalue=0.565146603267378),\n Power_divergenceResult(statistic=2.80672372637985, pvalue=0.09386990525628017),\n Power_divergenceResult(statistic=0.3308710986890265, pvalue=0.565146603267378),\n Power_divergenceResult(statistic=0.3308710986890265, pvalue=0.565146603267378),\n Power_divergenceResult(statistic=0.6765980594008285, pvalue=0.4107606373026975)]"
     },
     "execution_count": 25,
     "metadata": {},
     "output_type": "execute_result"
    }
   ],
   "source": [
    "chi_squared = list()\n",
    "for item in observed_expected:\n",
    "    total = sum(item)\n",
    "    total_prop = total / len(jeopardy)\n",
    "    exp_count_high_value = total_prop * high_value_count\n",
    "    exp_count_low_value = total_prop * low_value_count\n",
    "\n",
    "    observed = np.array([item[0], item[1]])\n",
    "    expected = np.array([exp_count_high_value, exp_count_low_value])\n",
    "    chi_squared.append(chisquare(observed, expected))\n",
    "\n",
    "chi_squared"
   ],
   "metadata": {
    "collapsed": false
   }
  },
  {
   "cell_type": "markdown",
   "source": [
    "Unfortunately all our selected words have p-values from the chi-squared test above 5% which means they are not statistically significant, meaning that there's not strong evidence from data analysis that the words correlate with high value questions."
   ],
   "metadata": {
    "collapsed": false
   }
  },
  {
   "cell_type": "markdown",
   "source": [
    "### Next Steps\n",
    "Here are some potential next steps:\n",
    "- Find a better way to eliminate non-informative words than just removing words that are less than 6 characters long. Some ideas:\n",
    "    - Manually create a list of words to remove, like the, than, etc.\n",
    "    - Find a list of stopwords to remove.\n",
    "    - Remove words that occur in more than a certain percentage (like 5%) of questions.\n",
    "- Perform the chi-squared test across more terms to see what terms have larger differences. This is hard to do currently because the code is slow, but here are some ideas:\n",
    "    - Use the apply method to make the code that calculates frequencies more efficient.\n",
    "    - Only select terms that have high frequencies across the dataset, and ignore the others.\n",
    "- Look more into the Category column and see if any interesting analysis can be done with it. Some ideas:\n",
    "    - See which categories appear the most often.\n",
    "    - Find the probability of each category appearing in each round.\n",
    "- Use the whole Jeopardy dataset (available here) instead of the subset we used in this lesson.\n",
    "- Use phrases instead of single words when seeing if there's overlap between questions. Single words don't capture the whole context of the question well.\n"
   ],
   "metadata": {
    "collapsed": false
   }
  },
  {
   "cell_type": "code",
   "execution_count": null,
   "outputs": [],
   "source": [],
   "metadata": {
    "collapsed": false
   }
  }
 ],
 "metadata": {
  "kernelspec": {
   "display_name": "Python 3",
   "language": "python",
   "name": "python3"
  },
  "language_info": {
   "codemirror_mode": {
    "name": "ipython",
    "version": 3
   },
   "file_extension": ".py",
   "mimetype": "text/x-python",
   "name": "python",
   "nbconvert_exporter": "python",
   "pygments_lexer": "ipython3",
   "version": "3.4.2"
  }
 },
 "nbformat": 4,
 "nbformat_minor": 0
}

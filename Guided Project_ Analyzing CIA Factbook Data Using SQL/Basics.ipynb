{
 "cells": [
  {
   "cell_type": "markdown",
   "source": [
    "# Analyzing CIA Factbook Data Using SQL\n",
    "In this project, we'll work with data from the CIA World Factbook, a compendium of statistics about all the countries on Earth.\n",
    "The Factbook contains demographic information like the following:\n",
    "* name — the name of the country.\n",
    "* area— the country's total area (both land and water).\n",
    "* area_land — the country's land area in square kilometers.\n",
    "* area_water — the country's waterarea in square kilometers.\n",
    "* population — the country's population.\n",
    "* population_growth— the country's population growth as a percentage.\n",
    "* birth_rate — the country's birth rate, or the number of births per year per 1,000 people.\n",
    "* death_rate — the country's death rate, or the number of death per year per 1,000 people.\n"
   ],
   "metadata": {
    "collapsed": false
   }
  },
  {
   "cell_type": "code",
   "execution_count": 1,
   "metadata": {
    "collapsed": true
   },
   "outputs": [],
   "source": [
    "%%capture\n",
    "%load_ext sql\n",
    "%sql sqlite:///factbook.db"
   ]
  },
  {
   "cell_type": "code",
   "execution_count": 2,
   "outputs": [
    {
     "name": "stdout",
     "output_type": "stream",
     "text": [
      " * sqlite:///factbook.db\n",
      "Done.\n"
     ]
    },
    {
     "data": {
      "text/plain": "[(1, 'af', 'Afghanistan', 652230, 652230, 0, 32564342, 2.32, 38.57, 13.89, 1.51),\n (2, 'al', 'Albania', 28748, 27398, 1350, 3029278, 0.3, 12.92, 6.58, 3.3)]",
      "text/html": "<table>\n    <tr>\n        <th>id</th>\n        <th>code</th>\n        <th>name</th>\n        <th>area</th>\n        <th>area_land</th>\n        <th>area_water</th>\n        <th>population</th>\n        <th>population_growth</th>\n        <th>birth_rate</th>\n        <th>death_rate</th>\n        <th>migration_rate</th>\n    </tr>\n    <tr>\n        <td>1</td>\n        <td>af</td>\n        <td>Afghanistan</td>\n        <td>652230</td>\n        <td>652230</td>\n        <td>0</td>\n        <td>32564342</td>\n        <td>2.32</td>\n        <td>38.57</td>\n        <td>13.89</td>\n        <td>1.51</td>\n    </tr>\n    <tr>\n        <td>2</td>\n        <td>al</td>\n        <td>Albania</td>\n        <td>28748</td>\n        <td>27398</td>\n        <td>1350</td>\n        <td>3029278</td>\n        <td>0.3</td>\n        <td>12.92</td>\n        <td>6.58</td>\n        <td>3.3</td>\n    </tr>\n</table>"
     },
     "execution_count": 2,
     "metadata": {},
     "output_type": "execute_result"
    }
   ],
   "source": [
    "%%sql\n",
    "select *\n",
    "from facts\n",
    "limit 2;"
   ],
   "metadata": {
    "collapsed": false
   }
  },
  {
   "cell_type": "markdown",
   "source": [
    "### Overview of the Data"
   ],
   "metadata": {
    "collapsed": false
   }
  },
  {
   "cell_type": "code",
   "execution_count": 3,
   "outputs": [
    {
     "name": "stdout",
     "output_type": "stream",
     "text": [
      " * sqlite:///factbook.db\n",
      "Done.\n"
     ]
    },
    {
     "data": {
      "text/plain": "[('table', 'sqlite_sequence', 'sqlite_sequence', 3, 'CREATE TABLE sqlite_sequence(name,seq)'),\n ('table', 'facts', 'facts', 47, 'CREATE TABLE \"facts\" (\"id\" INTEGER PRIMARY KEY AUTOINCREMENT NOT NULL, \"code\" varchar(255) NOT NULL, \"name\" varchar(255) NOT NULL, \"area\" integer, \"a ... (4 characters truncated) ... land\" integer, \"area_water\" integer, \"population\" integer, \"population_growth\" float, \"birth_rate\" float, \"death_rate\" float, \"migration_rate\" float)')]",
      "text/html": "<table>\n    <tr>\n        <th>type</th>\n        <th>name</th>\n        <th>tbl_name</th>\n        <th>rootpage</th>\n        <th>sql</th>\n    </tr>\n    <tr>\n        <td>table</td>\n        <td>sqlite_sequence</td>\n        <td>sqlite_sequence</td>\n        <td>3</td>\n        <td>CREATE TABLE sqlite_sequence(name,seq)</td>\n    </tr>\n    <tr>\n        <td>table</td>\n        <td>facts</td>\n        <td>facts</td>\n        <td>47</td>\n        <td>CREATE TABLE &quot;facts&quot; (&quot;id&quot; INTEGER PRIMARY KEY AUTOINCREMENT NOT NULL, &quot;code&quot; varchar(255) NOT NULL, &quot;name&quot; varchar(255) NOT NULL, &quot;area&quot; integer, &quot;area_land&quot; integer, &quot;area_water&quot; integer, &quot;population&quot; integer, &quot;population_growth&quot; float, &quot;birth_rate&quot; float, &quot;death_rate&quot; float, &quot;migration_rate&quot; float)</td>\n    </tr>\n</table>"
     },
     "execution_count": 3,
     "metadata": {},
     "output_type": "execute_result"
    }
   ],
   "source": [
    "%%sql\n",
    "\n",
    "select *\n",
    "from sqlite_master\n",
    "where type='table';"
   ],
   "metadata": {
    "collapsed": false
   }
  },
  {
   "cell_type": "code",
   "execution_count": 4,
   "outputs": [
    {
     "name": "stdout",
     "output_type": "stream",
     "text": [
      " * sqlite:///factbook.db\n",
      "Done.\n"
     ]
    },
    {
     "data": {
      "text/plain": "[(1, 'af', 'Afghanistan', 652230, 652230, 0, 32564342, 2.32, 38.57, 13.89, 1.51),\n (2, 'al', 'Albania', 28748, 27398, 1350, 3029278, 0.3, 12.92, 6.58, 3.3),\n (3, 'ag', 'Algeria', 2381741, 2381741, 0, 39542166, 1.84, 23.67, 4.31, 0.92),\n (4, 'an', 'Andorra', 468, 468, 0, 85580, 0.12, 8.13, 6.96, 0.0),\n (5, 'ao', 'Angola', 1246700, 1246700, 0, 19625353, 2.78, 38.78, 11.49, 0.46)]",
      "text/html": "<table>\n    <tr>\n        <th>id</th>\n        <th>code</th>\n        <th>name</th>\n        <th>area</th>\n        <th>area_land</th>\n        <th>area_water</th>\n        <th>population</th>\n        <th>population_growth</th>\n        <th>birth_rate</th>\n        <th>death_rate</th>\n        <th>migration_rate</th>\n    </tr>\n    <tr>\n        <td>1</td>\n        <td>af</td>\n        <td>Afghanistan</td>\n        <td>652230</td>\n        <td>652230</td>\n        <td>0</td>\n        <td>32564342</td>\n        <td>2.32</td>\n        <td>38.57</td>\n        <td>13.89</td>\n        <td>1.51</td>\n    </tr>\n    <tr>\n        <td>2</td>\n        <td>al</td>\n        <td>Albania</td>\n        <td>28748</td>\n        <td>27398</td>\n        <td>1350</td>\n        <td>3029278</td>\n        <td>0.3</td>\n        <td>12.92</td>\n        <td>6.58</td>\n        <td>3.3</td>\n    </tr>\n    <tr>\n        <td>3</td>\n        <td>ag</td>\n        <td>Algeria</td>\n        <td>2381741</td>\n        <td>2381741</td>\n        <td>0</td>\n        <td>39542166</td>\n        <td>1.84</td>\n        <td>23.67</td>\n        <td>4.31</td>\n        <td>0.92</td>\n    </tr>\n    <tr>\n        <td>4</td>\n        <td>an</td>\n        <td>Andorra</td>\n        <td>468</td>\n        <td>468</td>\n        <td>0</td>\n        <td>85580</td>\n        <td>0.12</td>\n        <td>8.13</td>\n        <td>6.96</td>\n        <td>0.0</td>\n    </tr>\n    <tr>\n        <td>5</td>\n        <td>ao</td>\n        <td>Angola</td>\n        <td>1246700</td>\n        <td>1246700</td>\n        <td>0</td>\n        <td>19625353</td>\n        <td>2.78</td>\n        <td>38.78</td>\n        <td>11.49</td>\n        <td>0.46</td>\n    </tr>\n</table>"
     },
     "execution_count": 4,
     "metadata": {},
     "output_type": "execute_result"
    }
   ],
   "source": [
    "%%sql\n",
    "select *\n",
    "from facts\n",
    "limit 5;"
   ],
   "metadata": {
    "collapsed": false
   }
  },
  {
   "cell_type": "markdown",
   "source": [
    "### Summary Statistics\n",
    "We'll start by calculating some summary statistics and look for any outlier countries."
   ],
   "metadata": {
    "collapsed": false
   }
  },
  {
   "cell_type": "code",
   "execution_count": 5,
   "outputs": [
    {
     "name": "stdout",
     "output_type": "stream",
     "text": [
      " * sqlite:///factbook.db\n",
      "Done.\n"
     ]
    },
    {
     "data": {
      "text/plain": "[(0, 7256490011, 0.0, 4.02)]",
      "text/html": "<table>\n    <tr>\n        <th>min_population</th>\n        <th>max_population</th>\n        <th>min_pop_growth</th>\n        <th>max_pop_growth</th>\n    </tr>\n    <tr>\n        <td>0</td>\n        <td>7256490011</td>\n        <td>0.0</td>\n        <td>4.02</td>\n    </tr>\n</table>"
     },
     "execution_count": 5,
     "metadata": {},
     "output_type": "execute_result"
    }
   ],
   "source": [
    "%%sql\n",
    "select min(population) as min_population,\n",
    "       max(population) as max_population,\n",
    "       min(population_growth) as min_pop_growth,\n",
    "       max(population_growth) as max_pop_growth\n",
    "from facts;"
   ],
   "metadata": {
    "collapsed": false
   }
  },
  {
   "cell_type": "markdown",
   "source": [
    "### Exploring Outliers\n",
    "From the above query, we see that:\n",
    "* There's a country with a population of 0, and\n",
    "* There's a country with a population of 7256490011 (or more than 7.2 billion people)\n",
    "\n",
    "We'll zoom into these countries"
   ],
   "metadata": {
    "collapsed": false
   }
  },
  {
   "cell_type": "code",
   "execution_count": 6,
   "outputs": [
    {
     "name": "stdout",
     "output_type": "stream",
     "text": [
      " * sqlite:///factbook.db\n",
      "Done.\n"
     ]
    },
    {
     "data": {
      "text/plain": "[('Antarctica', 0)]",
      "text/html": "<table>\n    <tr>\n        <th>name</th>\n        <th>min_population</th>\n    </tr>\n    <tr>\n        <td>Antarctica</td>\n        <td>0</td>\n    </tr>\n</table>"
     },
     "execution_count": 6,
     "metadata": {},
     "output_type": "execute_result"
    }
   ],
   "source": [
    "%%sql\n",
    "select name, min(population) as min_population\n",
    "from facts;"
   ],
   "metadata": {
    "collapsed": false
   }
  },
  {
   "cell_type": "code",
   "execution_count": 7,
   "outputs": [
    {
     "name": "stdout",
     "output_type": "stream",
     "text": [
      " * sqlite:///factbook.db\n",
      "Done.\n"
     ]
    },
    {
     "data": {
      "text/plain": "[('World', 7256490011)]",
      "text/html": "<table>\n    <tr>\n        <th>name</th>\n        <th>max_population</th>\n    </tr>\n    <tr>\n        <td>World</td>\n        <td>7256490011</td>\n    </tr>\n</table>"
     },
     "execution_count": 7,
     "metadata": {},
     "output_type": "execute_result"
    }
   ],
   "source": [
    "%%sql\n",
    "select name, max(population) as max_population\n",
    "from facts;"
   ],
   "metadata": {
    "collapsed": false
   }
  },
  {
   "cell_type": "markdown",
   "source": [
    "The table contains a row for the whole world, which explains the population of over 7.2 billion. It also seems like the table contains a row for Antarctica, which explains the population of 0.\n",
    "\n",
    "We'll recompute the summary statistics you found earlier while excluding the row for the whole world."
   ],
   "metadata": {
    "collapsed": false
   }
  },
  {
   "cell_type": "code",
   "execution_count": 8,
   "outputs": [
    {
     "name": "stdout",
     "output_type": "stream",
     "text": [
      " * sqlite:///factbook.db\n",
      "Done.\n"
     ]
    },
    {
     "data": {
      "text/plain": "[(0, 1367485388, 0.0, 4.02)]",
      "text/html": "<table>\n    <tr>\n        <th>min_population</th>\n        <th>max_population</th>\n        <th>min_pop_growth</th>\n        <th>max_pop_growth</th>\n    </tr>\n    <tr>\n        <td>0</td>\n        <td>1367485388</td>\n        <td>0.0</td>\n        <td>4.02</td>\n    </tr>\n</table>"
     },
     "execution_count": 8,
     "metadata": {},
     "output_type": "execute_result"
    }
   ],
   "source": [
    "%%sql\n",
    "select min(population) as min_population,\n",
    "       max(population) as max_population,\n",
    "       min(population_growth) as min_pop_growth,\n",
    "       max(population_growth) as max_pop_growth\n",
    "from facts\n",
    "where name != 'World';"
   ],
   "metadata": {
    "collapsed": false
   }
  },
  {
   "cell_type": "markdown",
   "source": [
    "### Exploring Average Population and Area\n",
    "We'll explore density. Density depends on the population and the country's area. We'll look at the average values for these two columns.\n",
    "\n",
    "We will discard the row for the whole planet."
   ],
   "metadata": {
    "collapsed": false
   }
  },
  {
   "cell_type": "markdown",
   "source": [
    "### Finding Densely Populated\n",
    "We'll build on the query above to find countries that are densely populated. We'll identify countries that have the following:\n",
    "* Above-average values for population.\n",
    "* Below-average values for area."
   ],
   "metadata": {
    "collapsed": false
   }
  },
  {
   "cell_type": "code",
   "execution_count": 57,
   "outputs": [
    {
     "name": "stdout",
     "output_type": "stream",
     "text": [
      " * sqlite:///factbook.db\n",
      "Done.\n"
     ]
    },
    {
     "data": {
      "text/plain": "[('Bangladesh', 168957745, 148460),\n ('Germany', 80854408, 357022),\n ('Iraq', 37056169, 438317),\n ('Italy', 61855120, 301340),\n ('Japan', 126919659, 377915),\n ('Kenya', 45925301, 580367),\n ('Korea, South', 49115196, 99720),\n ('Morocco', 33322699, 446550),\n ('Philippines', 100998376, 300000),\n ('Poland', 38562189, 312685),\n ('Spain', 48146134, 505370),\n ('Thailand', 67976405, 513120),\n ('Uganda', 37101745, 241038),\n ('United Kingdom', 64088222, 243610),\n ('Vietnam', 94348835, 331210)]",
      "text/html": "<table>\n    <tr>\n        <th>name</th>\n        <th>population</th>\n        <th>area</th>\n    </tr>\n    <tr>\n        <td>Bangladesh</td>\n        <td>168957745</td>\n        <td>148460</td>\n    </tr>\n    <tr>\n        <td>Germany</td>\n        <td>80854408</td>\n        <td>357022</td>\n    </tr>\n    <tr>\n        <td>Iraq</td>\n        <td>37056169</td>\n        <td>438317</td>\n    </tr>\n    <tr>\n        <td>Italy</td>\n        <td>61855120</td>\n        <td>301340</td>\n    </tr>\n    <tr>\n        <td>Japan</td>\n        <td>126919659</td>\n        <td>377915</td>\n    </tr>\n    <tr>\n        <td>Kenya</td>\n        <td>45925301</td>\n        <td>580367</td>\n    </tr>\n    <tr>\n        <td>Korea, South</td>\n        <td>49115196</td>\n        <td>99720</td>\n    </tr>\n    <tr>\n        <td>Morocco</td>\n        <td>33322699</td>\n        <td>446550</td>\n    </tr>\n    <tr>\n        <td>Philippines</td>\n        <td>100998376</td>\n        <td>300000</td>\n    </tr>\n    <tr>\n        <td>Poland</td>\n        <td>38562189</td>\n        <td>312685</td>\n    </tr>\n    <tr>\n        <td>Spain</td>\n        <td>48146134</td>\n        <td>505370</td>\n    </tr>\n    <tr>\n        <td>Thailand</td>\n        <td>67976405</td>\n        <td>513120</td>\n    </tr>\n    <tr>\n        <td>Uganda</td>\n        <td>37101745</td>\n        <td>241038</td>\n    </tr>\n    <tr>\n        <td>United Kingdom</td>\n        <td>64088222</td>\n        <td>243610</td>\n    </tr>\n    <tr>\n        <td>Vietnam</td>\n        <td>94348835</td>\n        <td>331210</td>\n    </tr>\n</table>"
     },
     "execution_count": 57,
     "metadata": {},
     "output_type": "execute_result"
    }
   ],
   "source": [
    "%%sql\n",
    "select name, population, area\n",
    "from facts\n",
    "where name != 'World'\n",
    "and population > (select avg(population)\n",
    "                    from facts\n",
    "                    where population < (select max(population)\n",
    "                                        from facts))\n",
    "and area < (select avg(area)\n",
    "            from facts\n",
    "            where population < (select max(population)\n",
    "                                from facts));"
   ],
   "metadata": {
    "collapsed": false
   }
  },
  {
   "cell_type": "markdown",
   "source": [
    "### Next Steps\n",
    "Here are some next steps to explore:\n",
    "* Which country has the most people? Which country has the highest growth rate?\n",
    "* Which countries have the highest ratios of water to land? Which countries have more water than land?\n",
    "* Which countries will add the most people to their populations next year?\n",
    "* Which countries have a higher death rate than birth rate?\n",
    "* Which countries have the highest population/area ratio, and how does it compare to list we found in the previous screen?"
   ],
   "metadata": {
    "collapsed": false
   }
  },
  {
   "cell_type": "markdown",
   "source": [
    "Which country has the most people?"
   ],
   "metadata": {
    "collapsed": false
   }
  },
  {
   "cell_type": "code",
   "execution_count": 13,
   "outputs": [
    {
     "name": "stdout",
     "output_type": "stream",
     "text": [
      " * sqlite:///factbook.db\n",
      "Done.\n"
     ]
    },
    {
     "data": {
      "text/plain": "[('China', 1367485388)]",
      "text/html": "<table>\n    <tr>\n        <th>name</th>\n        <th>population</th>\n    </tr>\n    <tr>\n        <td>China</td>\n        <td>1367485388</td>\n    </tr>\n</table>"
     },
     "execution_count": 13,
     "metadata": {},
     "output_type": "execute_result"
    }
   ],
   "source": [
    "%%sql\n",
    "select name, population\n",
    "from facts\n",
    "where population = (select max(population)\n",
    "                    from facts\n",
    "                    where name != 'World');"
   ],
   "metadata": {
    "collapsed": false
   }
  },
  {
   "cell_type": "markdown",
   "source": [
    "From the query above, China is the country with the most people, with a population in excess of 1.3 billion people."
   ],
   "metadata": {
    "collapsed": false
   }
  },
  {
   "cell_type": "code",
   "execution_count": 18,
   "outputs": [
    {
     "name": "stdout",
     "output_type": "stream",
     "text": [
      " * sqlite:///factbook.db\n",
      "Done.\n"
     ]
    },
    {
     "data": {
      "text/plain": "[('South Sudan', 12042910, 4.02)]",
      "text/html": "<table>\n    <tr>\n        <th>name</th>\n        <th>population</th>\n        <th>population_growth</th>\n    </tr>\n    <tr>\n        <td>South Sudan</td>\n        <td>12042910</td>\n        <td>4.02</td>\n    </tr>\n</table>"
     },
     "execution_count": 18,
     "metadata": {},
     "output_type": "execute_result"
    }
   ],
   "source": [
    "%%sql\n",
    "-- Which country has the highest growth rate?\n",
    "select name, population, population_growth\n",
    "from facts\n",
    "where population_growth = (select max(population_growth)\n",
    "                    from facts\n",
    "                    where name != 'World');"
   ],
   "metadata": {
    "collapsed": false
   }
  },
  {
   "cell_type": "markdown",
   "source": [
    "South Sudan is the country with the highest population growth rate, i.e. 4%. The query below results in the same answer."
   ],
   "metadata": {
    "collapsed": false
   }
  },
  {
   "cell_type": "code",
   "execution_count": 17,
   "outputs": [
    {
     "name": "stdout",
     "output_type": "stream",
     "text": [
      " * sqlite:///factbook.db\n",
      "Done.\n"
     ]
    },
    {
     "data": {
      "text/plain": "[('South Sudan', 4.02)]",
      "text/html": "<table>\n    <tr>\n        <th>name</th>\n        <th>max(population_growth)</th>\n    </tr>\n    <tr>\n        <td>South Sudan</td>\n        <td>4.02</td>\n    </tr>\n</table>"
     },
     "execution_count": 17,
     "metadata": {},
     "output_type": "execute_result"
    }
   ],
   "source": [
    "%%sql\n",
    "-- same as query above\n",
    "select name, max(population_growth)\n",
    "from facts;"
   ],
   "metadata": {
    "collapsed": false
   }
  },
  {
   "cell_type": "code",
   "execution_count": 24,
   "outputs": [
    {
     "name": "stdout",
     "output_type": "stream",
     "text": [
      " * sqlite:///factbook.db\n",
      "Done.\n"
     ]
    },
    {
     "data": {
      "text/plain": "[('British Indian Ocean Territory', 905.667),\n ('Virgin Islands', 4.52),\n ('Puerto Rico', 0.555),\n ('Bahamas, The', 0.387),\n ('Guinea-Bissau', 0.285),\n ('Malawi', 0.259),\n ('Netherlands', 0.226),\n ('Uganda', 0.223),\n ('Eritrea', 0.164),\n ('Liberia', 0.156)]",
      "text/html": "<table>\n    <tr>\n        <th>name</th>\n        <th>water_to_land_ratios</th>\n    </tr>\n    <tr>\n        <td>British Indian Ocean Territory</td>\n        <td>905.667</td>\n    </tr>\n    <tr>\n        <td>Virgin Islands</td>\n        <td>4.52</td>\n    </tr>\n    <tr>\n        <td>Puerto Rico</td>\n        <td>0.555</td>\n    </tr>\n    <tr>\n        <td>Bahamas, The</td>\n        <td>0.387</td>\n    </tr>\n    <tr>\n        <td>Guinea-Bissau</td>\n        <td>0.285</td>\n    </tr>\n    <tr>\n        <td>Malawi</td>\n        <td>0.259</td>\n    </tr>\n    <tr>\n        <td>Netherlands</td>\n        <td>0.226</td>\n    </tr>\n    <tr>\n        <td>Uganda</td>\n        <td>0.223</td>\n    </tr>\n    <tr>\n        <td>Eritrea</td>\n        <td>0.164</td>\n    </tr>\n    <tr>\n        <td>Liberia</td>\n        <td>0.156</td>\n    </tr>\n</table>"
     },
     "execution_count": 24,
     "metadata": {},
     "output_type": "execute_result"
    }
   ],
   "source": [
    "%%sql\n",
    "-- Which countries have the highest ratios of water to land?\n",
    "select name, round(cast (area_water as float) / cast(area_land as float), 3) as water_to_land_ratios\n",
    "from facts\n",
    "order by water_to_land_ratios desc\n",
    "limit 10;"
   ],
   "metadata": {
    "collapsed": false
   }
  },
  {
   "cell_type": "markdown",
   "source": [
    "There are 2 countries with significant water to land ratios:\n",
    "* British Indian Ocean Territory at 905, and\n",
    "* The Virgin Islands at 4.52\n",
    "* Other water to land ratios are negligible.\n",
    "\n",
    "We will conduct further analysis to find out which Virgin Islands this is."
   ],
   "metadata": {
    "collapsed": false
   }
  },
  {
   "cell_type": "code",
   "execution_count": 49,
   "outputs": [
    {
     "name": "stdout",
     "output_type": "stream",
     "text": [
      " * sqlite:///factbook.db\n",
      "Done.\n"
     ]
    },
    {
     "data": {
      "text/plain": "[('British Virgin Islands', 0.0), ('Virgin Islands', 4.52)]",
      "text/html": "<table>\n    <tr>\n        <th>name</th>\n        <th>water_to_land_ratios</th>\n    </tr>\n    <tr>\n        <td>British Virgin Islands</td>\n        <td>0.0</td>\n    </tr>\n    <tr>\n        <td>Virgin Islands</td>\n        <td>4.52</td>\n    </tr>\n</table>"
     },
     "execution_count": 49,
     "metadata": {},
     "output_type": "execute_result"
    }
   ],
   "source": [
    "%%sql\n",
    "select name, round(cast (area_water as float) / cast(area_land as float), 3) as water_to_land_ratios\n",
    "from facts\n",
    "where name like '%Virgin Islands%'"
   ],
   "metadata": {
    "collapsed": false
   }
  },
  {
   "cell_type": "markdown",
   "source": [
    "Since the British Virgin Islands exist in the dataset, the Virgin Islands are the US Virgin Islands."
   ],
   "metadata": {
    "collapsed": false
   }
  },
  {
   "cell_type": "code",
   "execution_count": 23,
   "outputs": [
    {
     "name": "stdout",
     "output_type": "stream",
     "text": [
      " * sqlite:///factbook.db\n",
      "Done.\n"
     ]
    },
    {
     "data": {
      "text/plain": "[('British Indian Ocean Territory', 54340, 60), ('Virgin Islands', 1564, 346)]",
      "text/html": "<table>\n    <tr>\n        <th>name</th>\n        <th>area_water</th>\n        <th>area_land</th>\n    </tr>\n    <tr>\n        <td>British Indian Ocean Territory</td>\n        <td>54340</td>\n        <td>60</td>\n    </tr>\n    <tr>\n        <td>Virgin Islands</td>\n        <td>1564</td>\n        <td>346</td>\n    </tr>\n</table>"
     },
     "execution_count": 23,
     "metadata": {},
     "output_type": "execute_result"
    }
   ],
   "source": [
    "%%sql\n",
    "-- Which countries have more water than land?\n",
    "select name, area_water, area_land\n",
    "from facts\n",
    "where area_water > area_land\n",
    "limit 10;"
   ],
   "metadata": {
    "collapsed": false
   }
  },
  {
   "cell_type": "markdown",
   "source": [
    "The top 2 countries with the highest water to land ratios are the countries with more water than land."
   ],
   "metadata": {
    "collapsed": false
   }
  },
  {
   "cell_type": "code",
   "execution_count": 51,
   "outputs": [
    {
     "name": "stdout",
     "output_type": "stream",
     "text": [
      " * sqlite:///factbook.db\n",
      "Done.\n"
     ]
    },
    {
     "data": {
      "text/plain": "[('Somalia', 40.45, 8.49, 1.83, 48.94),\n ('South Sudan', 36.91, 11.47, 4.02, 48.38),\n ('Mali', 44.99, 2.26, 2.98, 47.25),\n ('Niger', 45.45, 0.56, 3.25, 46.01),\n ('Uganda', 43.79, 0.74, 3.24, 44.53),\n ('American Samoa', 22.89, 21.13, 0.3, 44.02),\n ('Sao Tome and Principe', 34.23, 8.63, 1.84, 42.86),\n ('Zambia', 42.13, 0.68, 2.88, 42.81),\n ('Burkina Faso', 42.03, 0.0, 3.03, 42.03),\n ('Burundi', 42.01, 0.0, 3.28, 42.01)]",
      "text/html": "<table>\n    <tr>\n        <th>name</th>\n        <th>birth_rate</th>\n        <th>migration_rate</th>\n        <th>population_growth</th>\n        <th>population_increase</th>\n    </tr>\n    <tr>\n        <td>Somalia</td>\n        <td>40.45</td>\n        <td>8.49</td>\n        <td>1.83</td>\n        <td>48.94</td>\n    </tr>\n    <tr>\n        <td>South Sudan</td>\n        <td>36.91</td>\n        <td>11.47</td>\n        <td>4.02</td>\n        <td>48.38</td>\n    </tr>\n    <tr>\n        <td>Mali</td>\n        <td>44.99</td>\n        <td>2.26</td>\n        <td>2.98</td>\n        <td>47.25</td>\n    </tr>\n    <tr>\n        <td>Niger</td>\n        <td>45.45</td>\n        <td>0.56</td>\n        <td>3.25</td>\n        <td>46.01</td>\n    </tr>\n    <tr>\n        <td>Uganda</td>\n        <td>43.79</td>\n        <td>0.74</td>\n        <td>3.24</td>\n        <td>44.53</td>\n    </tr>\n    <tr>\n        <td>American Samoa</td>\n        <td>22.89</td>\n        <td>21.13</td>\n        <td>0.3</td>\n        <td>44.02</td>\n    </tr>\n    <tr>\n        <td>Sao Tome and Principe</td>\n        <td>34.23</td>\n        <td>8.63</td>\n        <td>1.84</td>\n        <td>42.86</td>\n    </tr>\n    <tr>\n        <td>Zambia</td>\n        <td>42.13</td>\n        <td>0.68</td>\n        <td>2.88</td>\n        <td>42.81</td>\n    </tr>\n    <tr>\n        <td>Burkina Faso</td>\n        <td>42.03</td>\n        <td>0.0</td>\n        <td>3.03</td>\n        <td>42.03</td>\n    </tr>\n    <tr>\n        <td>Burundi</td>\n        <td>42.01</td>\n        <td>0.0</td>\n        <td>3.28</td>\n        <td>42.01</td>\n    </tr>\n</table>"
     },
     "execution_count": 51,
     "metadata": {},
     "output_type": "execute_result"
    }
   ],
   "source": [
    "%%sql\n",
    "-- Which countries will add the most people to their populations next year?\n",
    "-- Using population increase\n",
    "select name, birth_rate, migration_rate, population_growth, round(birth_rate + migration_rate, 2) as population_increase\n",
    "from facts\n",
    "where name != 'World'\n",
    "order by population_increase desc\n",
    "limit 10;"
   ],
   "metadata": {
    "collapsed": false
   }
  },
  {
   "cell_type": "code",
   "execution_count": 52,
   "outputs": [
    {
     "name": "stdout",
     "output_type": "stream",
     "text": [
      " * sqlite:///factbook.db\n",
      "Done.\n"
     ]
    },
    {
     "data": {
      "text/plain": "[('South Sudan', 36.91, 11.47, 4.02, 48.38),\n ('Malawi', 41.56, 0.0, 3.32, 41.56),\n ('Burundi', 42.01, 0.0, 3.28, 42.01),\n ('Niger', 45.45, 0.56, 3.25, 46.01),\n ('Uganda', 43.79, 0.74, 3.24, 44.53),\n ('Qatar', 9.84, 22.39, 3.07, 32.23),\n ('Burkina Faso', 42.03, 0.0, 3.03, 42.03),\n ('Mali', 44.99, 2.26, 2.98, 47.25),\n ('Cook Islands', 14.33, None, 2.95, None),\n ('Iraq', 31.45, 1.62, 2.93, 33.07)]",
      "text/html": "<table>\n    <tr>\n        <th>name</th>\n        <th>birth_rate</th>\n        <th>migration_rate</th>\n        <th>population_growth</th>\n        <th>population_increase</th>\n    </tr>\n    <tr>\n        <td>South Sudan</td>\n        <td>36.91</td>\n        <td>11.47</td>\n        <td>4.02</td>\n        <td>48.38</td>\n    </tr>\n    <tr>\n        <td>Malawi</td>\n        <td>41.56</td>\n        <td>0.0</td>\n        <td>3.32</td>\n        <td>41.56</td>\n    </tr>\n    <tr>\n        <td>Burundi</td>\n        <td>42.01</td>\n        <td>0.0</td>\n        <td>3.28</td>\n        <td>42.01</td>\n    </tr>\n    <tr>\n        <td>Niger</td>\n        <td>45.45</td>\n        <td>0.56</td>\n        <td>3.25</td>\n        <td>46.01</td>\n    </tr>\n    <tr>\n        <td>Uganda</td>\n        <td>43.79</td>\n        <td>0.74</td>\n        <td>3.24</td>\n        <td>44.53</td>\n    </tr>\n    <tr>\n        <td>Qatar</td>\n        <td>9.84</td>\n        <td>22.39</td>\n        <td>3.07</td>\n        <td>32.23</td>\n    </tr>\n    <tr>\n        <td>Burkina Faso</td>\n        <td>42.03</td>\n        <td>0.0</td>\n        <td>3.03</td>\n        <td>42.03</td>\n    </tr>\n    <tr>\n        <td>Mali</td>\n        <td>44.99</td>\n        <td>2.26</td>\n        <td>2.98</td>\n        <td>47.25</td>\n    </tr>\n    <tr>\n        <td>Cook Islands</td>\n        <td>14.33</td>\n        <td>None</td>\n        <td>2.95</td>\n        <td>None</td>\n    </tr>\n    <tr>\n        <td>Iraq</td>\n        <td>31.45</td>\n        <td>1.62</td>\n        <td>2.93</td>\n        <td>33.07</td>\n    </tr>\n</table>"
     },
     "execution_count": 52,
     "metadata": {},
     "output_type": "execute_result"
    }
   ],
   "source": [
    "%%sql\n",
    "-- Which countries will add the most people to their populations next year?\n",
    "-- Using population growth\n",
    "select name, birth_rate, migration_rate, population_growth, round(birth_rate + migration_rate, 2) as population_increase\n",
    "from facts\n",
    "where name != 'World'\n",
    "order by population_growth desc\n",
    "limit 10;"
   ],
   "metadata": {
    "collapsed": false
   }
  },
  {
   "cell_type": "markdown",
   "source": [
    "We've considered 2 measures of assessing which countries will add the most people to their populations next year. Population increase adds birth and migration rate will population growth calculates the difference in birth and death rates divided by number of years.\n",
    "* Using population increase, Somalia, South Sudan, Mali, Niger and Uganda will add the most to their population\n",
    "* Using population growth rate, South Sudan, Malawi, Burundi, Niger and Uganda will add the most to their population\n",
    "\n",
    "Generally, Somalia, Niger and Uganda will add the most to their population in the following year.\n",
    "From our assessment, most of the additions will be by birth more than by migration.\n",
    "A majority of the top 10 countries from this query are African countries."
   ],
   "metadata": {
    "collapsed": false
   }
  },
  {
   "cell_type": "code",
   "execution_count": 53,
   "outputs": [
    {
     "name": "stdout",
     "output_type": "stream",
     "text": [
      " * sqlite:///factbook.db\n",
      "Done.\n"
     ]
    },
    {
     "data": {
      "text/plain": "[('Ukraine', 10.72, 14.46, 3.74),\n ('Bulgaria', 8.92, 14.44, 5.52),\n ('Latvia', 10.0, 14.31, 4.31),\n ('Lithuania', 10.1, 14.27, 4.17),\n ('Russia', 11.6, 13.69, 2.09),\n ('Serbia', 9.08, 13.66, 4.58),\n ('Belarus', 10.7, 13.36, 2.66),\n ('Hungary', 9.16, 12.73, 3.57),\n ('Moldova', 12.0, 12.59, 0.59),\n ('Estonia', 10.51, 12.4, 1.89)]",
      "text/html": "<table>\n    <tr>\n        <th>name</th>\n        <th>birth_rate</th>\n        <th>death_rate</th>\n        <th>difference</th>\n    </tr>\n    <tr>\n        <td>Ukraine</td>\n        <td>10.72</td>\n        <td>14.46</td>\n        <td>3.74</td>\n    </tr>\n    <tr>\n        <td>Bulgaria</td>\n        <td>8.92</td>\n        <td>14.44</td>\n        <td>5.52</td>\n    </tr>\n    <tr>\n        <td>Latvia</td>\n        <td>10.0</td>\n        <td>14.31</td>\n        <td>4.31</td>\n    </tr>\n    <tr>\n        <td>Lithuania</td>\n        <td>10.1</td>\n        <td>14.27</td>\n        <td>4.17</td>\n    </tr>\n    <tr>\n        <td>Russia</td>\n        <td>11.6</td>\n        <td>13.69</td>\n        <td>2.09</td>\n    </tr>\n    <tr>\n        <td>Serbia</td>\n        <td>9.08</td>\n        <td>13.66</td>\n        <td>4.58</td>\n    </tr>\n    <tr>\n        <td>Belarus</td>\n        <td>10.7</td>\n        <td>13.36</td>\n        <td>2.66</td>\n    </tr>\n    <tr>\n        <td>Hungary</td>\n        <td>9.16</td>\n        <td>12.73</td>\n        <td>3.57</td>\n    </tr>\n    <tr>\n        <td>Moldova</td>\n        <td>12.0</td>\n        <td>12.59</td>\n        <td>0.59</td>\n    </tr>\n    <tr>\n        <td>Estonia</td>\n        <td>10.51</td>\n        <td>12.4</td>\n        <td>1.89</td>\n    </tr>\n</table>"
     },
     "execution_count": 53,
     "metadata": {},
     "output_type": "execute_result"
    }
   ],
   "source": [
    "%%sql\n",
    "-- Which countries have a higher death rate than birth rate?\n",
    "select name, birth_rate, death_rate, round(death_rate - birth_rate, 2) as difference\n",
    "from facts\n",
    "where name != 'World'\n",
    "and death_rate > birth_rate\n",
    "order by death_rate desc\n",
    "limit 10;"
   ],
   "metadata": {
    "collapsed": false
   }
  },
  {
   "cell_type": "code",
   "execution_count": 54,
   "outputs": [
    {
     "name": "stdout",
     "output_type": "stream",
     "text": [
      " * sqlite:///factbook.db\n",
      "Done.\n"
     ]
    },
    {
     "data": {
      "text/plain": "[('Bulgaria', 8.92, 14.44, 5.52),\n ('Serbia', 9.08, 13.66, 4.58),\n ('Latvia', 10.0, 14.31, 4.31),\n ('Lithuania', 10.1, 14.27, 4.17),\n ('Ukraine', 10.72, 14.46, 3.74),\n ('Hungary', 9.16, 12.73, 3.57),\n ('Germany', 8.47, 11.42, 2.95),\n ('Slovenia', 8.42, 11.37, 2.95),\n ('Romania', 9.14, 11.9, 2.76),\n ('Croatia', 9.45, 12.18, 2.73)]",
      "text/html": "<table>\n    <tr>\n        <th>name</th>\n        <th>birth_rate</th>\n        <th>death_rate</th>\n        <th>difference</th>\n    </tr>\n    <tr>\n        <td>Bulgaria</td>\n        <td>8.92</td>\n        <td>14.44</td>\n        <td>5.52</td>\n    </tr>\n    <tr>\n        <td>Serbia</td>\n        <td>9.08</td>\n        <td>13.66</td>\n        <td>4.58</td>\n    </tr>\n    <tr>\n        <td>Latvia</td>\n        <td>10.0</td>\n        <td>14.31</td>\n        <td>4.31</td>\n    </tr>\n    <tr>\n        <td>Lithuania</td>\n        <td>10.1</td>\n        <td>14.27</td>\n        <td>4.17</td>\n    </tr>\n    <tr>\n        <td>Ukraine</td>\n        <td>10.72</td>\n        <td>14.46</td>\n        <td>3.74</td>\n    </tr>\n    <tr>\n        <td>Hungary</td>\n        <td>9.16</td>\n        <td>12.73</td>\n        <td>3.57</td>\n    </tr>\n    <tr>\n        <td>Germany</td>\n        <td>8.47</td>\n        <td>11.42</td>\n        <td>2.95</td>\n    </tr>\n    <tr>\n        <td>Slovenia</td>\n        <td>8.42</td>\n        <td>11.37</td>\n        <td>2.95</td>\n    </tr>\n    <tr>\n        <td>Romania</td>\n        <td>9.14</td>\n        <td>11.9</td>\n        <td>2.76</td>\n    </tr>\n    <tr>\n        <td>Croatia</td>\n        <td>9.45</td>\n        <td>12.18</td>\n        <td>2.73</td>\n    </tr>\n</table>"
     },
     "execution_count": 54,
     "metadata": {},
     "output_type": "execute_result"
    }
   ],
   "source": [
    "%%sql\n",
    "-- Which countries have a higher death rate than birth rate?\n",
    "select name, birth_rate, death_rate, round(death_rate - birth_rate, 2) as difference\n",
    "from facts\n",
    "where name != 'World'\n",
    "and death_rate > birth_rate\n",
    "order by difference desc\n",
    "limit 10;"
   ],
   "metadata": {
    "collapsed": false
   }
  },
  {
   "cell_type": "markdown",
   "source": [
    "Most of the countries with deat rates higher than birth rates are Eastern European countries."
   ],
   "metadata": {
    "collapsed": false
   }
  },
  {
   "cell_type": "code",
   "execution_count": 58,
   "outputs": [
    {
     "name": "stdout",
     "output_type": "stream",
     "text": [
      " * sqlite:///factbook.db\n",
      "Done.\n"
     ]
    },
    {
     "data": {
      "text/plain": "[('Macau', 21168.964),\n ('Monaco', 15267.5),\n ('Singapore', 8141.28),\n ('Hong Kong', 6445.042),\n ('Gaza Strip', 5191.819),\n ('Gibraltar', 4876.333),\n ('Bahrain', 1771.859),\n ('Maldives', 1319.641),\n ('Malta', 1310.016),\n ('Bermuda', 1299.926)]",
      "text/html": "<table>\n    <tr>\n        <th>name</th>\n        <th>pop_area_ratio</th>\n    </tr>\n    <tr>\n        <td>Macau</td>\n        <td>21168.964</td>\n    </tr>\n    <tr>\n        <td>Monaco</td>\n        <td>15267.5</td>\n    </tr>\n    <tr>\n        <td>Singapore</td>\n        <td>8141.28</td>\n    </tr>\n    <tr>\n        <td>Hong Kong</td>\n        <td>6445.042</td>\n    </tr>\n    <tr>\n        <td>Gaza Strip</td>\n        <td>5191.819</td>\n    </tr>\n    <tr>\n        <td>Gibraltar</td>\n        <td>4876.333</td>\n    </tr>\n    <tr>\n        <td>Bahrain</td>\n        <td>1771.859</td>\n    </tr>\n    <tr>\n        <td>Maldives</td>\n        <td>1319.641</td>\n    </tr>\n    <tr>\n        <td>Malta</td>\n        <td>1310.016</td>\n    </tr>\n    <tr>\n        <td>Bermuda</td>\n        <td>1299.926</td>\n    </tr>\n</table>"
     },
     "execution_count": 58,
     "metadata": {},
     "output_type": "execute_result"
    }
   ],
   "source": [
    "%%sql\n",
    "-- Which countries have have the highest population/area ratio, and how does it compare to list of densely populated countries?\n",
    "select name, round(cast(population as float)/area, 3) as pop_area_ratio\n",
    "from facts\n",
    "where name != 'World'\n",
    "order by pop_area_ratio desc\n",
    "limit 10;"
   ],
   "metadata": {
    "collapsed": false
   }
  },
  {
   "cell_type": "markdown",
   "source": [
    "The countries with a high population to area ratio are different from those with above average population and below average area."
   ],
   "metadata": {
    "collapsed": false
   }
  },
  {
   "cell_type": "code",
   "execution_count": null,
   "outputs": [],
   "source": [],
   "metadata": {
    "collapsed": false
   }
  }
 ],
 "metadata": {
  "kernelspec": {
   "display_name": "Python 3",
   "language": "python",
   "name": "python3"
  },
  "language_info": {
   "codemirror_mode": {
    "name": "ipython",
    "version": 3
   },
   "file_extension": ".py",
   "mimetype": "text/x-python",
   "name": "python",
   "nbconvert_exporter": "python",
   "pygments_lexer": "ipython3",
   "version": "3.6.1"
  }
 },
 "nbformat": 4,
 "nbformat_minor": 2
}

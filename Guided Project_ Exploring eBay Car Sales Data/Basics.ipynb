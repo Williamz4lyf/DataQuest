{
 "cells": [
  {
   "cell_type": "markdown",
   "source": [
    "# Analysis of German Used Car Sales from eBay Classifieds\n",
    "The aim of this project is to clean the data and analyze the included used car listings.\n",
    "\n",
    "The data dictionary provided with data is as follows:\n",
    "\n",
    "1. dateCrawled - When this ad was first crawled. All field-values are taken from this date.\n",
    "2. name - Name of the car.\n",
    "3. seller - Whether the seller is private or a dealer.\n",
    "4. offerType - The type of listing\n",
    "5. price - The price on the ad to sell the car.\n",
    "6. abtest - Whether the listing is included in an A/B test.\n",
    "7. vehicleType - The vehicle Type.\n",
    "8. yearOfRegistration - The year in which the car was first registered.\n",
    "9. gearbox - The transmission type.\n",
    "10. powerPS - The power of the car in PS (horse power).\n",
    "11. model - The car model name.\n",
    "12. kilometer - How many kilometers the car has driven.\n",
    "13. monthOfRegistration - The month in which the car was first registered.\n",
    "14. fuelType - What type of fuel the car uses.\n",
    "15. brand - The brand of the car.\n",
    "16. notRepairedDamage - If the car has a damage which is not yet repaired.\n",
    "17. dateCreated - The date on which the eBay listing was created.\n",
    "18. nrOfPictures - The number of pictures in the ad.\n",
    "19. postalCode - The postal code for the location of the vehicle.\n",
    "20. lastSeenOnline - When the crawler saw this ad last online.\n",
    "\n",
    "First, we load the dataset into a variable.\n"
   ],
   "metadata": {
    "collapsed": false
   }
  },
  {
   "cell_type": "code",
   "execution_count": 1,
   "metadata": {
    "collapsed": true
   },
   "outputs": [],
   "source": [
    "import warnings\n",
    "warnings.simplefilter(action='ignore')\n",
    "\n",
    "import pandas as pd\n",
    "import numpy as np\n",
    "\n",
    "autos = pd.read_csv('autos.csv', encoding=\"Latin-1\") # encoding indcluded because of UTF-5 error"
   ]
  },
  {
   "cell_type": "code",
   "execution_count": 2,
   "outputs": [
    {
     "data": {
      "text/plain": "               dateCrawled                                               name  \\\n0      2016-03-26 17:47:46                   Peugeot_807_160_NAVTECH_ON_BOARD   \n1      2016-04-04 13:38:56         BMW_740i_4_4_Liter_HAMANN_UMBAU_Mega_Optik   \n2      2016-03-26 18:57:24                         Volkswagen_Golf_1.6_United   \n3      2016-03-12 16:58:10  Smart_smart_fortwo_coupe_softouch/F1/Klima/Pan...   \n4      2016-04-01 14:38:50  Ford_Focus_1_6_Benzin_TÜV_neu_ist_sehr_gepfleg...   \n...                    ...                                                ...   \n49995  2016-03-27 14:38:19   Audi_Q5_3.0_TDI_qu._S_tr.__Navi__Panorama__Xenon   \n49996  2016-03-28 10:50:25  Opel_Astra_F_Cabrio_Bertone_Edition___TÜV_neu+...   \n49997  2016-04-02 14:44:48                     Fiat_500_C_1.2_Dualogic_Lounge   \n49998  2016-03-08 19:25:42                 Audi_A3_2.0_TDI_Sportback_Ambition   \n49999  2016-03-14 00:42:12                                Opel_Vectra_1.6_16V   \n\n       seller offerType    price   abtest vehicleType  yearOfRegistration  \\\n0      privat   Angebot   $5,000  control         bus                2004   \n1      privat   Angebot   $8,500  control   limousine                1997   \n2      privat   Angebot   $8,990     test   limousine                2009   \n3      privat   Angebot   $4,350  control  kleinwagen                2007   \n4      privat   Angebot   $1,350     test       kombi                2003   \n...       ...       ...      ...      ...         ...                 ...   \n49995  privat   Angebot  $24,900  control   limousine                2011   \n49996  privat   Angebot   $1,980  control      cabrio                1996   \n49997  privat   Angebot  $13,200     test      cabrio                2014   \n49998  privat   Angebot  $22,900  control       kombi                2013   \n49999  privat   Angebot   $1,250  control   limousine                1996   \n\n         gearbox  powerPS   model   odometer  monthOfRegistration fuelType  \\\n0        manuell      158  andere  150,000km                    3      lpg   \n1      automatik      286     7er  150,000km                    6   benzin   \n2        manuell      102    golf   70,000km                    7   benzin   \n3      automatik       71  fortwo   70,000km                    6   benzin   \n4        manuell        0   focus  150,000km                    7   benzin   \n...          ...      ...     ...        ...                  ...      ...   \n49995  automatik      239      q5  100,000km                    1   diesel   \n49996    manuell       75   astra  150,000km                    5   benzin   \n49997  automatik       69     500    5,000km                   11   benzin   \n49998    manuell      150      a3   40,000km                   11   diesel   \n49999    manuell      101  vectra  150,000km                    1   benzin   \n\n            brand notRepairedDamage          dateCreated  nrOfPictures  \\\n0         peugeot              nein  2016-03-26 00:00:00             0   \n1             bmw              nein  2016-04-04 00:00:00             0   \n2      volkswagen              nein  2016-03-26 00:00:00             0   \n3           smart              nein  2016-03-12 00:00:00             0   \n4            ford              nein  2016-04-01 00:00:00             0   \n...           ...               ...                  ...           ...   \n49995        audi              nein  2016-03-27 00:00:00             0   \n49996        opel              nein  2016-03-28 00:00:00             0   \n49997        fiat              nein  2016-04-02 00:00:00             0   \n49998        audi              nein  2016-03-08 00:00:00             0   \n49999        opel              nein  2016-03-13 00:00:00             0   \n\n       postalCode             lastSeen  \n0           79588  2016-04-06 06:45:54  \n1           71034  2016-04-06 14:45:08  \n2           35394  2016-04-06 20:15:37  \n3           33729  2016-03-15 03:16:28  \n4           39218  2016-04-01 14:38:50  \n...           ...                  ...  \n49995       82131  2016-04-01 13:47:40  \n49996       44807  2016-04-02 14:18:02  \n49997       73430  2016-04-04 11:47:27  \n49998       35683  2016-04-05 16:45:07  \n49999       45897  2016-04-06 21:18:48  \n\n[50000 rows x 20 columns]",
      "text/html": "<div>\n<style scoped>\n    .dataframe tbody tr th:only-of-type {\n        vertical-align: middle;\n    }\n\n    .dataframe tbody tr th {\n        vertical-align: top;\n    }\n\n    .dataframe thead th {\n        text-align: right;\n    }\n</style>\n<table border=\"1\" class=\"dataframe\">\n  <thead>\n    <tr style=\"text-align: right;\">\n      <th></th>\n      <th>dateCrawled</th>\n      <th>name</th>\n      <th>seller</th>\n      <th>offerType</th>\n      <th>price</th>\n      <th>abtest</th>\n      <th>vehicleType</th>\n      <th>yearOfRegistration</th>\n      <th>gearbox</th>\n      <th>powerPS</th>\n      <th>model</th>\n      <th>odometer</th>\n      <th>monthOfRegistration</th>\n      <th>fuelType</th>\n      <th>brand</th>\n      <th>notRepairedDamage</th>\n      <th>dateCreated</th>\n      <th>nrOfPictures</th>\n      <th>postalCode</th>\n      <th>lastSeen</th>\n    </tr>\n  </thead>\n  <tbody>\n    <tr>\n      <th>0</th>\n      <td>2016-03-26 17:47:46</td>\n      <td>Peugeot_807_160_NAVTECH_ON_BOARD</td>\n      <td>privat</td>\n      <td>Angebot</td>\n      <td>$5,000</td>\n      <td>control</td>\n      <td>bus</td>\n      <td>2004</td>\n      <td>manuell</td>\n      <td>158</td>\n      <td>andere</td>\n      <td>150,000km</td>\n      <td>3</td>\n      <td>lpg</td>\n      <td>peugeot</td>\n      <td>nein</td>\n      <td>2016-03-26 00:00:00</td>\n      <td>0</td>\n      <td>79588</td>\n      <td>2016-04-06 06:45:54</td>\n    </tr>\n    <tr>\n      <th>1</th>\n      <td>2016-04-04 13:38:56</td>\n      <td>BMW_740i_4_4_Liter_HAMANN_UMBAU_Mega_Optik</td>\n      <td>privat</td>\n      <td>Angebot</td>\n      <td>$8,500</td>\n      <td>control</td>\n      <td>limousine</td>\n      <td>1997</td>\n      <td>automatik</td>\n      <td>286</td>\n      <td>7er</td>\n      <td>150,000km</td>\n      <td>6</td>\n      <td>benzin</td>\n      <td>bmw</td>\n      <td>nein</td>\n      <td>2016-04-04 00:00:00</td>\n      <td>0</td>\n      <td>71034</td>\n      <td>2016-04-06 14:45:08</td>\n    </tr>\n    <tr>\n      <th>2</th>\n      <td>2016-03-26 18:57:24</td>\n      <td>Volkswagen_Golf_1.6_United</td>\n      <td>privat</td>\n      <td>Angebot</td>\n      <td>$8,990</td>\n      <td>test</td>\n      <td>limousine</td>\n      <td>2009</td>\n      <td>manuell</td>\n      <td>102</td>\n      <td>golf</td>\n      <td>70,000km</td>\n      <td>7</td>\n      <td>benzin</td>\n      <td>volkswagen</td>\n      <td>nein</td>\n      <td>2016-03-26 00:00:00</td>\n      <td>0</td>\n      <td>35394</td>\n      <td>2016-04-06 20:15:37</td>\n    </tr>\n    <tr>\n      <th>3</th>\n      <td>2016-03-12 16:58:10</td>\n      <td>Smart_smart_fortwo_coupe_softouch/F1/Klima/Pan...</td>\n      <td>privat</td>\n      <td>Angebot</td>\n      <td>$4,350</td>\n      <td>control</td>\n      <td>kleinwagen</td>\n      <td>2007</td>\n      <td>automatik</td>\n      <td>71</td>\n      <td>fortwo</td>\n      <td>70,000km</td>\n      <td>6</td>\n      <td>benzin</td>\n      <td>smart</td>\n      <td>nein</td>\n      <td>2016-03-12 00:00:00</td>\n      <td>0</td>\n      <td>33729</td>\n      <td>2016-03-15 03:16:28</td>\n    </tr>\n    <tr>\n      <th>4</th>\n      <td>2016-04-01 14:38:50</td>\n      <td>Ford_Focus_1_6_Benzin_TÜV_neu_ist_sehr_gepfleg...</td>\n      <td>privat</td>\n      <td>Angebot</td>\n      <td>$1,350</td>\n      <td>test</td>\n      <td>kombi</td>\n      <td>2003</td>\n      <td>manuell</td>\n      <td>0</td>\n      <td>focus</td>\n      <td>150,000km</td>\n      <td>7</td>\n      <td>benzin</td>\n      <td>ford</td>\n      <td>nein</td>\n      <td>2016-04-01 00:00:00</td>\n      <td>0</td>\n      <td>39218</td>\n      <td>2016-04-01 14:38:50</td>\n    </tr>\n    <tr>\n      <th>...</th>\n      <td>...</td>\n      <td>...</td>\n      <td>...</td>\n      <td>...</td>\n      <td>...</td>\n      <td>...</td>\n      <td>...</td>\n      <td>...</td>\n      <td>...</td>\n      <td>...</td>\n      <td>...</td>\n      <td>...</td>\n      <td>...</td>\n      <td>...</td>\n      <td>...</td>\n      <td>...</td>\n      <td>...</td>\n      <td>...</td>\n      <td>...</td>\n      <td>...</td>\n    </tr>\n    <tr>\n      <th>49995</th>\n      <td>2016-03-27 14:38:19</td>\n      <td>Audi_Q5_3.0_TDI_qu._S_tr.__Navi__Panorama__Xenon</td>\n      <td>privat</td>\n      <td>Angebot</td>\n      <td>$24,900</td>\n      <td>control</td>\n      <td>limousine</td>\n      <td>2011</td>\n      <td>automatik</td>\n      <td>239</td>\n      <td>q5</td>\n      <td>100,000km</td>\n      <td>1</td>\n      <td>diesel</td>\n      <td>audi</td>\n      <td>nein</td>\n      <td>2016-03-27 00:00:00</td>\n      <td>0</td>\n      <td>82131</td>\n      <td>2016-04-01 13:47:40</td>\n    </tr>\n    <tr>\n      <th>49996</th>\n      <td>2016-03-28 10:50:25</td>\n      <td>Opel_Astra_F_Cabrio_Bertone_Edition___TÜV_neu+...</td>\n      <td>privat</td>\n      <td>Angebot</td>\n      <td>$1,980</td>\n      <td>control</td>\n      <td>cabrio</td>\n      <td>1996</td>\n      <td>manuell</td>\n      <td>75</td>\n      <td>astra</td>\n      <td>150,000km</td>\n      <td>5</td>\n      <td>benzin</td>\n      <td>opel</td>\n      <td>nein</td>\n      <td>2016-03-28 00:00:00</td>\n      <td>0</td>\n      <td>44807</td>\n      <td>2016-04-02 14:18:02</td>\n    </tr>\n    <tr>\n      <th>49997</th>\n      <td>2016-04-02 14:44:48</td>\n      <td>Fiat_500_C_1.2_Dualogic_Lounge</td>\n      <td>privat</td>\n      <td>Angebot</td>\n      <td>$13,200</td>\n      <td>test</td>\n      <td>cabrio</td>\n      <td>2014</td>\n      <td>automatik</td>\n      <td>69</td>\n      <td>500</td>\n      <td>5,000km</td>\n      <td>11</td>\n      <td>benzin</td>\n      <td>fiat</td>\n      <td>nein</td>\n      <td>2016-04-02 00:00:00</td>\n      <td>0</td>\n      <td>73430</td>\n      <td>2016-04-04 11:47:27</td>\n    </tr>\n    <tr>\n      <th>49998</th>\n      <td>2016-03-08 19:25:42</td>\n      <td>Audi_A3_2.0_TDI_Sportback_Ambition</td>\n      <td>privat</td>\n      <td>Angebot</td>\n      <td>$22,900</td>\n      <td>control</td>\n      <td>kombi</td>\n      <td>2013</td>\n      <td>manuell</td>\n      <td>150</td>\n      <td>a3</td>\n      <td>40,000km</td>\n      <td>11</td>\n      <td>diesel</td>\n      <td>audi</td>\n      <td>nein</td>\n      <td>2016-03-08 00:00:00</td>\n      <td>0</td>\n      <td>35683</td>\n      <td>2016-04-05 16:45:07</td>\n    </tr>\n    <tr>\n      <th>49999</th>\n      <td>2016-03-14 00:42:12</td>\n      <td>Opel_Vectra_1.6_16V</td>\n      <td>privat</td>\n      <td>Angebot</td>\n      <td>$1,250</td>\n      <td>control</td>\n      <td>limousine</td>\n      <td>1996</td>\n      <td>manuell</td>\n      <td>101</td>\n      <td>vectra</td>\n      <td>150,000km</td>\n      <td>1</td>\n      <td>benzin</td>\n      <td>opel</td>\n      <td>nein</td>\n      <td>2016-03-13 00:00:00</td>\n      <td>0</td>\n      <td>45897</td>\n      <td>2016-04-06 21:18:48</td>\n    </tr>\n  </tbody>\n</table>\n<p>50000 rows × 20 columns</p>\n</div>"
     },
     "execution_count": 2,
     "metadata": {},
     "output_type": "execute_result"
    }
   ],
   "source": [
    "autos"
   ],
   "metadata": {
    "collapsed": false
   }
  },
  {
   "cell_type": "code",
   "execution_count": 3,
   "outputs": [
    {
     "name": "stdout",
     "output_type": "stream",
     "text": [
      "<class 'pandas.core.frame.DataFrame'>\n",
      "RangeIndex: 50000 entries, 0 to 49999\n",
      "Data columns (total 20 columns):\n",
      " #   Column               Non-Null Count  Dtype \n",
      "---  ------               --------------  ----- \n",
      " 0   dateCrawled          50000 non-null  object\n",
      " 1   name                 50000 non-null  object\n",
      " 2   seller               50000 non-null  object\n",
      " 3   offerType            50000 non-null  object\n",
      " 4   price                50000 non-null  object\n",
      " 5   abtest               50000 non-null  object\n",
      " 6   vehicleType          44905 non-null  object\n",
      " 7   yearOfRegistration   50000 non-null  int64 \n",
      " 8   gearbox              47320 non-null  object\n",
      " 9   powerPS              50000 non-null  int64 \n",
      " 10  model                47242 non-null  object\n",
      " 11  odometer             50000 non-null  object\n",
      " 12  monthOfRegistration  50000 non-null  int64 \n",
      " 13  fuelType             45518 non-null  object\n",
      " 14  brand                50000 non-null  object\n",
      " 15  notRepairedDamage    40171 non-null  object\n",
      " 16  dateCreated          50000 non-null  object\n",
      " 17  nrOfPictures         50000 non-null  int64 \n",
      " 18  postalCode           50000 non-null  int64 \n",
      " 19  lastSeen             50000 non-null  object\n",
      "dtypes: int64(5), object(15)\n",
      "memory usage: 7.6+ MB\n",
      "None\n"
     ]
    },
    {
     "data": {
      "text/plain": "           dateCrawled                                               name  \\\n0  2016-03-26 17:47:46                   Peugeot_807_160_NAVTECH_ON_BOARD   \n1  2016-04-04 13:38:56         BMW_740i_4_4_Liter_HAMANN_UMBAU_Mega_Optik   \n2  2016-03-26 18:57:24                         Volkswagen_Golf_1.6_United   \n3  2016-03-12 16:58:10  Smart_smart_fortwo_coupe_softouch/F1/Klima/Pan...   \n4  2016-04-01 14:38:50  Ford_Focus_1_6_Benzin_TÜV_neu_ist_sehr_gepfleg...   \n\n   seller offerType   price   abtest vehicleType  yearOfRegistration  \\\n0  privat   Angebot  $5,000  control         bus                2004   \n1  privat   Angebot  $8,500  control   limousine                1997   \n2  privat   Angebot  $8,990     test   limousine                2009   \n3  privat   Angebot  $4,350  control  kleinwagen                2007   \n4  privat   Angebot  $1,350     test       kombi                2003   \n\n     gearbox  powerPS   model   odometer  monthOfRegistration fuelType  \\\n0    manuell      158  andere  150,000km                    3      lpg   \n1  automatik      286     7er  150,000km                    6   benzin   \n2    manuell      102    golf   70,000km                    7   benzin   \n3  automatik       71  fortwo   70,000km                    6   benzin   \n4    manuell        0   focus  150,000km                    7   benzin   \n\n        brand notRepairedDamage          dateCreated  nrOfPictures  \\\n0     peugeot              nein  2016-03-26 00:00:00             0   \n1         bmw              nein  2016-04-04 00:00:00             0   \n2  volkswagen              nein  2016-03-26 00:00:00             0   \n3       smart              nein  2016-03-12 00:00:00             0   \n4        ford              nein  2016-04-01 00:00:00             0   \n\n   postalCode             lastSeen  \n0       79588  2016-04-06 06:45:54  \n1       71034  2016-04-06 14:45:08  \n2       35394  2016-04-06 20:15:37  \n3       33729  2016-03-15 03:16:28  \n4       39218  2016-04-01 14:38:50  ",
      "text/html": "<div>\n<style scoped>\n    .dataframe tbody tr th:only-of-type {\n        vertical-align: middle;\n    }\n\n    .dataframe tbody tr th {\n        vertical-align: top;\n    }\n\n    .dataframe thead th {\n        text-align: right;\n    }\n</style>\n<table border=\"1\" class=\"dataframe\">\n  <thead>\n    <tr style=\"text-align: right;\">\n      <th></th>\n      <th>dateCrawled</th>\n      <th>name</th>\n      <th>seller</th>\n      <th>offerType</th>\n      <th>price</th>\n      <th>abtest</th>\n      <th>vehicleType</th>\n      <th>yearOfRegistration</th>\n      <th>gearbox</th>\n      <th>powerPS</th>\n      <th>model</th>\n      <th>odometer</th>\n      <th>monthOfRegistration</th>\n      <th>fuelType</th>\n      <th>brand</th>\n      <th>notRepairedDamage</th>\n      <th>dateCreated</th>\n      <th>nrOfPictures</th>\n      <th>postalCode</th>\n      <th>lastSeen</th>\n    </tr>\n  </thead>\n  <tbody>\n    <tr>\n      <th>0</th>\n      <td>2016-03-26 17:47:46</td>\n      <td>Peugeot_807_160_NAVTECH_ON_BOARD</td>\n      <td>privat</td>\n      <td>Angebot</td>\n      <td>$5,000</td>\n      <td>control</td>\n      <td>bus</td>\n      <td>2004</td>\n      <td>manuell</td>\n      <td>158</td>\n      <td>andere</td>\n      <td>150,000km</td>\n      <td>3</td>\n      <td>lpg</td>\n      <td>peugeot</td>\n      <td>nein</td>\n      <td>2016-03-26 00:00:00</td>\n      <td>0</td>\n      <td>79588</td>\n      <td>2016-04-06 06:45:54</td>\n    </tr>\n    <tr>\n      <th>1</th>\n      <td>2016-04-04 13:38:56</td>\n      <td>BMW_740i_4_4_Liter_HAMANN_UMBAU_Mega_Optik</td>\n      <td>privat</td>\n      <td>Angebot</td>\n      <td>$8,500</td>\n      <td>control</td>\n      <td>limousine</td>\n      <td>1997</td>\n      <td>automatik</td>\n      <td>286</td>\n      <td>7er</td>\n      <td>150,000km</td>\n      <td>6</td>\n      <td>benzin</td>\n      <td>bmw</td>\n      <td>nein</td>\n      <td>2016-04-04 00:00:00</td>\n      <td>0</td>\n      <td>71034</td>\n      <td>2016-04-06 14:45:08</td>\n    </tr>\n    <tr>\n      <th>2</th>\n      <td>2016-03-26 18:57:24</td>\n      <td>Volkswagen_Golf_1.6_United</td>\n      <td>privat</td>\n      <td>Angebot</td>\n      <td>$8,990</td>\n      <td>test</td>\n      <td>limousine</td>\n      <td>2009</td>\n      <td>manuell</td>\n      <td>102</td>\n      <td>golf</td>\n      <td>70,000km</td>\n      <td>7</td>\n      <td>benzin</td>\n      <td>volkswagen</td>\n      <td>nein</td>\n      <td>2016-03-26 00:00:00</td>\n      <td>0</td>\n      <td>35394</td>\n      <td>2016-04-06 20:15:37</td>\n    </tr>\n    <tr>\n      <th>3</th>\n      <td>2016-03-12 16:58:10</td>\n      <td>Smart_smart_fortwo_coupe_softouch/F1/Klima/Pan...</td>\n      <td>privat</td>\n      <td>Angebot</td>\n      <td>$4,350</td>\n      <td>control</td>\n      <td>kleinwagen</td>\n      <td>2007</td>\n      <td>automatik</td>\n      <td>71</td>\n      <td>fortwo</td>\n      <td>70,000km</td>\n      <td>6</td>\n      <td>benzin</td>\n      <td>smart</td>\n      <td>nein</td>\n      <td>2016-03-12 00:00:00</td>\n      <td>0</td>\n      <td>33729</td>\n      <td>2016-03-15 03:16:28</td>\n    </tr>\n    <tr>\n      <th>4</th>\n      <td>2016-04-01 14:38:50</td>\n      <td>Ford_Focus_1_6_Benzin_TÜV_neu_ist_sehr_gepfleg...</td>\n      <td>privat</td>\n      <td>Angebot</td>\n      <td>$1,350</td>\n      <td>test</td>\n      <td>kombi</td>\n      <td>2003</td>\n      <td>manuell</td>\n      <td>0</td>\n      <td>focus</td>\n      <td>150,000km</td>\n      <td>7</td>\n      <td>benzin</td>\n      <td>ford</td>\n      <td>nein</td>\n      <td>2016-04-01 00:00:00</td>\n      <td>0</td>\n      <td>39218</td>\n      <td>2016-04-01 14:38:50</td>\n    </tr>\n  </tbody>\n</table>\n</div>"
     },
     "execution_count": 3,
     "metadata": {},
     "output_type": "execute_result"
    }
   ],
   "source": [
    "print(autos.info())\n",
    "autos.head()"
   ],
   "metadata": {
    "collapsed": false
   }
  },
  {
   "cell_type": "markdown",
   "source": [
    "From initial analysis, there are 50,000 rows with 20 columns. Rows are a mix of numeric and object data types.\n",
    "\n",
    "There are 4 datetime columns that need to be cleaned to datetime data type.\n",
    "\n",
    "Column headings need to be cleaned for ease of reference.\n",
    "\n",
    "Odometer and price column needs to converted to numeric column for statistical operations to be done on it.\n",
    "\n",
    "Columns with German records may need to be converted to English records."
   ],
   "metadata": {
    "collapsed": false
   }
  },
  {
   "cell_type": "markdown",
   "source": [
    "### Cleaning Column Names"
   ],
   "metadata": {
    "collapsed": false
   }
  },
  {
   "cell_type": "code",
   "execution_count": 4,
   "outputs": [
    {
     "data": {
      "text/plain": "Index(['dateCrawled', 'name', 'seller', 'offerType', 'price', 'abtest',\n       'vehicleType', 'yearOfRegistration', 'gearbox', 'powerPS', 'model',\n       'odometer', 'monthOfRegistration', 'fuelType', 'brand',\n       'notRepairedDamage', 'dateCreated', 'nrOfPictures', 'postalCode',\n       'lastSeen'],\n      dtype='object')"
     },
     "execution_count": 4,
     "metadata": {},
     "output_type": "execute_result"
    }
   ],
   "source": [
    "autos.columns"
   ],
   "metadata": {
    "collapsed": false
   }
  },
  {
   "cell_type": "code",
   "execution_count": 5,
   "outputs": [
    {
     "data": {
      "text/plain": "          date_crawled                                               name  \\\n0  2016-03-26 17:47:46                   Peugeot_807_160_NAVTECH_ON_BOARD   \n1  2016-04-04 13:38:56         BMW_740i_4_4_Liter_HAMANN_UMBAU_Mega_Optik   \n2  2016-03-26 18:57:24                         Volkswagen_Golf_1.6_United   \n3  2016-03-12 16:58:10  Smart_smart_fortwo_coupe_softouch/F1/Klima/Pan...   \n4  2016-04-01 14:38:50  Ford_Focus_1_6_Benzin_TÜV_neu_ist_sehr_gepfleg...   \n\n   seller offer_type   price   abtest vehicle_type  registration_year  \\\n0  privat    Angebot  $5,000  control          bus               2004   \n1  privat    Angebot  $8,500  control    limousine               1997   \n2  privat    Angebot  $8,990     test    limousine               2009   \n3  privat    Angebot  $4,350  control   kleinwagen               2007   \n4  privat    Angebot  $1,350     test        kombi               2003   \n\n     gearbox  power_ps   model   odometer  registration_month fuel_type  \\\n0    manuell       158  andere  150,000km                   3       lpg   \n1  automatik       286     7er  150,000km                   6    benzin   \n2    manuell       102    golf   70,000km                   7    benzin   \n3  automatik        71  fortwo   70,000km                   6    benzin   \n4    manuell         0   focus  150,000km                   7    benzin   \n\n        brand unrepaired_damage           ad_created  num_of_pictures  \\\n0     peugeot              nein  2016-03-26 00:00:00                0   \n1         bmw              nein  2016-04-04 00:00:00                0   \n2  volkswagen              nein  2016-03-26 00:00:00                0   \n3       smart              nein  2016-03-12 00:00:00                0   \n4        ford              nein  2016-04-01 00:00:00                0   \n\n   postal_code            last_seen  \n0        79588  2016-04-06 06:45:54  \n1        71034  2016-04-06 14:45:08  \n2        35394  2016-04-06 20:15:37  \n3        33729  2016-03-15 03:16:28  \n4        39218  2016-04-01 14:38:50  ",
      "text/html": "<div>\n<style scoped>\n    .dataframe tbody tr th:only-of-type {\n        vertical-align: middle;\n    }\n\n    .dataframe tbody tr th {\n        vertical-align: top;\n    }\n\n    .dataframe thead th {\n        text-align: right;\n    }\n</style>\n<table border=\"1\" class=\"dataframe\">\n  <thead>\n    <tr style=\"text-align: right;\">\n      <th></th>\n      <th>date_crawled</th>\n      <th>name</th>\n      <th>seller</th>\n      <th>offer_type</th>\n      <th>price</th>\n      <th>abtest</th>\n      <th>vehicle_type</th>\n      <th>registration_year</th>\n      <th>gearbox</th>\n      <th>power_ps</th>\n      <th>model</th>\n      <th>odometer</th>\n      <th>registration_month</th>\n      <th>fuel_type</th>\n      <th>brand</th>\n      <th>unrepaired_damage</th>\n      <th>ad_created</th>\n      <th>num_of_pictures</th>\n      <th>postal_code</th>\n      <th>last_seen</th>\n    </tr>\n  </thead>\n  <tbody>\n    <tr>\n      <th>0</th>\n      <td>2016-03-26 17:47:46</td>\n      <td>Peugeot_807_160_NAVTECH_ON_BOARD</td>\n      <td>privat</td>\n      <td>Angebot</td>\n      <td>$5,000</td>\n      <td>control</td>\n      <td>bus</td>\n      <td>2004</td>\n      <td>manuell</td>\n      <td>158</td>\n      <td>andere</td>\n      <td>150,000km</td>\n      <td>3</td>\n      <td>lpg</td>\n      <td>peugeot</td>\n      <td>nein</td>\n      <td>2016-03-26 00:00:00</td>\n      <td>0</td>\n      <td>79588</td>\n      <td>2016-04-06 06:45:54</td>\n    </tr>\n    <tr>\n      <th>1</th>\n      <td>2016-04-04 13:38:56</td>\n      <td>BMW_740i_4_4_Liter_HAMANN_UMBAU_Mega_Optik</td>\n      <td>privat</td>\n      <td>Angebot</td>\n      <td>$8,500</td>\n      <td>control</td>\n      <td>limousine</td>\n      <td>1997</td>\n      <td>automatik</td>\n      <td>286</td>\n      <td>7er</td>\n      <td>150,000km</td>\n      <td>6</td>\n      <td>benzin</td>\n      <td>bmw</td>\n      <td>nein</td>\n      <td>2016-04-04 00:00:00</td>\n      <td>0</td>\n      <td>71034</td>\n      <td>2016-04-06 14:45:08</td>\n    </tr>\n    <tr>\n      <th>2</th>\n      <td>2016-03-26 18:57:24</td>\n      <td>Volkswagen_Golf_1.6_United</td>\n      <td>privat</td>\n      <td>Angebot</td>\n      <td>$8,990</td>\n      <td>test</td>\n      <td>limousine</td>\n      <td>2009</td>\n      <td>manuell</td>\n      <td>102</td>\n      <td>golf</td>\n      <td>70,000km</td>\n      <td>7</td>\n      <td>benzin</td>\n      <td>volkswagen</td>\n      <td>nein</td>\n      <td>2016-03-26 00:00:00</td>\n      <td>0</td>\n      <td>35394</td>\n      <td>2016-04-06 20:15:37</td>\n    </tr>\n    <tr>\n      <th>3</th>\n      <td>2016-03-12 16:58:10</td>\n      <td>Smart_smart_fortwo_coupe_softouch/F1/Klima/Pan...</td>\n      <td>privat</td>\n      <td>Angebot</td>\n      <td>$4,350</td>\n      <td>control</td>\n      <td>kleinwagen</td>\n      <td>2007</td>\n      <td>automatik</td>\n      <td>71</td>\n      <td>fortwo</td>\n      <td>70,000km</td>\n      <td>6</td>\n      <td>benzin</td>\n      <td>smart</td>\n      <td>nein</td>\n      <td>2016-03-12 00:00:00</td>\n      <td>0</td>\n      <td>33729</td>\n      <td>2016-03-15 03:16:28</td>\n    </tr>\n    <tr>\n      <th>4</th>\n      <td>2016-04-01 14:38:50</td>\n      <td>Ford_Focus_1_6_Benzin_TÜV_neu_ist_sehr_gepfleg...</td>\n      <td>privat</td>\n      <td>Angebot</td>\n      <td>$1,350</td>\n      <td>test</td>\n      <td>kombi</td>\n      <td>2003</td>\n      <td>manuell</td>\n      <td>0</td>\n      <td>focus</td>\n      <td>150,000km</td>\n      <td>7</td>\n      <td>benzin</td>\n      <td>ford</td>\n      <td>nein</td>\n      <td>2016-04-01 00:00:00</td>\n      <td>0</td>\n      <td>39218</td>\n      <td>2016-04-01 14:38:50</td>\n    </tr>\n  </tbody>\n</table>\n</div>"
     },
     "execution_count": 5,
     "metadata": {},
     "output_type": "execute_result"
    }
   ],
   "source": [
    "new_columns = {'dateCrawled': 'date_crawled', 'offerType':'offer_type',\n",
    "              'vehicleType':'vehicle_type', 'yearOfRegistration': 'registration_year', 'powerPS': 'power_ps',\n",
    "              'monthOfRegistration': 'registration_month', 'fuelType':'fuel_type', 'notRepairedDamage': 'unrepaired_damage', 'dateCreated': 'ad_created', 'nrOfPictures': 'num_of_pictures', 'postalCode': 'postal_code', 'lastSeen': 'last_seen'}\n",
    "\n",
    "autos.rename(columns=new_columns, inplace=True)\n",
    "autos.head()"
   ],
   "metadata": {
    "collapsed": false
   }
  },
  {
   "cell_type": "markdown",
   "source": [
    "### Initial Exploration and Cleaning"
   ],
   "metadata": {
    "collapsed": false
   }
  },
  {
   "cell_type": "code",
   "execution_count": 6,
   "outputs": [
    {
     "data": {
      "text/plain": "               date_crawled         name  seller offer_type  price abtest  \\\ncount                 50000        50000   50000      50000  50000  50000   \nunique                48213        38754       2          2   2357      2   \ntop     2016-04-02 11:37:04  Ford_Fiesta  privat    Angebot     $0   test   \nfreq                      3           78   49999      49999   1421  25756   \nmean                    NaN          NaN     NaN        NaN    NaN    NaN   \nstd                     NaN          NaN     NaN        NaN    NaN    NaN   \nmin                     NaN          NaN     NaN        NaN    NaN    NaN   \n25%                     NaN          NaN     NaN        NaN    NaN    NaN   \n50%                     NaN          NaN     NaN        NaN    NaN    NaN   \n75%                     NaN          NaN     NaN        NaN    NaN    NaN   \nmax                     NaN          NaN     NaN        NaN    NaN    NaN   \n\n       vehicle_type  registration_year  gearbox      power_ps  model  \\\ncount         44905       50000.000000    47320  50000.000000  47242   \nunique            8                NaN        2           NaN    245   \ntop       limousine                NaN  manuell           NaN   golf   \nfreq          12859                NaN    36993           NaN   4024   \nmean            NaN        2005.073280      NaN    116.355920    NaN   \nstd             NaN         105.712813      NaN    209.216627    NaN   \nmin             NaN        1000.000000      NaN      0.000000    NaN   \n25%             NaN        1999.000000      NaN     70.000000    NaN   \n50%             NaN        2003.000000      NaN    105.000000    NaN   \n75%             NaN        2008.000000      NaN    150.000000    NaN   \nmax             NaN        9999.000000      NaN  17700.000000    NaN   \n\n         odometer  registration_month fuel_type       brand unrepaired_damage  \\\ncount       50000        50000.000000     45518       50000             40171   \nunique         13                 NaN         7          40                 2   \ntop     150,000km                 NaN    benzin  volkswagen              nein   \nfreq        32424                 NaN     30107       10687             35232   \nmean          NaN            5.723360       NaN         NaN               NaN   \nstd           NaN            3.711984       NaN         NaN               NaN   \nmin           NaN            0.000000       NaN         NaN               NaN   \n25%           NaN            3.000000       NaN         NaN               NaN   \n50%           NaN            6.000000       NaN         NaN               NaN   \n75%           NaN            9.000000       NaN         NaN               NaN   \nmax           NaN           12.000000       NaN         NaN               NaN   \n\n                 ad_created  num_of_pictures   postal_code  \\\ncount                 50000          50000.0  50000.000000   \nunique                   76              NaN           NaN   \ntop     2016-04-03 00:00:00              NaN           NaN   \nfreq                   1946              NaN           NaN   \nmean                    NaN              0.0  50813.627300   \nstd                     NaN              0.0  25779.747957   \nmin                     NaN              0.0   1067.000000   \n25%                     NaN              0.0  30451.000000   \n50%                     NaN              0.0  49577.000000   \n75%                     NaN              0.0  71540.000000   \nmax                     NaN              0.0  99998.000000   \n\n                  last_seen  \ncount                 50000  \nunique                39481  \ntop     2016-04-07 06:17:27  \nfreq                      8  \nmean                    NaN  \nstd                     NaN  \nmin                     NaN  \n25%                     NaN  \n50%                     NaN  \n75%                     NaN  \nmax                     NaN  ",
      "text/html": "<div>\n<style scoped>\n    .dataframe tbody tr th:only-of-type {\n        vertical-align: middle;\n    }\n\n    .dataframe tbody tr th {\n        vertical-align: top;\n    }\n\n    .dataframe thead th {\n        text-align: right;\n    }\n</style>\n<table border=\"1\" class=\"dataframe\">\n  <thead>\n    <tr style=\"text-align: right;\">\n      <th></th>\n      <th>date_crawled</th>\n      <th>name</th>\n      <th>seller</th>\n      <th>offer_type</th>\n      <th>price</th>\n      <th>abtest</th>\n      <th>vehicle_type</th>\n      <th>registration_year</th>\n      <th>gearbox</th>\n      <th>power_ps</th>\n      <th>model</th>\n      <th>odometer</th>\n      <th>registration_month</th>\n      <th>fuel_type</th>\n      <th>brand</th>\n      <th>unrepaired_damage</th>\n      <th>ad_created</th>\n      <th>num_of_pictures</th>\n      <th>postal_code</th>\n      <th>last_seen</th>\n    </tr>\n  </thead>\n  <tbody>\n    <tr>\n      <th>count</th>\n      <td>50000</td>\n      <td>50000</td>\n      <td>50000</td>\n      <td>50000</td>\n      <td>50000</td>\n      <td>50000</td>\n      <td>44905</td>\n      <td>50000.000000</td>\n      <td>47320</td>\n      <td>50000.000000</td>\n      <td>47242</td>\n      <td>50000</td>\n      <td>50000.000000</td>\n      <td>45518</td>\n      <td>50000</td>\n      <td>40171</td>\n      <td>50000</td>\n      <td>50000.0</td>\n      <td>50000.000000</td>\n      <td>50000</td>\n    </tr>\n    <tr>\n      <th>unique</th>\n      <td>48213</td>\n      <td>38754</td>\n      <td>2</td>\n      <td>2</td>\n      <td>2357</td>\n      <td>2</td>\n      <td>8</td>\n      <td>NaN</td>\n      <td>2</td>\n      <td>NaN</td>\n      <td>245</td>\n      <td>13</td>\n      <td>NaN</td>\n      <td>7</td>\n      <td>40</td>\n      <td>2</td>\n      <td>76</td>\n      <td>NaN</td>\n      <td>NaN</td>\n      <td>39481</td>\n    </tr>\n    <tr>\n      <th>top</th>\n      <td>2016-04-02 11:37:04</td>\n      <td>Ford_Fiesta</td>\n      <td>privat</td>\n      <td>Angebot</td>\n      <td>$0</td>\n      <td>test</td>\n      <td>limousine</td>\n      <td>NaN</td>\n      <td>manuell</td>\n      <td>NaN</td>\n      <td>golf</td>\n      <td>150,000km</td>\n      <td>NaN</td>\n      <td>benzin</td>\n      <td>volkswagen</td>\n      <td>nein</td>\n      <td>2016-04-03 00:00:00</td>\n      <td>NaN</td>\n      <td>NaN</td>\n      <td>2016-04-07 06:17:27</td>\n    </tr>\n    <tr>\n      <th>freq</th>\n      <td>3</td>\n      <td>78</td>\n      <td>49999</td>\n      <td>49999</td>\n      <td>1421</td>\n      <td>25756</td>\n      <td>12859</td>\n      <td>NaN</td>\n      <td>36993</td>\n      <td>NaN</td>\n      <td>4024</td>\n      <td>32424</td>\n      <td>NaN</td>\n      <td>30107</td>\n      <td>10687</td>\n      <td>35232</td>\n      <td>1946</td>\n      <td>NaN</td>\n      <td>NaN</td>\n      <td>8</td>\n    </tr>\n    <tr>\n      <th>mean</th>\n      <td>NaN</td>\n      <td>NaN</td>\n      <td>NaN</td>\n      <td>NaN</td>\n      <td>NaN</td>\n      <td>NaN</td>\n      <td>NaN</td>\n      <td>2005.073280</td>\n      <td>NaN</td>\n      <td>116.355920</td>\n      <td>NaN</td>\n      <td>NaN</td>\n      <td>5.723360</td>\n      <td>NaN</td>\n      <td>NaN</td>\n      <td>NaN</td>\n      <td>NaN</td>\n      <td>0.0</td>\n      <td>50813.627300</td>\n      <td>NaN</td>\n    </tr>\n    <tr>\n      <th>std</th>\n      <td>NaN</td>\n      <td>NaN</td>\n      <td>NaN</td>\n      <td>NaN</td>\n      <td>NaN</td>\n      <td>NaN</td>\n      <td>NaN</td>\n      <td>105.712813</td>\n      <td>NaN</td>\n      <td>209.216627</td>\n      <td>NaN</td>\n      <td>NaN</td>\n      <td>3.711984</td>\n      <td>NaN</td>\n      <td>NaN</td>\n      <td>NaN</td>\n      <td>NaN</td>\n      <td>0.0</td>\n      <td>25779.747957</td>\n      <td>NaN</td>\n    </tr>\n    <tr>\n      <th>min</th>\n      <td>NaN</td>\n      <td>NaN</td>\n      <td>NaN</td>\n      <td>NaN</td>\n      <td>NaN</td>\n      <td>NaN</td>\n      <td>NaN</td>\n      <td>1000.000000</td>\n      <td>NaN</td>\n      <td>0.000000</td>\n      <td>NaN</td>\n      <td>NaN</td>\n      <td>0.000000</td>\n      <td>NaN</td>\n      <td>NaN</td>\n      <td>NaN</td>\n      <td>NaN</td>\n      <td>0.0</td>\n      <td>1067.000000</td>\n      <td>NaN</td>\n    </tr>\n    <tr>\n      <th>25%</th>\n      <td>NaN</td>\n      <td>NaN</td>\n      <td>NaN</td>\n      <td>NaN</td>\n      <td>NaN</td>\n      <td>NaN</td>\n      <td>NaN</td>\n      <td>1999.000000</td>\n      <td>NaN</td>\n      <td>70.000000</td>\n      <td>NaN</td>\n      <td>NaN</td>\n      <td>3.000000</td>\n      <td>NaN</td>\n      <td>NaN</td>\n      <td>NaN</td>\n      <td>NaN</td>\n      <td>0.0</td>\n      <td>30451.000000</td>\n      <td>NaN</td>\n    </tr>\n    <tr>\n      <th>50%</th>\n      <td>NaN</td>\n      <td>NaN</td>\n      <td>NaN</td>\n      <td>NaN</td>\n      <td>NaN</td>\n      <td>NaN</td>\n      <td>NaN</td>\n      <td>2003.000000</td>\n      <td>NaN</td>\n      <td>105.000000</td>\n      <td>NaN</td>\n      <td>NaN</td>\n      <td>6.000000</td>\n      <td>NaN</td>\n      <td>NaN</td>\n      <td>NaN</td>\n      <td>NaN</td>\n      <td>0.0</td>\n      <td>49577.000000</td>\n      <td>NaN</td>\n    </tr>\n    <tr>\n      <th>75%</th>\n      <td>NaN</td>\n      <td>NaN</td>\n      <td>NaN</td>\n      <td>NaN</td>\n      <td>NaN</td>\n      <td>NaN</td>\n      <td>NaN</td>\n      <td>2008.000000</td>\n      <td>NaN</td>\n      <td>150.000000</td>\n      <td>NaN</td>\n      <td>NaN</td>\n      <td>9.000000</td>\n      <td>NaN</td>\n      <td>NaN</td>\n      <td>NaN</td>\n      <td>NaN</td>\n      <td>0.0</td>\n      <td>71540.000000</td>\n      <td>NaN</td>\n    </tr>\n    <tr>\n      <th>max</th>\n      <td>NaN</td>\n      <td>NaN</td>\n      <td>NaN</td>\n      <td>NaN</td>\n      <td>NaN</td>\n      <td>NaN</td>\n      <td>NaN</td>\n      <td>9999.000000</td>\n      <td>NaN</td>\n      <td>17700.000000</td>\n      <td>NaN</td>\n      <td>NaN</td>\n      <td>12.000000</td>\n      <td>NaN</td>\n      <td>NaN</td>\n      <td>NaN</td>\n      <td>NaN</td>\n      <td>0.0</td>\n      <td>99998.000000</td>\n      <td>NaN</td>\n    </tr>\n  </tbody>\n</table>\n</div>"
     },
     "execution_count": 6,
     "metadata": {},
     "output_type": "execute_result"
    }
   ],
   "source": [
    "autos.describe(include='all')"
   ],
   "metadata": {
    "collapsed": false
   }
  },
  {
   "cell_type": "markdown",
   "source": [
    "The number of pictures column will be dropped as it contains no records.\n",
    "\n",
    "Statistical computation is being done on the postal code column. This should be a string of digits not a numeric column.\n",
    "\n",
    "Odometer & price columns needs cleaning to convert to numeric.\n",
    "\n",
    "The datetime columns need to be cleaned."
   ],
   "metadata": {
    "collapsed": false
   }
  },
  {
   "cell_type": "code",
   "execution_count": 7,
   "outputs": [
    {
     "data": {
      "text/plain": "               date_crawled         name  seller offer_type  price abtest  \\\ncount                 50000        50000   50000      50000  50000  50000   \nunique                48213        38754       2          2   2357      2   \ntop     2016-04-02 11:37:04  Ford_Fiesta  privat    Angebot     $0   test   \nfreq                      3           78   49999      49999   1421  25756   \nmean                    NaN          NaN     NaN        NaN    NaN    NaN   \nstd                     NaN          NaN     NaN        NaN    NaN    NaN   \nmin                     NaN          NaN     NaN        NaN    NaN    NaN   \n25%                     NaN          NaN     NaN        NaN    NaN    NaN   \n50%                     NaN          NaN     NaN        NaN    NaN    NaN   \n75%                     NaN          NaN     NaN        NaN    NaN    NaN   \nmax                     NaN          NaN     NaN        NaN    NaN    NaN   \n\n       vehicle_type  registration_year  gearbox      power_ps  model  \\\ncount         44905       50000.000000    47320  50000.000000  47242   \nunique            8                NaN        2           NaN    245   \ntop       limousine                NaN  manuell           NaN   golf   \nfreq          12859                NaN    36993           NaN   4024   \nmean            NaN        2005.073280      NaN    116.355920    NaN   \nstd             NaN         105.712813      NaN    209.216627    NaN   \nmin             NaN        1000.000000      NaN      0.000000    NaN   \n25%             NaN        1999.000000      NaN     70.000000    NaN   \n50%             NaN        2003.000000      NaN    105.000000    NaN   \n75%             NaN        2008.000000      NaN    150.000000    NaN   \nmax             NaN        9999.000000      NaN  17700.000000    NaN   \n\n         odometer  registration_month fuel_type       brand unrepaired_damage  \\\ncount       50000        50000.000000     45518       50000             40171   \nunique         13                 NaN         7          40                 2   \ntop     150,000km                 NaN    benzin  volkswagen              nein   \nfreq        32424                 NaN     30107       10687             35232   \nmean          NaN            5.723360       NaN         NaN               NaN   \nstd           NaN            3.711984       NaN         NaN               NaN   \nmin           NaN            0.000000       NaN         NaN               NaN   \n25%           NaN            3.000000       NaN         NaN               NaN   \n50%           NaN            6.000000       NaN         NaN               NaN   \n75%           NaN            9.000000       NaN         NaN               NaN   \nmax           NaN           12.000000       NaN         NaN               NaN   \n\n                 ad_created postal_code            last_seen  \ncount                 50000       50000                50000  \nunique                   76        7014                39481  \ntop     2016-04-03 00:00:00       10115  2016-04-07 06:17:27  \nfreq                   1946         109                    8  \nmean                    NaN         NaN                  NaN  \nstd                     NaN         NaN                  NaN  \nmin                     NaN         NaN                  NaN  \n25%                     NaN         NaN                  NaN  \n50%                     NaN         NaN                  NaN  \n75%                     NaN         NaN                  NaN  \nmax                     NaN         NaN                  NaN  ",
      "text/html": "<div>\n<style scoped>\n    .dataframe tbody tr th:only-of-type {\n        vertical-align: middle;\n    }\n\n    .dataframe tbody tr th {\n        vertical-align: top;\n    }\n\n    .dataframe thead th {\n        text-align: right;\n    }\n</style>\n<table border=\"1\" class=\"dataframe\">\n  <thead>\n    <tr style=\"text-align: right;\">\n      <th></th>\n      <th>date_crawled</th>\n      <th>name</th>\n      <th>seller</th>\n      <th>offer_type</th>\n      <th>price</th>\n      <th>abtest</th>\n      <th>vehicle_type</th>\n      <th>registration_year</th>\n      <th>gearbox</th>\n      <th>power_ps</th>\n      <th>model</th>\n      <th>odometer</th>\n      <th>registration_month</th>\n      <th>fuel_type</th>\n      <th>brand</th>\n      <th>unrepaired_damage</th>\n      <th>ad_created</th>\n      <th>postal_code</th>\n      <th>last_seen</th>\n    </tr>\n  </thead>\n  <tbody>\n    <tr>\n      <th>count</th>\n      <td>50000</td>\n      <td>50000</td>\n      <td>50000</td>\n      <td>50000</td>\n      <td>50000</td>\n      <td>50000</td>\n      <td>44905</td>\n      <td>50000.000000</td>\n      <td>47320</td>\n      <td>50000.000000</td>\n      <td>47242</td>\n      <td>50000</td>\n      <td>50000.000000</td>\n      <td>45518</td>\n      <td>50000</td>\n      <td>40171</td>\n      <td>50000</td>\n      <td>50000</td>\n      <td>50000</td>\n    </tr>\n    <tr>\n      <th>unique</th>\n      <td>48213</td>\n      <td>38754</td>\n      <td>2</td>\n      <td>2</td>\n      <td>2357</td>\n      <td>2</td>\n      <td>8</td>\n      <td>NaN</td>\n      <td>2</td>\n      <td>NaN</td>\n      <td>245</td>\n      <td>13</td>\n      <td>NaN</td>\n      <td>7</td>\n      <td>40</td>\n      <td>2</td>\n      <td>76</td>\n      <td>7014</td>\n      <td>39481</td>\n    </tr>\n    <tr>\n      <th>top</th>\n      <td>2016-04-02 11:37:04</td>\n      <td>Ford_Fiesta</td>\n      <td>privat</td>\n      <td>Angebot</td>\n      <td>$0</td>\n      <td>test</td>\n      <td>limousine</td>\n      <td>NaN</td>\n      <td>manuell</td>\n      <td>NaN</td>\n      <td>golf</td>\n      <td>150,000km</td>\n      <td>NaN</td>\n      <td>benzin</td>\n      <td>volkswagen</td>\n      <td>nein</td>\n      <td>2016-04-03 00:00:00</td>\n      <td>10115</td>\n      <td>2016-04-07 06:17:27</td>\n    </tr>\n    <tr>\n      <th>freq</th>\n      <td>3</td>\n      <td>78</td>\n      <td>49999</td>\n      <td>49999</td>\n      <td>1421</td>\n      <td>25756</td>\n      <td>12859</td>\n      <td>NaN</td>\n      <td>36993</td>\n      <td>NaN</td>\n      <td>4024</td>\n      <td>32424</td>\n      <td>NaN</td>\n      <td>30107</td>\n      <td>10687</td>\n      <td>35232</td>\n      <td>1946</td>\n      <td>109</td>\n      <td>8</td>\n    </tr>\n    <tr>\n      <th>mean</th>\n      <td>NaN</td>\n      <td>NaN</td>\n      <td>NaN</td>\n      <td>NaN</td>\n      <td>NaN</td>\n      <td>NaN</td>\n      <td>NaN</td>\n      <td>2005.073280</td>\n      <td>NaN</td>\n      <td>116.355920</td>\n      <td>NaN</td>\n      <td>NaN</td>\n      <td>5.723360</td>\n      <td>NaN</td>\n      <td>NaN</td>\n      <td>NaN</td>\n      <td>NaN</td>\n      <td>NaN</td>\n      <td>NaN</td>\n    </tr>\n    <tr>\n      <th>std</th>\n      <td>NaN</td>\n      <td>NaN</td>\n      <td>NaN</td>\n      <td>NaN</td>\n      <td>NaN</td>\n      <td>NaN</td>\n      <td>NaN</td>\n      <td>105.712813</td>\n      <td>NaN</td>\n      <td>209.216627</td>\n      <td>NaN</td>\n      <td>NaN</td>\n      <td>3.711984</td>\n      <td>NaN</td>\n      <td>NaN</td>\n      <td>NaN</td>\n      <td>NaN</td>\n      <td>NaN</td>\n      <td>NaN</td>\n    </tr>\n    <tr>\n      <th>min</th>\n      <td>NaN</td>\n      <td>NaN</td>\n      <td>NaN</td>\n      <td>NaN</td>\n      <td>NaN</td>\n      <td>NaN</td>\n      <td>NaN</td>\n      <td>1000.000000</td>\n      <td>NaN</td>\n      <td>0.000000</td>\n      <td>NaN</td>\n      <td>NaN</td>\n      <td>0.000000</td>\n      <td>NaN</td>\n      <td>NaN</td>\n      <td>NaN</td>\n      <td>NaN</td>\n      <td>NaN</td>\n      <td>NaN</td>\n    </tr>\n    <tr>\n      <th>25%</th>\n      <td>NaN</td>\n      <td>NaN</td>\n      <td>NaN</td>\n      <td>NaN</td>\n      <td>NaN</td>\n      <td>NaN</td>\n      <td>NaN</td>\n      <td>1999.000000</td>\n      <td>NaN</td>\n      <td>70.000000</td>\n      <td>NaN</td>\n      <td>NaN</td>\n      <td>3.000000</td>\n      <td>NaN</td>\n      <td>NaN</td>\n      <td>NaN</td>\n      <td>NaN</td>\n      <td>NaN</td>\n      <td>NaN</td>\n    </tr>\n    <tr>\n      <th>50%</th>\n      <td>NaN</td>\n      <td>NaN</td>\n      <td>NaN</td>\n      <td>NaN</td>\n      <td>NaN</td>\n      <td>NaN</td>\n      <td>NaN</td>\n      <td>2003.000000</td>\n      <td>NaN</td>\n      <td>105.000000</td>\n      <td>NaN</td>\n      <td>NaN</td>\n      <td>6.000000</td>\n      <td>NaN</td>\n      <td>NaN</td>\n      <td>NaN</td>\n      <td>NaN</td>\n      <td>NaN</td>\n      <td>NaN</td>\n    </tr>\n    <tr>\n      <th>75%</th>\n      <td>NaN</td>\n      <td>NaN</td>\n      <td>NaN</td>\n      <td>NaN</td>\n      <td>NaN</td>\n      <td>NaN</td>\n      <td>NaN</td>\n      <td>2008.000000</td>\n      <td>NaN</td>\n      <td>150.000000</td>\n      <td>NaN</td>\n      <td>NaN</td>\n      <td>9.000000</td>\n      <td>NaN</td>\n      <td>NaN</td>\n      <td>NaN</td>\n      <td>NaN</td>\n      <td>NaN</td>\n      <td>NaN</td>\n    </tr>\n    <tr>\n      <th>max</th>\n      <td>NaN</td>\n      <td>NaN</td>\n      <td>NaN</td>\n      <td>NaN</td>\n      <td>NaN</td>\n      <td>NaN</td>\n      <td>NaN</td>\n      <td>9999.000000</td>\n      <td>NaN</td>\n      <td>17700.000000</td>\n      <td>NaN</td>\n      <td>NaN</td>\n      <td>12.000000</td>\n      <td>NaN</td>\n      <td>NaN</td>\n      <td>NaN</td>\n      <td>NaN</td>\n      <td>NaN</td>\n      <td>NaN</td>\n    </tr>\n  </tbody>\n</table>\n</div>"
     },
     "execution_count": 7,
     "metadata": {},
     "output_type": "execute_result"
    }
   ],
   "source": [
    "# Drop Num of Pictures Column\n",
    "autos.drop('num_of_pictures', axis=1, inplace=True)\n",
    "\n",
    "# Convert Postal Code Column to String\n",
    "autos['postal_code'] = autos['postal_code'].astype(str)\n",
    "\n",
    "# Review columns post cleaning\n",
    "autos.describe(include='all')"
   ],
   "metadata": {
    "collapsed": false
   }
  },
  {
   "cell_type": "code",
   "execution_count": 8,
   "outputs": [
    {
     "data": {
      "text/plain": "0    150,000km\n1    150,000km\n2     70,000km\n3     70,000km\n4    150,000km\nName: odometer, dtype: object"
     },
     "execution_count": 8,
     "metadata": {},
     "output_type": "execute_result"
    }
   ],
   "source": [
    "# Clean Price & Odometer Columns\n",
    "# check the columns for values\n",
    "autos['price'].head()\n",
    "autos['odometer'].head()"
   ],
   "metadata": {
    "collapsed": false
   }
  },
  {
   "cell_type": "code",
   "execution_count": 9,
   "outputs": [],
   "source": [
    "# functions to clean odometer & price columns\n",
    "def clean_odometer(a_series):\n",
    "    a_series = a_series.str.replace(',','')\n",
    "    a_series = a_series.str.replace('km','')\n",
    "    a_series = a_series.astype(float)\n",
    "\n",
    "    return a_series\n",
    "\n",
    "def clean_price(a_series):\n",
    "    a_series = a_series.str.replace('$','')\n",
    "    a_series = a_series.str.replace(',','')\n",
    "    a_series = a_series.astype(float)\n",
    "\n",
    "    return a_series"
   ],
   "metadata": {
    "collapsed": false
   }
  },
  {
   "cell_type": "code",
   "execution_count": 10,
   "outputs": [
    {
     "data": {
      "text/plain": "         price  odometer_km\n0       5000.0     150000.0\n1       8500.0     150000.0\n2       8990.0      70000.0\n3       4350.0      70000.0\n4       1350.0     150000.0\n...        ...          ...\n49995  24900.0     100000.0\n49996   1980.0     150000.0\n49997  13200.0       5000.0\n49998  22900.0      40000.0\n49999   1250.0     150000.0\n\n[50000 rows x 2 columns]",
      "text/html": "<div>\n<style scoped>\n    .dataframe tbody tr th:only-of-type {\n        vertical-align: middle;\n    }\n\n    .dataframe tbody tr th {\n        vertical-align: top;\n    }\n\n    .dataframe thead th {\n        text-align: right;\n    }\n</style>\n<table border=\"1\" class=\"dataframe\">\n  <thead>\n    <tr style=\"text-align: right;\">\n      <th></th>\n      <th>price</th>\n      <th>odometer_km</th>\n    </tr>\n  </thead>\n  <tbody>\n    <tr>\n      <th>0</th>\n      <td>5000.0</td>\n      <td>150000.0</td>\n    </tr>\n    <tr>\n      <th>1</th>\n      <td>8500.0</td>\n      <td>150000.0</td>\n    </tr>\n    <tr>\n      <th>2</th>\n      <td>8990.0</td>\n      <td>70000.0</td>\n    </tr>\n    <tr>\n      <th>3</th>\n      <td>4350.0</td>\n      <td>70000.0</td>\n    </tr>\n    <tr>\n      <th>4</th>\n      <td>1350.0</td>\n      <td>150000.0</td>\n    </tr>\n    <tr>\n      <th>...</th>\n      <td>...</td>\n      <td>...</td>\n    </tr>\n    <tr>\n      <th>49995</th>\n      <td>24900.0</td>\n      <td>100000.0</td>\n    </tr>\n    <tr>\n      <th>49996</th>\n      <td>1980.0</td>\n      <td>150000.0</td>\n    </tr>\n    <tr>\n      <th>49997</th>\n      <td>13200.0</td>\n      <td>5000.0</td>\n    </tr>\n    <tr>\n      <th>49998</th>\n      <td>22900.0</td>\n      <td>40000.0</td>\n    </tr>\n    <tr>\n      <th>49999</th>\n      <td>1250.0</td>\n      <td>150000.0</td>\n    </tr>\n  </tbody>\n</table>\n<p>50000 rows × 2 columns</p>\n</div>"
     },
     "execution_count": 10,
     "metadata": {},
     "output_type": "execute_result"
    }
   ],
   "source": [
    "# Apply functions to clean odometer and price columns\n",
    "autos['price'] = clean_price(autos['price'])\n",
    "autos['odometer'] = clean_odometer(autos['odometer'])\n",
    "\n",
    "autos.rename(columns={'odometer':'odometer_km'}, inplace=True)\n",
    "\n",
    "autos[['price', 'odometer_km']]"
   ],
   "metadata": {
    "collapsed": false
   }
  },
  {
   "cell_type": "markdown",
   "source": [
    "### Exploring the Odometer and Price Columns"
   ],
   "metadata": {
    "collapsed": false
   }
  },
  {
   "cell_type": "code",
   "execution_count": 11,
   "outputs": [
    {
     "data": {
      "text/plain": "count     50000.000000\nmean     125732.700000\nstd       40042.211706\nmin        5000.000000\n25%      125000.000000\n50%      150000.000000\n75%      150000.000000\nmax      150000.000000\nName: odometer_km, dtype: float64"
     },
     "execution_count": 11,
     "metadata": {},
     "output_type": "execute_result"
    }
   ],
   "source": [
    "autos['odometer_km'].unique()\n",
    "autos['odometer_km'].describe()"
   ],
   "metadata": {
    "collapsed": false
   }
  },
  {
   "cell_type": "code",
   "execution_count": 12,
   "outputs": [
    {
     "data": {
      "text/plain": "150000.0    32424\n125000.0     5170\n100000.0     2169\n90000.0      1757\n80000.0      1436\n70000.0      1230\n60000.0      1164\n50000.0      1027\n5000.0        967\n40000.0       819\n30000.0       789\n20000.0       784\n10000.0       264\nName: odometer_km, dtype: int64"
     },
     "execution_count": 12,
     "metadata": {},
     "output_type": "execute_result"
    }
   ],
   "source": [
    "\n",
    "autos['odometer_km'].value_counts()"
   ],
   "metadata": {
    "collapsed": false
   }
  },
  {
   "cell_type": "markdown",
   "source": [
    "The odometer has 13 unique values. A statistical review of the column shows that the average odometer_km value is 125,732.70, the min odometer_km value is 5000 and the max odometer_km value is 150,000. The max value is also the most frequent value. There are no clear outliers in this column."
   ],
   "metadata": {
    "collapsed": false
   }
  },
  {
   "cell_type": "code",
   "execution_count": 13,
   "outputs": [
    {
     "data": {
      "text/plain": "count    5.000000e+04\nmean     9.840044e+03\nstd      4.811044e+05\nmin      0.000000e+00\n25%      1.100000e+03\n50%      2.950000e+03\n75%      7.200000e+03\nmax      1.000000e+08\nName: price, dtype: float64"
     },
     "execution_count": 13,
     "metadata": {},
     "output_type": "execute_result"
    }
   ],
   "source": [
    "autos['price'].unique()\n",
    "autos['price'].describe()"
   ],
   "metadata": {
    "collapsed": false
   }
  },
  {
   "cell_type": "code",
   "execution_count": 14,
   "outputs": [
    {
     "data": {
      "text/plain": "count    48185.000000\nmean      5796.099741\nstd       7525.532405\nmin        100.000000\n25%       1250.000000\n50%       3000.000000\n75%       7499.000000\nmax      99900.000000\nName: price, dtype: float64"
     },
     "execution_count": 14,
     "metadata": {},
     "output_type": "execute_result"
    }
   ],
   "source": [
    "autos = autos[autos[\"price\"].between(100, 100000)]\n",
    "autos['price'].describe()"
   ],
   "metadata": {
    "collapsed": false
   }
  },
  {
   "cell_type": "markdown",
   "source": [
    "The price columns has 2,357 unique values. Of the 50,000 dataset records, 0 represents 1,491 records and prices over 100,000 represent 53 records. The max price is 100,000,000, a clear outlier. Our cleaning removed the null records and the records above 100,000."
   ],
   "metadata": {
    "collapsed": false
   }
  },
  {
   "cell_type": "markdown",
   "source": [
    "### Exploring the date columns"
   ],
   "metadata": {
    "collapsed": false
   }
  },
  {
   "cell_type": "code",
   "execution_count": 15,
   "outputs": [
    {
     "name": "stdout",
     "output_type": "stream",
     "text": [
      "<class 'pandas.core.frame.DataFrame'>\n",
      "Int64Index: 48185 entries, 0 to 49999\n",
      "Data columns (total 5 columns):\n",
      " #   Column              Non-Null Count  Dtype \n",
      "---  ------              --------------  ----- \n",
      " 0   date_crawled        48185 non-null  object\n",
      " 1   last_seen           48185 non-null  object\n",
      " 2   ad_created          48185 non-null  object\n",
      " 3   registration_month  48185 non-null  int64 \n",
      " 4   registration_year   48185 non-null  int64 \n",
      "dtypes: int64(2), object(3)\n",
      "memory usage: 2.2+ MB\n"
     ]
    }
   ],
   "source": [
    "date_cols = ['date_crawled', 'last_seen', 'ad_created', 'registration_month', 'registration_year']\n",
    "autos[date_cols].info()"
   ],
   "metadata": {
    "collapsed": false
   }
  },
  {
   "cell_type": "code",
   "execution_count": 16,
   "outputs": [
    {
     "data": {
      "text/plain": "               date_crawled            last_seen           ad_created  \\\ncount                 48185                48185                48185   \nunique                46533                38207                   76   \ntop     2016-03-11 22:38:16  2016-04-07 06:17:27  2016-04-03 00:00:00   \nfreq                      3                    8                 1872   \nmean                    NaN                  NaN                  NaN   \nstd                     NaN                  NaN                  NaN   \nmin                     NaN                  NaN                  NaN   \n25%                     NaN                  NaN                  NaN   \n50%                     NaN                  NaN                  NaN   \n75%                     NaN                  NaN                  NaN   \nmax                     NaN                  NaN                  NaN   \n\n        registration_month  registration_year  \ncount         48185.000000       48185.000000  \nunique                 NaN                NaN  \ntop                    NaN                NaN  \nfreq                   NaN                NaN  \nmean              5.802096        2004.730456  \nstd               3.677562          87.932039  \nmin               0.000000        1000.000000  \n25%               3.000000        1999.000000  \n50%               6.000000        2004.000000  \n75%               9.000000        2008.000000  \nmax              12.000000        9999.000000  ",
      "text/html": "<div>\n<style scoped>\n    .dataframe tbody tr th:only-of-type {\n        vertical-align: middle;\n    }\n\n    .dataframe tbody tr th {\n        vertical-align: top;\n    }\n\n    .dataframe thead th {\n        text-align: right;\n    }\n</style>\n<table border=\"1\" class=\"dataframe\">\n  <thead>\n    <tr style=\"text-align: right;\">\n      <th></th>\n      <th>date_crawled</th>\n      <th>last_seen</th>\n      <th>ad_created</th>\n      <th>registration_month</th>\n      <th>registration_year</th>\n    </tr>\n  </thead>\n  <tbody>\n    <tr>\n      <th>count</th>\n      <td>48185</td>\n      <td>48185</td>\n      <td>48185</td>\n      <td>48185.000000</td>\n      <td>48185.000000</td>\n    </tr>\n    <tr>\n      <th>unique</th>\n      <td>46533</td>\n      <td>38207</td>\n      <td>76</td>\n      <td>NaN</td>\n      <td>NaN</td>\n    </tr>\n    <tr>\n      <th>top</th>\n      <td>2016-03-11 22:38:16</td>\n      <td>2016-04-07 06:17:27</td>\n      <td>2016-04-03 00:00:00</td>\n      <td>NaN</td>\n      <td>NaN</td>\n    </tr>\n    <tr>\n      <th>freq</th>\n      <td>3</td>\n      <td>8</td>\n      <td>1872</td>\n      <td>NaN</td>\n      <td>NaN</td>\n    </tr>\n    <tr>\n      <th>mean</th>\n      <td>NaN</td>\n      <td>NaN</td>\n      <td>NaN</td>\n      <td>5.802096</td>\n      <td>2004.730456</td>\n    </tr>\n    <tr>\n      <th>std</th>\n      <td>NaN</td>\n      <td>NaN</td>\n      <td>NaN</td>\n      <td>3.677562</td>\n      <td>87.932039</td>\n    </tr>\n    <tr>\n      <th>min</th>\n      <td>NaN</td>\n      <td>NaN</td>\n      <td>NaN</td>\n      <td>0.000000</td>\n      <td>1000.000000</td>\n    </tr>\n    <tr>\n      <th>25%</th>\n      <td>NaN</td>\n      <td>NaN</td>\n      <td>NaN</td>\n      <td>3.000000</td>\n      <td>1999.000000</td>\n    </tr>\n    <tr>\n      <th>50%</th>\n      <td>NaN</td>\n      <td>NaN</td>\n      <td>NaN</td>\n      <td>6.000000</td>\n      <td>2004.000000</td>\n    </tr>\n    <tr>\n      <th>75%</th>\n      <td>NaN</td>\n      <td>NaN</td>\n      <td>NaN</td>\n      <td>9.000000</td>\n      <td>2008.000000</td>\n    </tr>\n    <tr>\n      <th>max</th>\n      <td>NaN</td>\n      <td>NaN</td>\n      <td>NaN</td>\n      <td>12.000000</td>\n      <td>9999.000000</td>\n    </tr>\n  </tbody>\n</table>\n</div>"
     },
     "execution_count": 16,
     "metadata": {},
     "output_type": "execute_result"
    }
   ],
   "source": [
    "autos[date_cols].describe(include='all')"
   ],
   "metadata": {
    "collapsed": false
   }
  },
  {
   "cell_type": "code",
   "execution_count": 17,
   "outputs": [
    {
     "data": {
      "text/plain": "          date_crawled            last_seen           ad_created  \\\n0  2016-03-26 17:47:46  2016-04-06 06:45:54  2016-03-26 00:00:00   \n1  2016-04-04 13:38:56  2016-04-06 14:45:08  2016-04-04 00:00:00   \n2  2016-03-26 18:57:24  2016-04-06 20:15:37  2016-03-26 00:00:00   \n3  2016-03-12 16:58:10  2016-03-15 03:16:28  2016-03-12 00:00:00   \n4  2016-04-01 14:38:50  2016-04-01 14:38:50  2016-04-01 00:00:00   \n\n   registration_month  registration_year  \n0                   3               2004  \n1                   6               1997  \n2                   7               2009  \n3                   6               2007  \n4                   7               2003  ",
      "text/html": "<div>\n<style scoped>\n    .dataframe tbody tr th:only-of-type {\n        vertical-align: middle;\n    }\n\n    .dataframe tbody tr th {\n        vertical-align: top;\n    }\n\n    .dataframe thead th {\n        text-align: right;\n    }\n</style>\n<table border=\"1\" class=\"dataframe\">\n  <thead>\n    <tr style=\"text-align: right;\">\n      <th></th>\n      <th>date_crawled</th>\n      <th>last_seen</th>\n      <th>ad_created</th>\n      <th>registration_month</th>\n      <th>registration_year</th>\n    </tr>\n  </thead>\n  <tbody>\n    <tr>\n      <th>0</th>\n      <td>2016-03-26 17:47:46</td>\n      <td>2016-04-06 06:45:54</td>\n      <td>2016-03-26 00:00:00</td>\n      <td>3</td>\n      <td>2004</td>\n    </tr>\n    <tr>\n      <th>1</th>\n      <td>2016-04-04 13:38:56</td>\n      <td>2016-04-06 14:45:08</td>\n      <td>2016-04-04 00:00:00</td>\n      <td>6</td>\n      <td>1997</td>\n    </tr>\n    <tr>\n      <th>2</th>\n      <td>2016-03-26 18:57:24</td>\n      <td>2016-04-06 20:15:37</td>\n      <td>2016-03-26 00:00:00</td>\n      <td>7</td>\n      <td>2009</td>\n    </tr>\n    <tr>\n      <th>3</th>\n      <td>2016-03-12 16:58:10</td>\n      <td>2016-03-15 03:16:28</td>\n      <td>2016-03-12 00:00:00</td>\n      <td>6</td>\n      <td>2007</td>\n    </tr>\n    <tr>\n      <th>4</th>\n      <td>2016-04-01 14:38:50</td>\n      <td>2016-04-01 14:38:50</td>\n      <td>2016-04-01 00:00:00</td>\n      <td>7</td>\n      <td>2003</td>\n    </tr>\n  </tbody>\n</table>\n</div>"
     },
     "execution_count": 17,
     "metadata": {},
     "output_type": "execute_result"
    }
   ],
   "source": [
    "autos[date_cols].head()"
   ],
   "metadata": {
    "collapsed": false
   }
  },
  {
   "cell_type": "markdown",
   "source": [
    "We will extract the dates from the 3 datetime columns and perform some statistical analysis."
   ],
   "metadata": {
    "collapsed": false
   }
  },
  {
   "cell_type": "code",
   "execution_count": 18,
   "outputs": [
    {
     "data": {
      "text/plain": "  date_crawled   last_seen  ad_created  registration_month  registration_year\n0   2016-03-26  2016-04-06  2016-03-26                   3               2004\n1   2016-04-04  2016-04-06  2016-04-04                   6               1997\n2   2016-03-26  2016-04-06  2016-03-26                   7               2009\n3   2016-03-12  2016-03-15  2016-03-12                   6               2007\n4   2016-04-01  2016-04-01  2016-04-01                   7               2003",
      "text/html": "<div>\n<style scoped>\n    .dataframe tbody tr th:only-of-type {\n        vertical-align: middle;\n    }\n\n    .dataframe tbody tr th {\n        vertical-align: top;\n    }\n\n    .dataframe thead th {\n        text-align: right;\n    }\n</style>\n<table border=\"1\" class=\"dataframe\">\n  <thead>\n    <tr style=\"text-align: right;\">\n      <th></th>\n      <th>date_crawled</th>\n      <th>last_seen</th>\n      <th>ad_created</th>\n      <th>registration_month</th>\n      <th>registration_year</th>\n    </tr>\n  </thead>\n  <tbody>\n    <tr>\n      <th>0</th>\n      <td>2016-03-26</td>\n      <td>2016-04-06</td>\n      <td>2016-03-26</td>\n      <td>3</td>\n      <td>2004</td>\n    </tr>\n    <tr>\n      <th>1</th>\n      <td>2016-04-04</td>\n      <td>2016-04-06</td>\n      <td>2016-04-04</td>\n      <td>6</td>\n      <td>1997</td>\n    </tr>\n    <tr>\n      <th>2</th>\n      <td>2016-03-26</td>\n      <td>2016-04-06</td>\n      <td>2016-03-26</td>\n      <td>7</td>\n      <td>2009</td>\n    </tr>\n    <tr>\n      <th>3</th>\n      <td>2016-03-12</td>\n      <td>2016-03-15</td>\n      <td>2016-03-12</td>\n      <td>6</td>\n      <td>2007</td>\n    </tr>\n    <tr>\n      <th>4</th>\n      <td>2016-04-01</td>\n      <td>2016-04-01</td>\n      <td>2016-04-01</td>\n      <td>7</td>\n      <td>2003</td>\n    </tr>\n  </tbody>\n</table>\n</div>"
     },
     "execution_count": 18,
     "metadata": {},
     "output_type": "execute_result"
    }
   ],
   "source": [
    "def extract_date(a_series):\n",
    "    a_series = a_series.str[:10]\n",
    "    return a_series\n",
    "\n",
    "autos['date_crawled'] = extract_date(autos['date_crawled'])\n",
    "autos['last_seen'] = extract_date(autos['last_seen'])\n",
    "autos['ad_created'] = extract_date(autos['ad_created'])\n",
    "\n",
    "autos[date_cols].head()"
   ],
   "metadata": {
    "collapsed": false
   }
  },
  {
   "cell_type": "markdown",
   "source": [
    "We will calculate the distribution of values in the date columns as percentages. The result will be sorted by date in ascending order."
   ],
   "metadata": {
    "collapsed": false
   }
  },
  {
   "cell_type": "code",
   "execution_count": 19,
   "outputs": [
    {
     "data": {
      "text/plain": "2016-03-05    0.025340\n2016-03-06    0.014050\n2016-03-07    0.036090\n2016-03-08    0.033164\n2016-03-09    0.033019\n2016-03-10    0.032313\n2016-03-11    0.032624\n2016-03-12    0.036920\n2016-03-13    0.015690\n2016-03-14    0.036692\n2016-03-15    0.034305\n2016-03-16    0.029470\n2016-03-17    0.031504\n2016-03-18    0.012867\n2016-03-19    0.034762\n2016-03-20    0.037813\n2016-03-21    0.037190\n2016-03-22    0.032811\n2016-03-23    0.032292\n2016-03-24    0.029449\n2016-03-25    0.031504\n2016-03-26    0.032292\n2016-03-27    0.031109\n2016-03-28    0.034949\n2016-03-29    0.034139\n2016-03-30    0.033703\n2016-03-31    0.031856\n2016-04-01    0.033662\n2016-04-02    0.035633\n2016-04-03    0.038601\n2016-04-04    0.036567\n2016-04-05    0.013054\n2016-04-06    0.003175\n2016-04-07    0.001390\nName: date_crawled, dtype: float64"
     },
     "execution_count": 19,
     "metadata": {},
     "output_type": "execute_result"
    }
   ],
   "source": [
    "autos['date_crawled'].value_counts(normalize=True, dropna=False).sort_index()"
   ],
   "metadata": {
    "collapsed": false
   }
  },
  {
   "cell_type": "markdown",
   "source": [
    "There are 34 unique date values in the date_crawled column. Nearly all dates appear between 3% to 1% of the time in the dataset. There are no null values"
   ],
   "metadata": {
    "collapsed": false
   }
  },
  {
   "cell_type": "code",
   "execution_count": 20,
   "outputs": [
    {
     "data": {
      "text/plain": "2016-03-05    0.001079\n2016-03-06    0.004317\n2016-03-07    0.005437\n2016-03-08    0.007326\n2016-03-09    0.009567\n2016-03-10    0.010646\n2016-03-11    0.012411\n2016-03-12    0.023804\n2016-03-13    0.008882\n2016-03-14    0.012639\n2016-03-15    0.015876\n2016-03-16    0.016437\n2016-03-17    0.028121\n2016-03-18    0.007305\n2016-03-19    0.015773\n2016-03-20    0.020650\n2016-03-21    0.020546\n2016-03-22    0.021376\n2016-03-23    0.018574\n2016-03-24    0.019736\n2016-03-25    0.019114\n2016-03-26    0.016623\n2016-03-27    0.015544\n2016-03-28    0.020836\n2016-03-29    0.022310\n2016-03-30    0.024717\n2016-03-31    0.023846\n2016-04-01    0.022870\n2016-04-02    0.024883\n2016-04-03    0.025132\n2016-04-04    0.024551\n2016-04-05    0.124935\n2016-04-06    0.221999\n2016-04-07    0.132137\nName: last_seen, dtype: float64"
     },
     "execution_count": 20,
     "metadata": {},
     "output_type": "execute_result"
    }
   ],
   "source": [
    "autos['last_seen'].value_counts(normalize=True, dropna=False).sort_index()"
   ],
   "metadata": {
    "collapsed": false
   }
  },
  {
   "cell_type": "markdown",
   "source": [
    "The dates in the last_seen column reflect those in the date_crawled column and the percentage spread are within the same range."
   ],
   "metadata": {
    "collapsed": false
   }
  },
  {
   "cell_type": "code",
   "execution_count": 21,
   "outputs": [
    {
     "data": {
      "text/plain": "2015-06-11    0.000021\n2015-08-10    0.000021\n2015-09-09    0.000021\n2015-11-10    0.000021\n2015-12-05    0.000021\n                ...   \n2016-04-03    0.038850\n2016-04-04    0.036920\n2016-04-05    0.011788\n2016-04-06    0.003258\n2016-04-07    0.001245\nName: ad_created, Length: 76, dtype: float64"
     },
     "execution_count": 21,
     "metadata": {},
     "output_type": "execute_result"
    }
   ],
   "source": [
    "autos['ad_created'].value_counts(normalize=True, dropna=False).sort_index()"
   ],
   "metadata": {
    "collapsed": false
   }
  },
  {
   "cell_type": "markdown",
   "source": [
    "There are 76 unique records in the ad_created column and percentage spread shows smaller records than the others."
   ],
   "metadata": {
    "collapsed": false
   }
  },
  {
   "cell_type": "markdown",
   "source": [
    "### Dealing with Incorrect Registration Year Data"
   ],
   "metadata": {
    "collapsed": false
   }
  },
  {
   "cell_type": "code",
   "execution_count": 22,
   "outputs": [
    {
     "data": {
      "text/plain": "       registration_month  registration_year\ncount        48185.000000       48185.000000\nmean             5.802096        2004.730456\nstd              3.677562          87.932039\nmin              0.000000        1000.000000\n25%              3.000000        1999.000000\n50%              6.000000        2004.000000\n75%              9.000000        2008.000000\nmax             12.000000        9999.000000",
      "text/html": "<div>\n<style scoped>\n    .dataframe tbody tr th:only-of-type {\n        vertical-align: middle;\n    }\n\n    .dataframe tbody tr th {\n        vertical-align: top;\n    }\n\n    .dataframe thead th {\n        text-align: right;\n    }\n</style>\n<table border=\"1\" class=\"dataframe\">\n  <thead>\n    <tr style=\"text-align: right;\">\n      <th></th>\n      <th>registration_month</th>\n      <th>registration_year</th>\n    </tr>\n  </thead>\n  <tbody>\n    <tr>\n      <th>count</th>\n      <td>48185.000000</td>\n      <td>48185.000000</td>\n    </tr>\n    <tr>\n      <th>mean</th>\n      <td>5.802096</td>\n      <td>2004.730456</td>\n    </tr>\n    <tr>\n      <th>std</th>\n      <td>3.677562</td>\n      <td>87.932039</td>\n    </tr>\n    <tr>\n      <th>min</th>\n      <td>0.000000</td>\n      <td>1000.000000</td>\n    </tr>\n    <tr>\n      <th>25%</th>\n      <td>3.000000</td>\n      <td>1999.000000</td>\n    </tr>\n    <tr>\n      <th>50%</th>\n      <td>6.000000</td>\n      <td>2004.000000</td>\n    </tr>\n    <tr>\n      <th>75%</th>\n      <td>9.000000</td>\n      <td>2008.000000</td>\n    </tr>\n    <tr>\n      <th>max</th>\n      <td>12.000000</td>\n      <td>9999.000000</td>\n    </tr>\n  </tbody>\n</table>\n</div>"
     },
     "execution_count": 22,
     "metadata": {},
     "output_type": "execute_result"
    }
   ],
   "source": [
    "autos[date_cols[-2:]].describe()"
   ],
   "metadata": {
    "collapsed": false
   }
  },
  {
   "cell_type": "markdown",
   "source": [
    "The registration year column contains some outliers especially in its minimum and maximum values.\n",
    "\n",
    "Because a car can't be first registered after the listing was seen, any vehicle with a registration year above 2016 is definitely inaccurate.\n",
    "\n",
    "These need to be cleaned."
   ],
   "metadata": {
    "collapsed": false
   }
  },
  {
   "cell_type": "code",
   "execution_count": 23,
   "outputs": [
    {
     "name": "stdout",
     "output_type": "stream",
     "text": [
      "<class 'pandas.core.series.Series'>\n",
      "Int64Index: 48185 entries, 0 to 49999\n",
      "Series name: registration_year\n",
      "Non-Null Count  Dtype\n",
      "--------------  -----\n",
      "48185 non-null  int64\n",
      "dtypes: int64(1)\n",
      "memory usage: 752.9 KB\n"
     ]
    }
   ],
   "source": [
    "autos['registration_year'].info()"
   ],
   "metadata": {
    "collapsed": false
   }
  },
  {
   "cell_type": "code",
   "execution_count": 24,
   "outputs": [
    {
     "data": {
      "text/plain": "10556    1800\n22316    1000\n24511    1111\n32585    1800\n49283    1001\nName: registration_year, dtype: int64"
     },
     "execution_count": 24,
     "metadata": {},
     "output_type": "execute_result"
    }
   ],
   "source": [
    "autos.loc[autos['registration_year'] <= 1900, 'registration_year']"
   ],
   "metadata": {
    "collapsed": false
   }
  },
  {
   "cell_type": "code",
   "execution_count": 25,
   "outputs": [
    {
     "data": {
      "text/plain": "       registration_year       brand   price\n10556               1800  mitsubishi   450.0\n22316               1000  volkswagen  1500.0\n24511               1111     trabant   490.0\n32585               1800  mitsubishi   450.0\n49283               1001     citroen  7750.0",
      "text/html": "<div>\n<style scoped>\n    .dataframe tbody tr th:only-of-type {\n        vertical-align: middle;\n    }\n\n    .dataframe tbody tr th {\n        vertical-align: top;\n    }\n\n    .dataframe thead th {\n        text-align: right;\n    }\n</style>\n<table border=\"1\" class=\"dataframe\">\n  <thead>\n    <tr style=\"text-align: right;\">\n      <th></th>\n      <th>registration_year</th>\n      <th>brand</th>\n      <th>price</th>\n    </tr>\n  </thead>\n  <tbody>\n    <tr>\n      <th>10556</th>\n      <td>1800</td>\n      <td>mitsubishi</td>\n      <td>450.0</td>\n    </tr>\n    <tr>\n      <th>22316</th>\n      <td>1000</td>\n      <td>volkswagen</td>\n      <td>1500.0</td>\n    </tr>\n    <tr>\n      <th>24511</th>\n      <td>1111</td>\n      <td>trabant</td>\n      <td>490.0</td>\n    </tr>\n    <tr>\n      <th>32585</th>\n      <td>1800</td>\n      <td>mitsubishi</td>\n      <td>450.0</td>\n    </tr>\n    <tr>\n      <th>49283</th>\n      <td>1001</td>\n      <td>citroen</td>\n      <td>7750.0</td>\n    </tr>\n  </tbody>\n</table>\n</div>"
     },
     "execution_count": 25,
     "metadata": {},
     "output_type": "execute_result"
    }
   ],
   "source": [
    "autos.loc[autos['registration_year'] <= 1900, ['registration_year', 'brand', 'price']] # there are 5 records here. These are clear date outliers"
   ],
   "metadata": {
    "collapsed": false
   }
  },
  {
   "cell_type": "code",
   "execution_count": 26,
   "outputs": [
    {
     "data": {
      "text/plain": "       registration_year          brand    price\n10                  2017     volkswagen    999.0\n65                  2017           ford    250.0\n68                  2017           mini  10990.0\n84                  2018        renault    900.0\n113                 2017     volkswagen   1200.0\n...                  ...            ...      ...\n49770               2018     volkswagen    999.0\n49796               2017           opel   4500.0\n49841               2017     volkswagen    600.0\n49910               9000           opel  22200.0\n49935               2017  mercedes_benz    800.0\n\n[1867 rows x 3 columns]",
      "text/html": "<div>\n<style scoped>\n    .dataframe tbody tr th:only-of-type {\n        vertical-align: middle;\n    }\n\n    .dataframe tbody tr th {\n        vertical-align: top;\n    }\n\n    .dataframe thead th {\n        text-align: right;\n    }\n</style>\n<table border=\"1\" class=\"dataframe\">\n  <thead>\n    <tr style=\"text-align: right;\">\n      <th></th>\n      <th>registration_year</th>\n      <th>brand</th>\n      <th>price</th>\n    </tr>\n  </thead>\n  <tbody>\n    <tr>\n      <th>10</th>\n      <td>2017</td>\n      <td>volkswagen</td>\n      <td>999.0</td>\n    </tr>\n    <tr>\n      <th>65</th>\n      <td>2017</td>\n      <td>ford</td>\n      <td>250.0</td>\n    </tr>\n    <tr>\n      <th>68</th>\n      <td>2017</td>\n      <td>mini</td>\n      <td>10990.0</td>\n    </tr>\n    <tr>\n      <th>84</th>\n      <td>2018</td>\n      <td>renault</td>\n      <td>900.0</td>\n    </tr>\n    <tr>\n      <th>113</th>\n      <td>2017</td>\n      <td>volkswagen</td>\n      <td>1200.0</td>\n    </tr>\n    <tr>\n      <th>...</th>\n      <td>...</td>\n      <td>...</td>\n      <td>...</td>\n    </tr>\n    <tr>\n      <th>49770</th>\n      <td>2018</td>\n      <td>volkswagen</td>\n      <td>999.0</td>\n    </tr>\n    <tr>\n      <th>49796</th>\n      <td>2017</td>\n      <td>opel</td>\n      <td>4500.0</td>\n    </tr>\n    <tr>\n      <th>49841</th>\n      <td>2017</td>\n      <td>volkswagen</td>\n      <td>600.0</td>\n    </tr>\n    <tr>\n      <th>49910</th>\n      <td>9000</td>\n      <td>opel</td>\n      <td>22200.0</td>\n    </tr>\n    <tr>\n      <th>49935</th>\n      <td>2017</td>\n      <td>mercedes_benz</td>\n      <td>800.0</td>\n    </tr>\n  </tbody>\n</table>\n<p>1867 rows × 3 columns</p>\n</div>"
     },
     "execution_count": 26,
     "metadata": {},
     "output_type": "execute_result"
    }
   ],
   "source": [
    "autos.loc[autos['registration_year'] > 2016, ['registration_year', 'brand', 'price']] # these are incorrect records and will be dropped."
   ],
   "metadata": {
    "collapsed": false
   }
  },
  {
   "cell_type": "markdown",
   "source": [
    "Records before 1900 and after 2016 will be removed as obviously incorrect data."
   ],
   "metadata": {
    "collapsed": false
   }
  },
  {
   "cell_type": "code",
   "execution_count": 27,
   "outputs": [
    {
     "data": {
      "text/plain": "1910    0.000043\n1927    0.000022\n1929    0.000022\n1931    0.000022\n1934    0.000043\n          ...   \n2012    0.028178\n2013    0.017209\n2014    0.014251\n2015    0.008119\n2016    0.025824\nName: registration_year, Length: 78, dtype: float64"
     },
     "execution_count": 27,
     "metadata": {},
     "output_type": "execute_result"
    }
   ],
   "source": [
    "autos = autos[autos[\"registration_year\"].between(1901, 2016)]\n",
    "autos['registration_year'].value_counts(normalize=True).sort_index()"
   ],
   "metadata": {
    "collapsed": false
   }
  },
  {
   "cell_type": "markdown",
   "source": [
    "After removing records before 1900 and those after 2016, most of the records are contained within the range 1980 - 2016, although there are some records in the 1900-1980 range."
   ],
   "metadata": {
    "collapsed": false
   }
  },
  {
   "cell_type": "markdown",
   "source": [
    "### Exploring Price by Brand"
   ],
   "metadata": {
    "collapsed": false
   }
  },
  {
   "cell_type": "code",
   "execution_count": 28,
   "outputs": [
    {
     "data": {
      "text/plain": "volkswagen        0.211582\nbmw               0.110207\nopel              0.107335\nmercedes_benz     0.096668\naudi              0.086822\nford              0.069872\nrenault           0.047114\npeugeot           0.029884\nfiat              0.025630\nseat              0.018267\nskoda             0.016432\nnissan            0.015352\nmazda             0.015244\nsmart             0.014208\ncitroen           0.014057\ntoyota            0.012804\nhyundai           0.010019\nsonstige_autos    0.009436\nvolvo             0.009134\nmini              0.008810\nmitsubishi        0.008183\nhonda             0.007881\nkia               0.007082\nalfa_romeo        0.006672\nsuzuki            0.005938\nchevrolet         0.005679\nporsche           0.005463\nchrysler          0.003520\ndacia             0.002656\ndaihatsu          0.002505\njeep              0.002289\nland_rover        0.002116\nsubaru            0.002116\nsaab              0.001663\njaguar            0.001533\ndaewoo            0.001490\ntrabant           0.001360\nrover             0.001339\nlancia            0.001058\nlada              0.000583\nName: brand, dtype: float64"
     },
     "execution_count": 28,
     "metadata": {},
     "output_type": "execute_result"
    }
   ],
   "source": [
    "autos['brand'].value_counts(normalize=True).sort_values(ascending=False)"
   ],
   "metadata": {
    "collapsed": false
   }
  },
  {
   "cell_type": "markdown",
   "source": [
    "Brand data includes the list of car brands in the dataset. Volkswagen is the most popular car in the dataset (which makes sense since this is a German used car dataset). The top 5 brands are German automakers. The brand 'sonstige_autos' may refer to records where no car brand is provided. We have chosen to aggregate through the whole unique brand set."
   ],
   "metadata": {
    "collapsed": false
   }
  },
  {
   "cell_type": "code",
   "execution_count": 29,
   "outputs": [
    {
     "data": {
      "text/plain": "{'peugeot': 3113.860549132948,\n 'bmw': 8249.652429467085,\n 'volkswagen': 5436.950096948668,\n 'smart': 3596.40273556231,\n 'ford': 3740.2639060568604,\n 'chrysler': 3486.5766871165642,\n 'seat': 4433.419621749409,\n 'renault': 2496.070577451879,\n 'mercedes_benz': 8573.484922939468,\n 'audi': 9339.529967669734,\n 'sonstige_autos': 10943.649885583523,\n 'opel': 3005.4960772480385,\n 'mazda': 4129.774787535411,\n 'porsche': 34368.41106719367,\n 'mini': 10639.450980392157,\n 'toyota': 5167.091062394604,\n 'dacia': 5915.528455284553,\n 'nissan': 4756.659634317863,\n 'jeep': 11650.5,\n 'saab': 3211.6493506493507,\n 'volvo': 4993.208037825059,\n 'mitsubishi': 3439.10290237467,\n 'jaguar': 11961.56338028169,\n 'fiat': 2836.8736310025274,\n 'skoda': 6409.609724047306,\n 'subaru': 4033.7551020408164,\n 'kia': 6018.442073170731,\n 'citroen': 3796.26267281106,\n 'chevrolet': 6759.885931558935,\n 'hyundai': 5411.075431034483,\n 'honda': 4119.109589041096,\n 'daewoo': 1064.0579710144928,\n 'suzuki': 4126.341818181818,\n 'trabant': 1846.5238095238096,\n 'land_rover': 19108.091836734693,\n 'alfa_romeo': 4100.915857605178,\n 'lada': 2688.296296296296,\n 'rover': 1602.2903225806451,\n 'daihatsu': 1649.655172413793,\n 'lancia': 3444.877551020408}"
     },
     "execution_count": 29,
     "metadata": {},
     "output_type": "execute_result"
    }
   ],
   "source": [
    "avg_price_per_brand = dict()\n",
    "auto_brands = autos['brand'].unique()\n",
    "\n",
    "for brand in auto_brands:\n",
    "    selected_rows = autos[autos[\"brand\"] == brand]\n",
    "    mean = selected_rows[\"price\"].mean()\n",
    "    avg_price_per_brand[brand] = mean\n",
    "\n",
    "avg_price_per_brand"
   ],
   "metadata": {
    "collapsed": false
   }
  },
  {
   "cell_type": "markdown",
   "source": [
    "The most expensive car on average is the Land Rover. The top 10 most expensive cars are:\n",
    "Porsche (34.3k), Land Rover (19.1k), Jaguar (11.9k), Jeep (11.6k), Mini (10.6k), Audi (9.3k), Mercedes Benz (8.5k), BMW (8.2k), Chevrolet (6.7k), Skoda (6.4k)\n",
    "\n",
    "The 'sonstige_autos' price average is in the top 5 most expensive cars. This may require further analysis or the record may be removed.\n",
    "\n",
    "Based on frequency of occurrence, the most expensive cars and most frequent cars in the dataset are the BMW, Audi and Mercedes.\n",
    "\n",
    "The rover on average is the most affordable car in the dataset.\n",
    "Based on frequency and price, the least expensive most frequent cars are Renault (2.4k), Fiat (2.8k), Opel (3k), Peugeot (3.1k), and Ford (3.7k)\n",
    "\n",
    "VW, the most frequent car in the dataset has an average price in the mid-range (5.4k)."
   ],
   "metadata": {
    "collapsed": false
   }
  },
  {
   "cell_type": "markdown",
   "source": [
    "### Storing Aggregate Data in a DataFrame"
   ],
   "metadata": {
    "collapsed": false
   }
  },
  {
   "cell_type": "code",
   "execution_count": 30,
   "outputs": [
    {
     "data": {
      "text/plain": "{'volkswagen': 5436.950096948668,\n 'bmw': 8249.652429467085,\n 'opel': 3005.4960772480385,\n 'mercedes_benz': 8573.484922939468,\n 'audi': 9339.529967669734,\n 'ford': 3740.2639060568604,\n 'renault': 2496.070577451879,\n 'peugeot': 3113.860549132948,\n 'fiat': 2836.8736310025274,\n 'seat': 4433.419621749409}"
     },
     "execution_count": 30,
     "metadata": {},
     "output_type": "execute_result"
    }
   ],
   "source": [
    "# Average price for Top 10 Brands\n",
    "avg_price_top10brand = dict()\n",
    "top_10_brands = autos['brand'].value_counts(normalize=True).sort_values(ascending=False)[0:10].index\n",
    "\n",
    "for brand in top_10_brands:\n",
    "    selected_rows = autos[autos[\"brand\"] == brand]\n",
    "    mean = selected_rows[\"price\"].mean()\n",
    "    avg_price_top10brand[brand] = mean\n",
    "\n",
    "avg_price_top10brand"
   ],
   "metadata": {
    "collapsed": false
   }
  },
  {
   "cell_type": "code",
   "execution_count": 31,
   "outputs": [
    {
     "data": {
      "text/plain": "{'volkswagen': 128799.87753852434,\n 'bmw': 132756.66144200627,\n 'opel': 129384.42969221485,\n 'mercedes_benz': 131088.89881617154,\n 'audi': 129276.29942800298,\n 'ford': 124300.06180469715,\n 'renault': 128281.3932172319,\n 'peugeot': 127127.8901734104,\n 'fiat': 116950.29486099411,\n 'seat': 121536.64302600473}"
     },
     "execution_count": 31,
     "metadata": {},
     "output_type": "execute_result"
    }
   ],
   "source": [
    "# Average mileage for Top 10 Brands\n",
    "avg_mileage_top10brand = dict()\n",
    "top_10_brands = autos['brand'].value_counts(normalize=True).sort_values(ascending=False)[0:10].index\n",
    "\n",
    "for brand in top_10_brands:\n",
    "    selected_rows = autos[autos[\"brand\"] == brand]\n",
    "    mean = selected_rows[\"odometer_km\"].mean()\n",
    "    avg_mileage_top10brand[brand] = mean\n",
    "\n",
    "avg_mileage_top10brand"
   ],
   "metadata": {
    "collapsed": false
   }
  },
  {
   "cell_type": "code",
   "execution_count": 32,
   "outputs": [],
   "source": [
    "# Convert both dictionaries to Series\n",
    "bmp_series = pd.Series(avg_price_top10brand)\n",
    "bmm_series = pd.Series(avg_mileage_top10brand)"
   ],
   "metadata": {
    "collapsed": false
   }
  },
  {
   "cell_type": "code",
   "execution_count": 33,
   "outputs": [
    {
     "data": {
      "text/plain": "                mean_price   mean_mileage\nvolkswagen     5436.950097  128799.877539\nbmw            8249.652429  132756.661442\nopel           3005.496077  129384.429692\nmercedes_benz  8573.484923  131088.898816\naudi           9339.529968  129276.299428\nford           3740.263906  124300.061805\nrenault        2496.070577  128281.393217\npeugeot        3113.860549  127127.890173\nfiat           2836.873631  116950.294861\nseat           4433.419622  121536.643026",
      "text/html": "<div>\n<style scoped>\n    .dataframe tbody tr th:only-of-type {\n        vertical-align: middle;\n    }\n\n    .dataframe tbody tr th {\n        vertical-align: top;\n    }\n\n    .dataframe thead th {\n        text-align: right;\n    }\n</style>\n<table border=\"1\" class=\"dataframe\">\n  <thead>\n    <tr style=\"text-align: right;\">\n      <th></th>\n      <th>mean_price</th>\n      <th>mean_mileage</th>\n    </tr>\n  </thead>\n  <tbody>\n    <tr>\n      <th>volkswagen</th>\n      <td>5436.950097</td>\n      <td>128799.877539</td>\n    </tr>\n    <tr>\n      <th>bmw</th>\n      <td>8249.652429</td>\n      <td>132756.661442</td>\n    </tr>\n    <tr>\n      <th>opel</th>\n      <td>3005.496077</td>\n      <td>129384.429692</td>\n    </tr>\n    <tr>\n      <th>mercedes_benz</th>\n      <td>8573.484923</td>\n      <td>131088.898816</td>\n    </tr>\n    <tr>\n      <th>audi</th>\n      <td>9339.529968</td>\n      <td>129276.299428</td>\n    </tr>\n    <tr>\n      <th>ford</th>\n      <td>3740.263906</td>\n      <td>124300.061805</td>\n    </tr>\n    <tr>\n      <th>renault</th>\n      <td>2496.070577</td>\n      <td>128281.393217</td>\n    </tr>\n    <tr>\n      <th>peugeot</th>\n      <td>3113.860549</td>\n      <td>127127.890173</td>\n    </tr>\n    <tr>\n      <th>fiat</th>\n      <td>2836.873631</td>\n      <td>116950.294861</td>\n    </tr>\n    <tr>\n      <th>seat</th>\n      <td>4433.419622</td>\n      <td>121536.643026</td>\n    </tr>\n  </tbody>\n</table>\n</div>"
     },
     "execution_count": 33,
     "metadata": {},
     "output_type": "execute_result"
    }
   ],
   "source": [
    "# Convert to DataFrame\n",
    "df = pd.DataFrame(bmp_series, columns=['mean_price'])\n",
    "df['mean_mileage'] = bmm_series\n",
    "df"
   ],
   "metadata": {
    "collapsed": false
   }
  },
  {
   "cell_type": "markdown",
   "source": [
    "The top 10 most frequent brands in the dataset are spread evenly in the average price range from low to high and are clustered in the same range for average mileage."
   ],
   "metadata": {
    "collapsed": false
   }
  },
  {
   "cell_type": "markdown",
   "source": [
    "### Further Cleaning & Analysis\n",
    "\n",
    "Data cleaning next steps:\n",
    "\n",
    "* Identify categorical data that uses german words, translate them and map the values to their english counterpart\n",
    "* Convert the dates to be uniform numeric data, so \"2016-03-21\" becomes the integer 20160321.\n",
    "* See if there are particular keywords in the name column that you can extract as new columns\n",
    "\n",
    "Analysis next steps:\n",
    "\n",
    "* Find the most common brand/model combinations\n",
    "* Split the odometer_km into groups, and use aggregation to see if average prices follows any patterns based on the mileage.\n",
    "* How much cheaper are cars with damage than their non-damaged counterparts?"
   ],
   "metadata": {
    "collapsed": false
   }
  },
  {
   "cell_type": "markdown",
   "source": [
    "### Identifying & Mapping Categorical Data from German to English"
   ],
   "metadata": {
    "collapsed": false
   }
  },
  {
   "cell_type": "code",
   "execution_count": 34,
   "outputs": [
    {
     "data": {
      "text/plain": "  date_crawled                                               name  seller  \\\n0   2016-03-26                   Peugeot_807_160_NAVTECH_ON_BOARD  privat   \n1   2016-04-04         BMW_740i_4_4_Liter_HAMANN_UMBAU_Mega_Optik  privat   \n2   2016-03-26                         Volkswagen_Golf_1.6_United  privat   \n3   2016-03-12  Smart_smart_fortwo_coupe_softouch/F1/Klima/Pan...  privat   \n4   2016-04-01  Ford_Focus_1_6_Benzin_TÜV_neu_ist_sehr_gepfleg...  privat   \n\n  offer_type   price   abtest vehicle_type  registration_year    gearbox  \\\n0    Angebot  5000.0  control          bus               2004    manuell   \n1    Angebot  8500.0  control    limousine               1997  automatik   \n2    Angebot  8990.0     test    limousine               2009    manuell   \n3    Angebot  4350.0  control   kleinwagen               2007  automatik   \n4    Angebot  1350.0     test        kombi               2003    manuell   \n\n   power_ps   model  odometer_km  registration_month fuel_type       brand  \\\n0       158  andere     150000.0                   3       lpg     peugeot   \n1       286     7er     150000.0                   6    benzin         bmw   \n2       102    golf      70000.0                   7    benzin  volkswagen   \n3        71  fortwo      70000.0                   6    benzin       smart   \n4         0   focus     150000.0                   7    benzin        ford   \n\n  unrepaired_damage  ad_created postal_code   last_seen  \n0              nein  2016-03-26       79588  2016-04-06  \n1              nein  2016-04-04       71034  2016-04-06  \n2              nein  2016-03-26       35394  2016-04-06  \n3              nein  2016-03-12       33729  2016-03-15  \n4              nein  2016-04-01       39218  2016-04-01  ",
      "text/html": "<div>\n<style scoped>\n    .dataframe tbody tr th:only-of-type {\n        vertical-align: middle;\n    }\n\n    .dataframe tbody tr th {\n        vertical-align: top;\n    }\n\n    .dataframe thead th {\n        text-align: right;\n    }\n</style>\n<table border=\"1\" class=\"dataframe\">\n  <thead>\n    <tr style=\"text-align: right;\">\n      <th></th>\n      <th>date_crawled</th>\n      <th>name</th>\n      <th>seller</th>\n      <th>offer_type</th>\n      <th>price</th>\n      <th>abtest</th>\n      <th>vehicle_type</th>\n      <th>registration_year</th>\n      <th>gearbox</th>\n      <th>power_ps</th>\n      <th>model</th>\n      <th>odometer_km</th>\n      <th>registration_month</th>\n      <th>fuel_type</th>\n      <th>brand</th>\n      <th>unrepaired_damage</th>\n      <th>ad_created</th>\n      <th>postal_code</th>\n      <th>last_seen</th>\n    </tr>\n  </thead>\n  <tbody>\n    <tr>\n      <th>0</th>\n      <td>2016-03-26</td>\n      <td>Peugeot_807_160_NAVTECH_ON_BOARD</td>\n      <td>privat</td>\n      <td>Angebot</td>\n      <td>5000.0</td>\n      <td>control</td>\n      <td>bus</td>\n      <td>2004</td>\n      <td>manuell</td>\n      <td>158</td>\n      <td>andere</td>\n      <td>150000.0</td>\n      <td>3</td>\n      <td>lpg</td>\n      <td>peugeot</td>\n      <td>nein</td>\n      <td>2016-03-26</td>\n      <td>79588</td>\n      <td>2016-04-06</td>\n    </tr>\n    <tr>\n      <th>1</th>\n      <td>2016-04-04</td>\n      <td>BMW_740i_4_4_Liter_HAMANN_UMBAU_Mega_Optik</td>\n      <td>privat</td>\n      <td>Angebot</td>\n      <td>8500.0</td>\n      <td>control</td>\n      <td>limousine</td>\n      <td>1997</td>\n      <td>automatik</td>\n      <td>286</td>\n      <td>7er</td>\n      <td>150000.0</td>\n      <td>6</td>\n      <td>benzin</td>\n      <td>bmw</td>\n      <td>nein</td>\n      <td>2016-04-04</td>\n      <td>71034</td>\n      <td>2016-04-06</td>\n    </tr>\n    <tr>\n      <th>2</th>\n      <td>2016-03-26</td>\n      <td>Volkswagen_Golf_1.6_United</td>\n      <td>privat</td>\n      <td>Angebot</td>\n      <td>8990.0</td>\n      <td>test</td>\n      <td>limousine</td>\n      <td>2009</td>\n      <td>manuell</td>\n      <td>102</td>\n      <td>golf</td>\n      <td>70000.0</td>\n      <td>7</td>\n      <td>benzin</td>\n      <td>volkswagen</td>\n      <td>nein</td>\n      <td>2016-03-26</td>\n      <td>35394</td>\n      <td>2016-04-06</td>\n    </tr>\n    <tr>\n      <th>3</th>\n      <td>2016-03-12</td>\n      <td>Smart_smart_fortwo_coupe_softouch/F1/Klima/Pan...</td>\n      <td>privat</td>\n      <td>Angebot</td>\n      <td>4350.0</td>\n      <td>control</td>\n      <td>kleinwagen</td>\n      <td>2007</td>\n      <td>automatik</td>\n      <td>71</td>\n      <td>fortwo</td>\n      <td>70000.0</td>\n      <td>6</td>\n      <td>benzin</td>\n      <td>smart</td>\n      <td>nein</td>\n      <td>2016-03-12</td>\n      <td>33729</td>\n      <td>2016-03-15</td>\n    </tr>\n    <tr>\n      <th>4</th>\n      <td>2016-04-01</td>\n      <td>Ford_Focus_1_6_Benzin_TÜV_neu_ist_sehr_gepfleg...</td>\n      <td>privat</td>\n      <td>Angebot</td>\n      <td>1350.0</td>\n      <td>test</td>\n      <td>kombi</td>\n      <td>2003</td>\n      <td>manuell</td>\n      <td>0</td>\n      <td>focus</td>\n      <td>150000.0</td>\n      <td>7</td>\n      <td>benzin</td>\n      <td>ford</td>\n      <td>nein</td>\n      <td>2016-04-01</td>\n      <td>39218</td>\n      <td>2016-04-01</td>\n    </tr>\n  </tbody>\n</table>\n</div>"
     },
     "execution_count": 34,
     "metadata": {},
     "output_type": "execute_result"
    }
   ],
   "source": [
    "autos.head()"
   ],
   "metadata": {
    "collapsed": false
   }
  },
  {
   "cell_type": "markdown",
   "source": [
    "The seller, offer_type, vehicle_type, gearbox, fuel_type, and unrepaired_damage columns all have German records to be translated. We will highlight unique values in the columns to understand, translate and replace the records."
   ],
   "metadata": {
    "collapsed": false
   }
  },
  {
   "cell_type": "code",
   "execution_count": 35,
   "outputs": [
    {
     "data": {
      "text/plain": "array(['private', 'commercial'], dtype=object)"
     },
     "execution_count": 35,
     "metadata": {},
     "output_type": "execute_result"
    }
   ],
   "source": [
    "autos['seller'].unique()\n",
    "mapping_dict = {'privat':'private', 'gewerblich':'commercial'}\n",
    "autos['seller'] = autos['seller'].map(mapping_dict)\n",
    "\n",
    "autos['seller'].unique()"
   ],
   "metadata": {
    "collapsed": false
   }
  },
  {
   "cell_type": "code",
   "execution_count": 36,
   "outputs": [
    {
     "data": {
      "text/plain": "array(['Offer'], dtype=object)"
     },
     "execution_count": 36,
     "metadata": {},
     "output_type": "execute_result"
    }
   ],
   "source": [
    "autos['offer_type'].unique()\n",
    "mapping_dict = {'Angebot':'Offer'}\n",
    "autos['offer_type'] = autos['offer_type'].map(mapping_dict)\n",
    "\n",
    "autos['offer_type'].unique()"
   ],
   "metadata": {
    "collapsed": false
   }
  },
  {
   "cell_type": "code",
   "execution_count": 37,
   "outputs": [
    {
     "data": {
      "text/plain": "array(['bus', 'limousine', 'small car', 'station wagon', nan, 'coupe',\n       'suv', 'convertible', 'other'], dtype=object)"
     },
     "execution_count": 37,
     "metadata": {},
     "output_type": "execute_result"
    }
   ],
   "source": [
    "autos['vehicle_type'].unique()\n",
    "mapping_dict = {'bus':'bus', 'limousine':'limousine','kleinwagen':'small car',\n",
    "                'kombi':'station wagon', 'coupe':'coupe', 'suv':'suv',\n",
    "                'cabrio':'convertible', 'andere':'other'}\n",
    "autos['vehicle_type'] = autos['vehicle_type'].map(mapping_dict)\n",
    "\n",
    "autos['vehicle_type'].unique()"
   ],
   "metadata": {
    "collapsed": false
   }
  },
  {
   "cell_type": "code",
   "execution_count": 38,
   "outputs": [
    {
     "data": {
      "text/plain": "array(['manual', 'automatic', nan], dtype=object)"
     },
     "execution_count": 38,
     "metadata": {},
     "output_type": "execute_result"
    }
   ],
   "source": [
    "autos['gearbox'].unique()\n",
    "def gearbox_values(a_series):\n",
    "    a_series = a_series.str.replace('manuell','manual')\n",
    "    a_series = a_series.str.replace('automatik','automatic')\n",
    "    return a_series\n",
    "\n",
    "autos['gearbox'] = gearbox_values(autos['gearbox'])\n",
    "autos['gearbox'].unique()"
   ],
   "metadata": {
    "collapsed": false
   }
  },
  {
   "cell_type": "code",
   "execution_count": 39,
   "outputs": [
    {
     "data": {
      "text/plain": "array(['lpg', 'petrol', 'diesel', nan, 'cng', 'hybrid', 'electric',\n       'other'], dtype=object)"
     },
     "execution_count": 39,
     "metadata": {},
     "output_type": "execute_result"
    }
   ],
   "source": [
    "autos['fuel_type'].unique()\n",
    "def fueltype_values(a_series):\n",
    "    a_series = a_series.str.replace('benzin','petrol')\n",
    "    a_series = a_series.str.replace('elektro','electric')\n",
    "    a_series = a_series.str.replace('andere','other')\n",
    "    return a_series\n",
    "\n",
    "autos['fuel_type'] = fueltype_values(autos['fuel_type'])\n",
    "autos['fuel_type'].unique()"
   ],
   "metadata": {
    "collapsed": false
   }
  },
  {
   "cell_type": "code",
   "execution_count": 40,
   "outputs": [
    {
     "data": {
      "text/plain": "array(['no', nan, 'yes'], dtype=object)"
     },
     "execution_count": 40,
     "metadata": {},
     "output_type": "execute_result"
    }
   ],
   "source": [
    "autos['unrepaired_damage'].unique()\n",
    "mapping_dict = {'nein':'no', 'ja':'yes'}\n",
    "autos['unrepaired_damage'] = autos['unrepaired_damage'].map(mapping_dict)\n",
    "\n",
    "autos['unrepaired_damage'].unique()"
   ],
   "metadata": {
    "collapsed": false
   }
  },
  {
   "cell_type": "markdown",
   "source": [
    "### Convert the dates to be uniform numeric data\n",
    "\n",
    "Result - \"2016-03-21\" becomes the integer 20160321"
   ],
   "metadata": {
    "collapsed": false
   }
  },
  {
   "cell_type": "code",
   "execution_count": 41,
   "outputs": [
    {
     "data": {
      "text/plain": "       date_crawled  last_seen  ad_created\n0          20160326   20160406    20160326\n1          20160404   20160406    20160404\n2          20160326   20160406    20160326\n3          20160312   20160315    20160312\n4          20160401   20160401    20160401\n...             ...        ...         ...\n49995      20160327   20160401    20160327\n49996      20160328   20160402    20160328\n49997      20160402   20160404    20160402\n49998      20160308   20160405    20160308\n49999      20160314   20160406    20160313\n\n[46313 rows x 3 columns]",
      "text/html": "<div>\n<style scoped>\n    .dataframe tbody tr th:only-of-type {\n        vertical-align: middle;\n    }\n\n    .dataframe tbody tr th {\n        vertical-align: top;\n    }\n\n    .dataframe thead th {\n        text-align: right;\n    }\n</style>\n<table border=\"1\" class=\"dataframe\">\n  <thead>\n    <tr style=\"text-align: right;\">\n      <th></th>\n      <th>date_crawled</th>\n      <th>last_seen</th>\n      <th>ad_created</th>\n    </tr>\n  </thead>\n  <tbody>\n    <tr>\n      <th>0</th>\n      <td>20160326</td>\n      <td>20160406</td>\n      <td>20160326</td>\n    </tr>\n    <tr>\n      <th>1</th>\n      <td>20160404</td>\n      <td>20160406</td>\n      <td>20160404</td>\n    </tr>\n    <tr>\n      <th>2</th>\n      <td>20160326</td>\n      <td>20160406</td>\n      <td>20160326</td>\n    </tr>\n    <tr>\n      <th>3</th>\n      <td>20160312</td>\n      <td>20160315</td>\n      <td>20160312</td>\n    </tr>\n    <tr>\n      <th>4</th>\n      <td>20160401</td>\n      <td>20160401</td>\n      <td>20160401</td>\n    </tr>\n    <tr>\n      <th>...</th>\n      <td>...</td>\n      <td>...</td>\n      <td>...</td>\n    </tr>\n    <tr>\n      <th>49995</th>\n      <td>20160327</td>\n      <td>20160401</td>\n      <td>20160327</td>\n    </tr>\n    <tr>\n      <th>49996</th>\n      <td>20160328</td>\n      <td>20160402</td>\n      <td>20160328</td>\n    </tr>\n    <tr>\n      <th>49997</th>\n      <td>20160402</td>\n      <td>20160404</td>\n      <td>20160402</td>\n    </tr>\n    <tr>\n      <th>49998</th>\n      <td>20160308</td>\n      <td>20160405</td>\n      <td>20160308</td>\n    </tr>\n    <tr>\n      <th>49999</th>\n      <td>20160314</td>\n      <td>20160406</td>\n      <td>20160313</td>\n    </tr>\n  </tbody>\n</table>\n<p>46313 rows × 3 columns</p>\n</div>"
     },
     "execution_count": 41,
     "metadata": {},
     "output_type": "execute_result"
    }
   ],
   "source": [
    "autos[date_cols[0:3]]\n",
    "def clean_date(a_series):\n",
    "    a_series = a_series.str.replace('-','')\n",
    "    a_series = a_series.astype(int)\n",
    "    return a_series\n",
    "\n",
    "autos['date_crawled'] = clean_date(autos['date_crawled'])\n",
    "autos['last_seen'] = clean_date(autos['last_seen'])\n",
    "autos['ad_created'] = clean_date(autos['ad_created'])\n",
    "\n",
    "autos[date_cols[0:3]]"
   ],
   "metadata": {
    "collapsed": false
   }
  },
  {
   "cell_type": "markdown",
   "source": [
    "### Review Name Column\n",
    "See if there are particular keywords in the name column that you can extract as new columns"
   ],
   "metadata": {
    "collapsed": false
   }
  },
  {
   "cell_type": "code",
   "execution_count": 42,
   "outputs": [
    {
     "data": {
      "text/plain": "                                                 name           brand  \\\n0                    Peugeot_807_160_NAVTECH_ON_BOARD         peugeot   \n1          BMW_740i_4_4_Liter_HAMANN_UMBAU_Mega_Optik             bmw   \n2                          Volkswagen_Golf_1.6_United      volkswagen   \n3   Smart_smart_fortwo_coupe_softouch/F1/Klima/Pan...           smart   \n4   Ford_Focus_1_6_Benzin_TÜV_neu_ist_sehr_gepfleg...            ford   \n5   Chrysler_Grand_Voyager_2.8_CRD_Aut.Limited_Sto...        chrysler   \n6   VW_Golf_III_GT_Special_Electronic_Green_Metall...      volkswagen   \n7                                Golf_IV_1.9_TDI_90PS      volkswagen   \n8                                          Seat_Arosa            seat   \n9           Renault_Megane_Scenic_1.6e_RT_Klimaanlage         renault   \n11                         Mercedes_A140_Motorschaden   mercedes_benz   \n12  Smart_smart_fortwo_coupe_softouch_pure_MHD_Pan...           smart   \n13                                 Audi_A3_1.6_tuning            audi   \n14  Renault_Clio_3__Dynamique_1.2__16_V;_viele_Ver...         renault   \n15        Corvette_C3_Coupe_T_Top_Crossfire_Injection  sonstige_autos   \n16                                Opel_Vectra_B_Kombi            opel   \n17                          Volkswagen_Scirocco_2_G60      volkswagen   \n18               Verkaufen_mein_bmw_e36_320_i_touring             bmw   \n19        mazda_tribute_2.0_mit_gas_und_tuev_neu_2018           mazda   \n20  Audi_A4_Avant_1.9_TDI_*6_Gang*AHK*Klimatronik*...            audi   \n21                      Porsche_911_Carrera_4S_Cabrio         porsche   \n22                               MINI_Cooper_S_Cabrio            mini   \n23   Peugeot_Boxer_2_2_HDi_120_Ps_9_Sitzer_inkl_Klima         peugeot   \n24                         BMW_535i_xDrive_Sport_Aut.             bmw   \n26                                Volkswagen_Polo_Fox      volkswagen   \n28                                      MINI_Cooper_D            mini   \n29  Mercedes_Benz_E_320_T_CDI_Avantgarde_DPF7_Sitz...   mercedes_benz   \n31                          Noch_gut_erhaltenen_C_320   mercedes_benz   \n32                               Corsa_mit_TÜV_5.2016            opel   \n33  Audi_A3_2.0_TDI_Sportback_DPF_Kupplung_defekt_...            audi   \n34                            Bmw_530d__navi_tuv03/18             bmw   \n35                                        Ford_Mondeo            ford   \n36          Ford_Mondeo_2.0_Turnier_TDCi_DPF_Titanium            ford   \n37                 Seat_Altea_XL_2.0_TDI_CR_DPF_Style            seat   \n38                        Volkswagen_Golf_1.4_Special      volkswagen   \n39                 Mercedes_C_180_Kombi__zu_verkaufen   mercedes_benz   \n40  VW_Golf__4_Cabrio_2.0_GTI_16V___Leder_MFA_Alus...      volkswagen   \n41  Passat_3b_1.9_TDI_Highline__angemeldet_mit_tuv...      volkswagen   \n42  Vw_Polo_l.0_/60_PS_Blue_Motion_Technologie_Son...      volkswagen   \n43           Audi_A1_1.2_TFSI_Attraction_mit_Garantie            audi   \n44                                       Zu_verkaufen         renault   \n45                                 Toyota_Starlet_1.3          toyota   \n46                                       BMW_mit__Lpg             bmw   \n47                                Mercedes_Benz_A_150   mercedes_benz   \n48                           Mercedes_C180_Sport_1_8l   mercedes_benz   \n49    Mercedes_Benz_CL_500__BlueEFFICIENCY__7G_TRONIC   mercedes_benz   \n50  ??_????????_??Top!!!_Peugeot_308_sw_Sport_?...         peugeot   \n51                            Mercedes_Benz_S_320_CDI   mercedes_benz   \n52  Senator_A_3.0E_Karosserie_restauriert_m._viele...            opel   \n53      Dacia_Sandero_Stepway_II_MPI_85__top_gepflegt           dacia   \n\n       model  \n0     andere  \n1        7er  \n2       golf  \n3     fortwo  \n4      focus  \n5    voyager  \n6       golf  \n7       golf  \n8      arosa  \n9     megane  \n11       NaN  \n12    fortwo  \n13        a3  \n14      clio  \n15       NaN  \n16    vectra  \n17  scirocco  \n18       3er  \n19    andere  \n20        a4  \n21       911  \n22    cooper  \n23       NaN  \n24       5er  \n26      polo  \n28    cooper  \n29  e_klasse  \n31  c_klasse  \n32     corsa  \n33        a3  \n34       5er  \n35    mondeo  \n36    mondeo  \n37     altea  \n38      golf  \n39  c_klasse  \n40      golf  \n41       NaN  \n42      polo  \n43        a1  \n44    twingo  \n45    andere  \n46       NaN  \n47  a_klasse  \n48  c_klasse  \n49        cl  \n50   3_reihe  \n51  s_klasse  \n52    andere  \n53   sandero  ",
      "text/html": "<div>\n<style scoped>\n    .dataframe tbody tr th:only-of-type {\n        vertical-align: middle;\n    }\n\n    .dataframe tbody tr th {\n        vertical-align: top;\n    }\n\n    .dataframe thead th {\n        text-align: right;\n    }\n</style>\n<table border=\"1\" class=\"dataframe\">\n  <thead>\n    <tr style=\"text-align: right;\">\n      <th></th>\n      <th>name</th>\n      <th>brand</th>\n      <th>model</th>\n    </tr>\n  </thead>\n  <tbody>\n    <tr>\n      <th>0</th>\n      <td>Peugeot_807_160_NAVTECH_ON_BOARD</td>\n      <td>peugeot</td>\n      <td>andere</td>\n    </tr>\n    <tr>\n      <th>1</th>\n      <td>BMW_740i_4_4_Liter_HAMANN_UMBAU_Mega_Optik</td>\n      <td>bmw</td>\n      <td>7er</td>\n    </tr>\n    <tr>\n      <th>2</th>\n      <td>Volkswagen_Golf_1.6_United</td>\n      <td>volkswagen</td>\n      <td>golf</td>\n    </tr>\n    <tr>\n      <th>3</th>\n      <td>Smart_smart_fortwo_coupe_softouch/F1/Klima/Pan...</td>\n      <td>smart</td>\n      <td>fortwo</td>\n    </tr>\n    <tr>\n      <th>4</th>\n      <td>Ford_Focus_1_6_Benzin_TÜV_neu_ist_sehr_gepfleg...</td>\n      <td>ford</td>\n      <td>focus</td>\n    </tr>\n    <tr>\n      <th>5</th>\n      <td>Chrysler_Grand_Voyager_2.8_CRD_Aut.Limited_Sto...</td>\n      <td>chrysler</td>\n      <td>voyager</td>\n    </tr>\n    <tr>\n      <th>6</th>\n      <td>VW_Golf_III_GT_Special_Electronic_Green_Metall...</td>\n      <td>volkswagen</td>\n      <td>golf</td>\n    </tr>\n    <tr>\n      <th>7</th>\n      <td>Golf_IV_1.9_TDI_90PS</td>\n      <td>volkswagen</td>\n      <td>golf</td>\n    </tr>\n    <tr>\n      <th>8</th>\n      <td>Seat_Arosa</td>\n      <td>seat</td>\n      <td>arosa</td>\n    </tr>\n    <tr>\n      <th>9</th>\n      <td>Renault_Megane_Scenic_1.6e_RT_Klimaanlage</td>\n      <td>renault</td>\n      <td>megane</td>\n    </tr>\n    <tr>\n      <th>11</th>\n      <td>Mercedes_A140_Motorschaden</td>\n      <td>mercedes_benz</td>\n      <td>NaN</td>\n    </tr>\n    <tr>\n      <th>12</th>\n      <td>Smart_smart_fortwo_coupe_softouch_pure_MHD_Pan...</td>\n      <td>smart</td>\n      <td>fortwo</td>\n    </tr>\n    <tr>\n      <th>13</th>\n      <td>Audi_A3_1.6_tuning</td>\n      <td>audi</td>\n      <td>a3</td>\n    </tr>\n    <tr>\n      <th>14</th>\n      <td>Renault_Clio_3__Dynamique_1.2__16_V;_viele_Ver...</td>\n      <td>renault</td>\n      <td>clio</td>\n    </tr>\n    <tr>\n      <th>15</th>\n      <td>Corvette_C3_Coupe_T_Top_Crossfire_Injection</td>\n      <td>sonstige_autos</td>\n      <td>NaN</td>\n    </tr>\n    <tr>\n      <th>16</th>\n      <td>Opel_Vectra_B_Kombi</td>\n      <td>opel</td>\n      <td>vectra</td>\n    </tr>\n    <tr>\n      <th>17</th>\n      <td>Volkswagen_Scirocco_2_G60</td>\n      <td>volkswagen</td>\n      <td>scirocco</td>\n    </tr>\n    <tr>\n      <th>18</th>\n      <td>Verkaufen_mein_bmw_e36_320_i_touring</td>\n      <td>bmw</td>\n      <td>3er</td>\n    </tr>\n    <tr>\n      <th>19</th>\n      <td>mazda_tribute_2.0_mit_gas_und_tuev_neu_2018</td>\n      <td>mazda</td>\n      <td>andere</td>\n    </tr>\n    <tr>\n      <th>20</th>\n      <td>Audi_A4_Avant_1.9_TDI_*6_Gang*AHK*Klimatronik*...</td>\n      <td>audi</td>\n      <td>a4</td>\n    </tr>\n    <tr>\n      <th>21</th>\n      <td>Porsche_911_Carrera_4S_Cabrio</td>\n      <td>porsche</td>\n      <td>911</td>\n    </tr>\n    <tr>\n      <th>22</th>\n      <td>MINI_Cooper_S_Cabrio</td>\n      <td>mini</td>\n      <td>cooper</td>\n    </tr>\n    <tr>\n      <th>23</th>\n      <td>Peugeot_Boxer_2_2_HDi_120_Ps_9_Sitzer_inkl_Klima</td>\n      <td>peugeot</td>\n      <td>NaN</td>\n    </tr>\n    <tr>\n      <th>24</th>\n      <td>BMW_535i_xDrive_Sport_Aut.</td>\n      <td>bmw</td>\n      <td>5er</td>\n    </tr>\n    <tr>\n      <th>26</th>\n      <td>Volkswagen_Polo_Fox</td>\n      <td>volkswagen</td>\n      <td>polo</td>\n    </tr>\n    <tr>\n      <th>28</th>\n      <td>MINI_Cooper_D</td>\n      <td>mini</td>\n      <td>cooper</td>\n    </tr>\n    <tr>\n      <th>29</th>\n      <td>Mercedes_Benz_E_320_T_CDI_Avantgarde_DPF7_Sitz...</td>\n      <td>mercedes_benz</td>\n      <td>e_klasse</td>\n    </tr>\n    <tr>\n      <th>31</th>\n      <td>Noch_gut_erhaltenen_C_320</td>\n      <td>mercedes_benz</td>\n      <td>c_klasse</td>\n    </tr>\n    <tr>\n      <th>32</th>\n      <td>Corsa_mit_TÜV_5.2016</td>\n      <td>opel</td>\n      <td>corsa</td>\n    </tr>\n    <tr>\n      <th>33</th>\n      <td>Audi_A3_2.0_TDI_Sportback_DPF_Kupplung_defekt_...</td>\n      <td>audi</td>\n      <td>a3</td>\n    </tr>\n    <tr>\n      <th>34</th>\n      <td>Bmw_530d__navi_tuv03/18</td>\n      <td>bmw</td>\n      <td>5er</td>\n    </tr>\n    <tr>\n      <th>35</th>\n      <td>Ford_Mondeo</td>\n      <td>ford</td>\n      <td>mondeo</td>\n    </tr>\n    <tr>\n      <th>36</th>\n      <td>Ford_Mondeo_2.0_Turnier_TDCi_DPF_Titanium</td>\n      <td>ford</td>\n      <td>mondeo</td>\n    </tr>\n    <tr>\n      <th>37</th>\n      <td>Seat_Altea_XL_2.0_TDI_CR_DPF_Style</td>\n      <td>seat</td>\n      <td>altea</td>\n    </tr>\n    <tr>\n      <th>38</th>\n      <td>Volkswagen_Golf_1.4_Special</td>\n      <td>volkswagen</td>\n      <td>golf</td>\n    </tr>\n    <tr>\n      <th>39</th>\n      <td>Mercedes_C_180_Kombi__zu_verkaufen</td>\n      <td>mercedes_benz</td>\n      <td>c_klasse</td>\n    </tr>\n    <tr>\n      <th>40</th>\n      <td>VW_Golf__4_Cabrio_2.0_GTI_16V___Leder_MFA_Alus...</td>\n      <td>volkswagen</td>\n      <td>golf</td>\n    </tr>\n    <tr>\n      <th>41</th>\n      <td>Passat_3b_1.9_TDI_Highline__angemeldet_mit_tuv...</td>\n      <td>volkswagen</td>\n      <td>NaN</td>\n    </tr>\n    <tr>\n      <th>42</th>\n      <td>Vw_Polo_l.0_/60_PS_Blue_Motion_Technologie_Son...</td>\n      <td>volkswagen</td>\n      <td>polo</td>\n    </tr>\n    <tr>\n      <th>43</th>\n      <td>Audi_A1_1.2_TFSI_Attraction_mit_Garantie</td>\n      <td>audi</td>\n      <td>a1</td>\n    </tr>\n    <tr>\n      <th>44</th>\n      <td>Zu_verkaufen</td>\n      <td>renault</td>\n      <td>twingo</td>\n    </tr>\n    <tr>\n      <th>45</th>\n      <td>Toyota_Starlet_1.3</td>\n      <td>toyota</td>\n      <td>andere</td>\n    </tr>\n    <tr>\n      <th>46</th>\n      <td>BMW_mit__Lpg</td>\n      <td>bmw</td>\n      <td>NaN</td>\n    </tr>\n    <tr>\n      <th>47</th>\n      <td>Mercedes_Benz_A_150</td>\n      <td>mercedes_benz</td>\n      <td>a_klasse</td>\n    </tr>\n    <tr>\n      <th>48</th>\n      <td>Mercedes_C180_Sport_1_8l</td>\n      <td>mercedes_benz</td>\n      <td>c_klasse</td>\n    </tr>\n    <tr>\n      <th>49</th>\n      <td>Mercedes_Benz_CL_500__BlueEFFICIENCY__7G_TRONIC</td>\n      <td>mercedes_benz</td>\n      <td>cl</td>\n    </tr>\n    <tr>\n      <th>50</th>\n      <td>??_????????_??Top!!!_Peugeot_308_sw_Sport_?...</td>\n      <td>peugeot</td>\n      <td>3_reihe</td>\n    </tr>\n    <tr>\n      <th>51</th>\n      <td>Mercedes_Benz_S_320_CDI</td>\n      <td>mercedes_benz</td>\n      <td>s_klasse</td>\n    </tr>\n    <tr>\n      <th>52</th>\n      <td>Senator_A_3.0E_Karosserie_restauriert_m._viele...</td>\n      <td>opel</td>\n      <td>andere</td>\n    </tr>\n    <tr>\n      <th>53</th>\n      <td>Dacia_Sandero_Stepway_II_MPI_85__top_gepflegt</td>\n      <td>dacia</td>\n      <td>sandero</td>\n    </tr>\n  </tbody>\n</table>\n</div>"
     },
     "execution_count": 42,
     "metadata": {},
     "output_type": "execute_result"
    }
   ],
   "source": [
    "autos[['name', 'brand', 'model']].head(50)\n",
    "# Later Analysis"
   ],
   "metadata": {
    "collapsed": false
   }
  },
  {
   "cell_type": "markdown",
   "source": [
    "### Find the most common brand/model combinations"
   ],
   "metadata": {
    "collapsed": false
   }
  },
  {
   "cell_type": "code",
   "execution_count": null,
   "outputs": [],
   "source": [],
   "metadata": {
    "collapsed": false
   }
  },
  {
   "cell_type": "markdown",
   "source": [
    "### Find Patterns in Odometer Columns\n",
    "Split the odometer_km into groups, and use aggregation to see if average prices follows any patterns based on the mileage."
   ],
   "metadata": {
    "collapsed": false
   }
  },
  {
   "cell_type": "code",
   "execution_count": 42,
   "outputs": [],
   "source": [],
   "metadata": {
    "collapsed": false
   }
  },
  {
   "cell_type": "markdown",
   "source": [
    "### Determine Relationship between Price and Un-repaired Damage\n",
    "How much cheaper are cars with damage than their non-damaged counterparts?"
   ],
   "metadata": {
    "collapsed": false
   }
  },
  {
   "cell_type": "code",
   "execution_count": 42,
   "outputs": [],
   "source": [],
   "metadata": {
    "collapsed": false
   }
  }
 ],
 "metadata": {
  "kernelspec": {
   "display_name": "Python 3",
   "language": "python",
   "name": "python3"
  },
  "language_info": {
   "codemirror_mode": {
    "name": "ipython",
    "version": 3
   },
   "file_extension": ".py",
   "mimetype": "text/x-python",
   "name": "python",
   "nbconvert_exporter": "python",
   "pygments_lexer": "ipython3",
   "version": "3.4.4"
  }
 },
 "nbformat": 4,
 "nbformat_minor": 2
}

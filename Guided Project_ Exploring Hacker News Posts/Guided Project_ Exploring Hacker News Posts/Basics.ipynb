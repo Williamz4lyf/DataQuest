{
 "cells": [
  {
   "cell_type": "markdown",
   "source": [
    "# Exploring Hacker News Posts\n",
    "This project will analyze a dataset of submissions to popular technology site 'Hacker News'.\n",
    "\n",
    "### Description of Columns in the Dataset\n",
    "1. id: the unique identifier from Hacker News for the post\n",
    "2. title: the title of the post\n",
    "3. url: the URL that the posts links to, if the post has a URL\n",
    "4. num_points: the number of points the post acquired, calculated as the total number of upvotes minus the total number of downvotes\n",
    "5. num_comments: the number of comments on the post\n",
    "6. author: the username of the person who submitted the post\n",
    "7. created_at: the date and time of the post's submission"
   ],
   "metadata": {
    "collapsed": false
   }
  },
  {
   "cell_type": "code",
   "execution_count": 1,
   "metadata": {
    "collapsed": true
   },
   "outputs": [
    {
     "name": "stdout",
     "output_type": "stream",
     "text": [
      "['id', 'title', 'url', 'num_points', 'num_comments', 'author', 'created_at']\n",
      "[['12224879', 'Interactive Dynamic Video', 'http://www.interactivedynamicvideo.com/', '386', '52', 'ne0phyte', '8/4/2016 11:52'], ['10975351', 'How to Use Open Source and Shut the Fuck Up at the Same Time', 'http://hueniverse.com/2016/01/26/how-to-use-open-source-and-shut-the-fuck-up-at-the-same-time/', '39', '10', 'josep2', '1/26/2016 19:30'], ['11964716', \"Florida DJs May Face Felony for April Fools' Water Joke\", 'http://www.thewire.com/entertainment/2013/04/florida-djs-april-fools-water-joke/63798/', '2', '1', 'vezycash', '6/23/2016 22:20'], ['11919867', 'Technology ventures: From Idea to Enterprise', 'https://www.amazon.com/Technology-Ventures-Enterprise-Thomas-Byers/dp/0073523429', '3', '1', 'hswarna', '6/17/2016 0:01'], ['10301696', 'Note by Note: The Making of Steinway L1037 (2007)', 'http://www.nytimes.com/2007/11/07/movies/07stein.html?_r=0', '8', '2', 'walterbell', '9/30/2015 4:12']]\n"
     ]
    }
   ],
   "source": [
    "# Read the dataset\n",
    "from csv import reader\n",
    "\n",
    "# Read the `hacker_news.csv` file\n",
    "opened_file = open('hacker_news.csv')\n",
    "read_file = reader(opened_file)\n",
    "hn = list(read_file)\n",
    "hn_h = hn[0]\n",
    "hn = hn[1:]\n",
    "\n",
    "print(hn_h)\n",
    "print(hn[0:5])"
   ]
  },
  {
   "cell_type": "markdown",
   "source": [
    "### Extracting Ask HN and Show HN Posts"
   ],
   "metadata": {
    "collapsed": false
   }
  },
  {
   "cell_type": "code",
   "execution_count": 2,
   "outputs": [
    {
     "name": "stdout",
     "output_type": "stream",
     "text": [
      "1744\n",
      "1162\n",
      "17194\n"
     ]
    }
   ],
   "source": [
    "ask_posts = list()\n",
    "show_posts = list()\n",
    "other_posts = list()\n",
    "\n",
    "for row in hn:\n",
    "    title = row[1]\n",
    "    if title.lower().startswith('ask hn'):\n",
    "        ask_posts.append(row)\n",
    "    elif title.lower().startswith('show hn'):\n",
    "        show_posts.append(row)\n",
    "    else:\n",
    "        other_posts.append(row)\n",
    "\n",
    "print(len(ask_posts))\n",
    "print(len(show_posts))\n",
    "print(len(other_posts))"
   ],
   "metadata": {
    "collapsed": false
   }
  },
  {
   "cell_type": "markdown",
   "source": [
    "### Calculating the Average Number of Comments for Ask HN and Show HN Posts\n",
    "We will determine if ask posts or show posts receive more comments on average.\n",
    "\n",
    "Users submit Ask HN posts to ask the Hacker News community a specific question and Show HN posts to show the Hacker News community a project, product, or just something interesting."
   ],
   "metadata": {
    "collapsed": false
   }
  },
  {
   "cell_type": "code",
   "execution_count": 3,
   "outputs": [
    {
     "name": "stdout",
     "output_type": "stream",
     "text": [
      "[['12296411', 'Ask HN: How to improve my personal website?', '', '2', '6', 'ahmedbaracat', '8/16/2016 9:55'], ['10610020', 'Ask HN: Am I the only one outraged by Twitter shutting down share counts?', '', '28', '29', 'tkfx', '11/22/2015 13:43'], ['11610310', 'Ask HN: Aby recent changes to CSS that broke mobile?', '', '1', '1', 'polskibus', '5/2/2016 10:14'], ['12210105', 'Ask HN: Looking for Employee #3 How do I do it?', '', '1', '3', 'sph130', '8/2/2016 14:20'], ['10394168', 'Ask HN: Someone offered to buy my browser extension from me. What now?', '', '28', '17', 'roykolak', '10/15/2015 16:38']]\n"
     ]
    }
   ],
   "source": [
    "print(ask_posts[0:5])"
   ],
   "metadata": {
    "collapsed": false
   }
  },
  {
   "cell_type": "code",
   "execution_count": 4,
   "outputs": [
    {
     "name": "stdout",
     "output_type": "stream",
     "text": [
      "[['10627194', 'Show HN: Wio Link  ESP8266 Based Web of Things Hardware Development Platform', 'https://iot.seeed.cc', '26', '22', 'kfihihc', '11/25/2015 14:03'], ['10646440', 'Show HN: Something pointless I made', 'http://dn.ht/picklecat/', '747', '102', 'dhotson', '11/29/2015 22:46'], ['11590768', 'Show HN: Shanhu.io, a programming playground powered by e8vm', 'https://shanhu.io', '1', '1', 'h8liu', '4/28/2016 18:05'], ['12178806', 'Show HN: Webscope  Easy way for web developers to communicate with Clients', 'http://webscopeapp.com', '3', '3', 'fastbrick', '7/28/2016 7:11'], ['10872799', 'Show HN: GeoScreenshot  Easily test Geo-IP based web pages', 'https://www.geoscreenshot.com/', '1', '9', 'kpsychwave', '1/9/2016 20:45']]\n"
     ]
    }
   ],
   "source": [
    "print(show_posts[0:5])"
   ],
   "metadata": {
    "collapsed": false
   }
  },
  {
   "cell_type": "code",
   "execution_count": 5,
   "outputs": [
    {
     "data": {
      "text/plain": "14.038417431192661"
     },
     "execution_count": 5,
     "metadata": {},
     "output_type": "execute_result"
    }
   ],
   "source": [
    "total_ask_comments = 0\n",
    "len_ask_comments = 0\n",
    "for row in ask_posts:\n",
    "    num_comments = int(row[4])\n",
    "    total_ask_comments += num_comments\n",
    "    len_ask_comments += 1\n",
    "\n",
    "avg_ask_comments = total_ask_comments / len_ask_comments\n",
    "avg_ask_comments"
   ],
   "metadata": {
    "collapsed": false
   }
  },
  {
   "cell_type": "code",
   "execution_count": 6,
   "outputs": [
    {
     "data": {
      "text/plain": "10.31669535283993"
     },
     "execution_count": 6,
     "metadata": {},
     "output_type": "execute_result"
    }
   ],
   "source": [
    "total_show_comments = 0\n",
    "len_show_comments = 0\n",
    "for row in show_posts:\n",
    "    num_comments = int(row[4])\n",
    "    total_show_comments += num_comments\n",
    "    len_show_comments += 1\n",
    "\n",
    "avg_show_comments = total_show_comments / len_show_comments\n",
    "avg_show_comments"
   ],
   "metadata": {
    "collapsed": false
   }
  },
  {
   "cell_type": "markdown",
   "source": [
    "We can see that ask posts receive (+4) more comments on average than show posts. This may reflect that people engage with hacker news questions more than they engage with non questions or general sharing of information. This may be because a question requires an action from the reader more than a non-question, and it will be easier to engage with a question since the parameters of engagement are fairly predetermined."
   ],
   "metadata": {
    "collapsed": false
   }
  },
  {
   "cell_type": "markdown",
   "source": [
    "### Finding the Number of Ask Posts and Comments by Hour Created\n"
   ],
   "metadata": {
    "collapsed": false
   }
  },
  {
   "cell_type": "code",
   "execution_count": 7,
   "outputs": [
    {
     "name": "stdout",
     "output_type": "stream",
     "text": [
      "['id', 'title', 'url', 'num_points', 'num_comments', 'author', 'created_at']\n"
     ]
    },
    {
     "data": {
      "text/plain": "['10480565',\n 'Ask HN: How do I become a Data Engineer',\n '',\n '7',\n '2',\n 'josep2',\n '10/30/2015 21:12']"
     },
     "execution_count": 7,
     "metadata": {},
     "output_type": "execute_result"
    }
   ],
   "source": [
    "print(hn_h)\n",
    "ask_posts[100]"
   ],
   "metadata": {
    "collapsed": false
   }
  },
  {
   "cell_type": "code",
   "execution_count": 8,
   "outputs": [],
   "source": [
    "import datetime as dt\n",
    "\n",
    "result_list = list()\n",
    "\n",
    "for row in ask_posts:\n",
    "    created_at = row[6]\n",
    "    num_comments = int(row[4])\n",
    "    new_list = [created_at, num_comments]\n",
    "    result_list.append(new_list)\n"
   ],
   "metadata": {
    "collapsed": false
   }
  },
  {
   "cell_type": "code",
   "execution_count": 9,
   "outputs": [],
   "source": [
    "counts_by_hour = dict()\n",
    "comments_by_hour = dict()\n",
    "\n",
    "for row in result_list:\n",
    "    time = row[0]\n",
    "    comments = row[1]\n",
    "    time = dt.datetime.strptime(time, \"%m/%d/%Y %H:%M\")\n",
    "    hour = dt.datetime.strftime(time, '%H')\n",
    "    if hour in counts_by_hour:\n",
    "        counts_by_hour[hour] += 1\n",
    "        comments_by_hour[hour] += comments\n",
    "    else:\n",
    "        counts_by_hour[hour] = 1\n",
    "        comments_by_hour[hour] = comments\n"
   ],
   "metadata": {
    "collapsed": false
   }
  },
  {
   "cell_type": "code",
   "execution_count": 10,
   "outputs": [
    {
     "name": "stdout",
     "output_type": "stream",
     "text": [
      "{'09': 45, '13': 85, '10': 59, '14': 107, '16': 108, '23': 68, '12': 73, '17': 100, '15': 116, '21': 109, '20': 80, '02': 58, '18': 109, '03': 54, '05': 46, '19': 110, '01': 60, '22': 71, '08': 48, '04': 47, '00': 55, '06': 44, '07': 34, '11': 58}\n",
      "{'09': 251, '13': 1253, '10': 793, '14': 1416, '16': 1814, '23': 543, '12': 687, '17': 1146, '15': 4477, '21': 1745, '20': 1722, '02': 1381, '18': 1439, '03': 421, '05': 464, '19': 1188, '01': 683, '22': 479, '08': 492, '04': 337, '00': 447, '06': 397, '07': 267, '11': 641}\n"
     ]
    }
   ],
   "source": [
    "print(counts_by_hour)\n",
    "print(comments_by_hour)"
   ],
   "metadata": {
    "collapsed": false
   }
  },
  {
   "cell_type": "markdown",
   "source": [
    "### Calculating the Average Number of Comments for Ask HN Posts by Hour\n",
    "\n",
    "From the analysis above:\n",
    "* counts_by_hour contains the number of ask posts created during each hour of the day.\n",
    "* comments_by_hour contains the corresponding number of comments ask posts created at each hour received.\n",
    "\n",
    "We'll use these two dictionaries to calculate the average number of comments for posts created during each hour of the day."
   ],
   "metadata": {
    "collapsed": false
   }
  },
  {
   "cell_type": "code",
   "execution_count": 11,
   "outputs": [
    {
     "data": {
      "text/plain": "[['09', 5.5777777777777775],\n ['13', 14.741176470588234],\n ['10', 13.440677966101696],\n ['14', 13.233644859813085],\n ['16', 16.796296296296298],\n ['23', 7.985294117647059],\n ['12', 9.41095890410959],\n ['17', 11.46],\n ['15', 38.5948275862069],\n ['21', 16.009174311926607],\n ['20', 21.525],\n ['02', 23.810344827586206],\n ['18', 13.20183486238532],\n ['03', 7.796296296296297],\n ['05', 10.08695652173913],\n ['19', 10.8],\n ['01', 11.383333333333333],\n ['22', 6.746478873239437],\n ['08', 10.25],\n ['04', 7.170212765957447],\n ['00', 8.127272727272727],\n ['06', 9.022727272727273],\n ['07', 7.852941176470588],\n ['11', 11.051724137931034]]"
     },
     "execution_count": 11,
     "metadata": {},
     "output_type": "execute_result"
    }
   ],
   "source": [
    "avg_by_hour = list()\n",
    "for hour in comments_by_hour:\n",
    "    if hour in counts_by_hour:\n",
    "        avg_by_hour.append([hour, comments_by_hour[hour]/counts_by_hour[hour]])\n",
    "\n",
    "avg_by_hour"
   ],
   "metadata": {
    "collapsed": false
   }
  },
  {
   "cell_type": "markdown",
   "source": [
    "### Sorting and Printing Values from a List of Lists"
   ],
   "metadata": {
    "collapsed": false
   }
  },
  {
   "cell_type": "code",
   "execution_count": 13,
   "outputs": [
    {
     "data": {
      "text/plain": "[[5.5777777777777775, '09'],\n [14.741176470588234, '13'],\n [13.440677966101696, '10'],\n [13.233644859813085, '14'],\n [16.796296296296298, '16'],\n [7.985294117647059, '23'],\n [9.41095890410959, '12'],\n [11.46, '17'],\n [38.5948275862069, '15'],\n [16.009174311926607, '21'],\n [21.525, '20'],\n [23.810344827586206, '02'],\n [13.20183486238532, '18'],\n [7.796296296296297, '03'],\n [10.08695652173913, '05'],\n [10.8, '19'],\n [11.383333333333333, '01'],\n [6.746478873239437, '22'],\n [10.25, '08'],\n [7.170212765957447, '04'],\n [8.127272727272727, '00'],\n [9.022727272727273, '06'],\n [7.852941176470588, '07'],\n [11.051724137931034, '11']]"
     },
     "execution_count": 13,
     "metadata": {},
     "output_type": "execute_result"
    }
   ],
   "source": [
    "swap_avg_by_hour = list()\n",
    "for row in avg_by_hour:\n",
    "    time = row[0]\n",
    "    avg_comments = row[1]\n",
    "    swap_avg_by_hour.append([avg_comments, time])\n",
    "\n",
    "swap_avg_by_hour"
   ],
   "metadata": {
    "collapsed": false
   }
  },
  {
   "cell_type": "code",
   "execution_count": 15,
   "outputs": [],
   "source": [
    "sorted_swap = sorted(swap_avg_by_hour, reverse=True)"
   ],
   "metadata": {
    "collapsed": false
   }
  },
  {
   "cell_type": "code",
   "execution_count": 21,
   "outputs": [
    {
     "name": "stdout",
     "output_type": "stream",
     "text": [
      "Top 5 Hours for Ask Posts Comments\n",
      "15:00: 38.59 average comments per post\n",
      "02:00: 23.81 average comments per post\n",
      "20:00: 21.52 average comments per post\n",
      "16:00: 16.80 average comments per post\n",
      "21:00: 16.01 average comments per post\n"
     ]
    }
   ],
   "source": [
    "import datetime as dt\n",
    "descriptive_str = 'Top 5 Hours for Ask Posts Comments'\n",
    "print(descriptive_str)\n",
    "\n",
    "for row in sorted_swap[0:5]:\n",
    "    time = dt.datetime.strptime(row[1], '%H')\n",
    "    time = dt.datetime.strftime(time, '%H:%M')\n",
    "    avg_comments = row[0]\n",
    "    print(f'{time}: {avg_comments:.2f} average comments per post')"
   ],
   "metadata": {
    "collapsed": false
   }
  },
  {
   "cell_type": "markdown",
   "source": [
    "From our analysis, posting a question (Ask HN) around 3pm Eastern Time will result in the most comments on average."
   ],
   "metadata": {
    "collapsed": false
   }
  }
 ],
 "metadata": {
  "kernelspec": {
   "display_name": "Python 3",
   "language": "python",
   "name": "python3"
  },
  "language_info": {
   "codemirror_mode": {
    "name": "ipython",
    "version": 3
   },
   "file_extension": ".py",
   "mimetype": "text/x-python",
   "name": "python",
   "nbconvert_exporter": "python",
   "pygments_lexer": "ipython3",
   "version": "3.4.4"
  }
 },
 "nbformat": 4,
 "nbformat_minor": 2
}
